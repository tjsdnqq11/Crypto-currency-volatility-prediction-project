{
  "cells": [
    {
      "cell_type": "code",
      "execution_count": null,
      "metadata": {
        "id": "EmSq-6GITgal"
      },
      "outputs": [],
      "source": [
        "import lightgbm as lgb\n",
        "import pandas as pd\n",
        "import numpy as np\n",
        "from sklearn.model_selection import TimeSeriesSplit\n",
        "from sklearn.model_selection import train_test_split\n",
        "from sklearn.metrics import mean_squared_error\n",
        "from sklearn.model_selection import KFold, cross_val_score\n",
        "from sklearn.preprocessing import StandardScaler, MinMaxScaler\n",
        "import optuna\n",
        "from lightgbm.callback import early_stopping\n"
      ]
    },
    {
      "cell_type": "code",
      "execution_count": null,
      "metadata": {
        "id": "_cJUSo_YT1c1"
      },
      "outputs": [],
      "source": [
        "# RMSPE 계산 함수\n",
        "def rmspe(y_true, y_pred):\n",
        "    return  np.sqrt(np.mean(np.square((y_true - y_pred) / (y_true))))\n",
        "\n",
        "# LightGBM에서 사용할 수 있는 형태의 RMSPE 평가 함수\n",
        "def rmspe_lgb(y_pred, data):\n",
        "    y_true = data.get_label()\n",
        "    return 'RMSPE', rmspe(y_true, y_pred), False"
      ]
    },
    {
      "cell_type": "code",
      "execution_count": null,
      "metadata": {
        "colab": {
          "base_uri": "https://localhost:8080/"
        },
        "id": "u7rJhbHtT7O8",
        "outputId": "dca2fd81-6ca6-47f4-fe7b-f0ba860e8591"
      },
      "outputs": [
        {
          "data": {
            "text/plain": [
              "(66696, 129)"
            ]
          },
          "execution_count": 43,
          "metadata": {},
          "output_type": "execute_result"
        }
      ],
      "source": [
        "df = pd.read_csv('./btc_selected_df_1.csv')\n",
        "df.drop('Unnamed: 0', axis = 1, inplace = True)\n",
        "df.shape"
      ]
    },
    {
      "cell_type": "markdown",
      "metadata": {
        "id": "pb7DB5Oj6K6w"
      },
      "source": []
    },
    {
      "attachments": {},
      "cell_type": "markdown",
      "metadata": {
        "id": "J-BWphvv6NtJ"
      },
      "source": [
        "# optuna를 활용한 파라미터 optimization"
      ]
    },
    {
      "cell_type": "code",
      "execution_count": null,
      "metadata": {
        "id": "r3Mni_YX7uV0"
      },
      "outputs": [],
      "source": [
        "X = df.drop('dv5_realized_volatility_mean0', axis =1)\n",
        "y = df['dv5_realized_volatility_mean0']"
      ]
    },
    {
      "cell_type": "code",
      "execution_count": null,
      "metadata": {
        "id": "J-p7R6UT6O5l"
      },
      "outputs": [],
      "source": [
        "# 최적화할 목적 함수 정의\n",
        "def objective(trial):\n",
        "    # 하이퍼파라미터 범위 설정\n",
        "    param = {\n",
        "        'objective': 'regression',\n",
        "        'metric': 'rmse',\n",
        "        'verbosity': -1,\n",
        "        'boosting_type': 'gbdt',\n",
        "        'lambda_l1': trial.suggest_loguniform('lambda_l1', 1e-8, 10.0),\n",
        "        'lambda_l2': trial.suggest_loguniform('lambda_l2', 1e-8, 10.0),\n",
        "        'num_leaves': trial.suggest_int('num_leaves', 20, 80),\n",
        "        'feature_fraction': trial.suggest_uniform('feature_fraction', 0.4, 1.0),\n",
        "        'bagging_fraction': trial.suggest_uniform('bagging_fraction', 0.4, 1.0),\n",
        "        'bagging_freq': trial.suggest_int('bagging_freq', 1, 7),\n",
        "        'min_child_samples': trial.suggest_int('min_child_samples', 5, 100),\n",
        "        'learning_rate': trial.suggest_loguniform('learning_rate', 0.01, 0.3),\n",
        "        'max_depth': trial.suggest_int('max_depth', 5, 20),\n",
        "    }\n",
        "\n",
        "    # K-Fold 교차 검증\n",
        "    kf = KFold(n_splits=5)\n",
        "    rmspes = []\n",
        "\n",
        "    for train_index, test_index in kf.split(X):\n",
        "        X_train, X_test = X.iloc[train_index], X.iloc[test_index]\n",
        "        y_train, y_test = y.iloc[train_index], y.iloc[test_index]\n",
        "\n",
        "        X_train, X_valid, y_train, y_valid = train_test_split(X_train, y_train, test_size=0.2, shuffle = False)\n",
        "\n",
        "        # 모델 훈련\n",
        "        gbm = lgb.train(param, lgb.Dataset(X_train, label=y_train), 500,\n",
        "                        valid_sets = lgb.Dataset(X_valid, label=y_valid),\n",
        "                        callbacks=[early_stopping(stopping_rounds=20)])\n",
        "\n",
        "        # 예측 및 평가\n",
        "        preds = gbm.predict(X_test, num_iteration=gbm.best_iteration)\n",
        "        rmspe_value = rmspe(y_test, preds)\n",
        "        rmspes.append(rmspe_value)\n",
        "\n",
        "\n",
        "    avg_rmspe = np.mean(rmspes)\n",
        "\n",
        "    return avg_rmspe\n",
        "\n"
      ]
    },
    {
      "cell_type": "code",
      "execution_count": null,
      "metadata": {
        "id": "SVFjEQXDIFOd"
      },
      "outputs": [],
      "source": []
    },
    {
      "cell_type": "code",
      "execution_count": null,
      "metadata": {
        "colab": {
          "base_uri": "https://localhost:8080/"
        },
        "id": "wcVdSc0r7sZU",
        "outputId": "48aaa912-259c-4b7f-c6f0-e61f3a991203"
      },
      "outputs": [
        {
          "name": "stderr",
          "output_type": "stream",
          "text": [
            "[I 2023-10-28 14:32:54,958] A new study created in memory with name: no-name-eb3963f9-4ffc-4787-85fc-d0b0ee9d1f79\n",
            "<ipython-input-45-3d6f33735477>:9: FutureWarning: suggest_loguniform has been deprecated in v3.0.0. This feature will be removed in v6.0.0. See https://github.com/optuna/optuna/releases/tag/v3.0.0. Use suggest_float(..., log=True) instead.\n",
            "  'lambda_l1': trial.suggest_loguniform('lambda_l1', 1e-8, 10.0),\n",
            "<ipython-input-45-3d6f33735477>:10: FutureWarning: suggest_loguniform has been deprecated in v3.0.0. This feature will be removed in v6.0.0. See https://github.com/optuna/optuna/releases/tag/v3.0.0. Use suggest_float(..., log=True) instead.\n",
            "  'lambda_l2': trial.suggest_loguniform('lambda_l2', 1e-8, 10.0),\n",
            "<ipython-input-45-3d6f33735477>:12: FutureWarning: suggest_uniform has been deprecated in v3.0.0. This feature will be removed in v6.0.0. See https://github.com/optuna/optuna/releases/tag/v3.0.0. Use suggest_float instead.\n",
            "  'feature_fraction': trial.suggest_uniform('feature_fraction', 0.4, 1.0),\n",
            "<ipython-input-45-3d6f33735477>:13: FutureWarning: suggest_uniform has been deprecated in v3.0.0. This feature will be removed in v6.0.0. See https://github.com/optuna/optuna/releases/tag/v3.0.0. Use suggest_float instead.\n",
            "  'bagging_fraction': trial.suggest_uniform('bagging_fraction', 0.4, 1.0),\n",
            "<ipython-input-45-3d6f33735477>:16: FutureWarning: suggest_loguniform has been deprecated in v3.0.0. This feature will be removed in v6.0.0. See https://github.com/optuna/optuna/releases/tag/v3.0.0. Use suggest_float(..., log=True) instead.\n",
            "  'learning_rate': trial.suggest_loguniform('learning_rate', 0.01, 0.3),\n"
          ]
        },
        {
          "name": "stdout",
          "output_type": "stream",
          "text": [
            "Training until validation scores don't improve for 20 rounds\n",
            "Early stopping, best iteration is:\n",
            "[123]\tvalid_0's rmse: 4.98108e-05\n",
            "Training until validation scores don't improve for 20 rounds\n",
            "Early stopping, best iteration is:\n",
            "[100]\tvalid_0's rmse: 4.97728e-05\n",
            "Training until validation scores don't improve for 20 rounds\n",
            "Early stopping, best iteration is:\n",
            "[137]\tvalid_0's rmse: 4.96869e-05\n",
            "Training until validation scores don't improve for 20 rounds\n",
            "Early stopping, best iteration is:\n",
            "[130]\tvalid_0's rmse: 4.96786e-05\n",
            "Training until validation scores don't improve for 20 rounds\n"
          ]
        },
        {
          "name": "stderr",
          "output_type": "stream",
          "text": [
            "[I 2023-10-28 14:33:27,295] Trial 0 finished with value: 0.4440975026843743 and parameters: {'lambda_l1': 0.0007218625245839275, 'lambda_l2': 0.19261774136743276, 'num_leaves': 45, 'feature_fraction': 0.9458766357182261, 'bagging_fraction': 0.8206406119744858, 'bagging_freq': 5, 'min_child_samples': 61, 'learning_rate': 0.03356754299216251, 'max_depth': 10}. Best is trial 0 with value: 0.4440975026843743.\n"
          ]
        },
        {
          "name": "stdout",
          "output_type": "stream",
          "text": [
            "Early stopping, best iteration is:\n",
            "[165]\tvalid_0's rmse: 5.56689e-05\n"
          ]
        },
        {
          "name": "stderr",
          "output_type": "stream",
          "text": [
            "<ipython-input-45-3d6f33735477>:9: FutureWarning: suggest_loguniform has been deprecated in v3.0.0. This feature will be removed in v6.0.0. See https://github.com/optuna/optuna/releases/tag/v3.0.0. Use suggest_float(..., log=True) instead.\n",
            "  'lambda_l1': trial.suggest_loguniform('lambda_l1', 1e-8, 10.0),\n",
            "<ipython-input-45-3d6f33735477>:10: FutureWarning: suggest_loguniform has been deprecated in v3.0.0. This feature will be removed in v6.0.0. See https://github.com/optuna/optuna/releases/tag/v3.0.0. Use suggest_float(..., log=True) instead.\n",
            "  'lambda_l2': trial.suggest_loguniform('lambda_l2', 1e-8, 10.0),\n",
            "<ipython-input-45-3d6f33735477>:12: FutureWarning: suggest_uniform has been deprecated in v3.0.0. This feature will be removed in v6.0.0. See https://github.com/optuna/optuna/releases/tag/v3.0.0. Use suggest_float instead.\n",
            "  'feature_fraction': trial.suggest_uniform('feature_fraction', 0.4, 1.0),\n",
            "<ipython-input-45-3d6f33735477>:13: FutureWarning: suggest_uniform has been deprecated in v3.0.0. This feature will be removed in v6.0.0. See https://github.com/optuna/optuna/releases/tag/v3.0.0. Use suggest_float instead.\n",
            "  'bagging_fraction': trial.suggest_uniform('bagging_fraction', 0.4, 1.0),\n",
            "<ipython-input-45-3d6f33735477>:16: FutureWarning: suggest_loguniform has been deprecated in v3.0.0. This feature will be removed in v6.0.0. See https://github.com/optuna/optuna/releases/tag/v3.0.0. Use suggest_float(..., log=True) instead.\n",
            "  'learning_rate': trial.suggest_loguniform('learning_rate', 0.01, 0.3),\n"
          ]
        },
        {
          "name": "stdout",
          "output_type": "stream",
          "text": [
            "Training until validation scores don't improve for 20 rounds\n",
            "Early stopping, best iteration is:\n",
            "[283]\tvalid_0's rmse: 4.92506e-05\n",
            "Training until validation scores don't improve for 20 rounds\n",
            "Early stopping, best iteration is:\n",
            "[181]\tvalid_0's rmse: 4.94911e-05\n",
            "Training until validation scores don't improve for 20 rounds\n",
            "Early stopping, best iteration is:\n",
            "[191]\tvalid_0's rmse: 4.96505e-05\n",
            "Training until validation scores don't improve for 20 rounds\n",
            "Early stopping, best iteration is:\n",
            "[124]\tvalid_0's rmse: 4.98494e-05\n",
            "Training until validation scores don't improve for 20 rounds\n"
          ]
        },
        {
          "name": "stderr",
          "output_type": "stream",
          "text": [
            "[I 2023-10-28 14:33:49,120] Trial 1 finished with value: 0.44941823912295853 and parameters: {'lambda_l1': 2.0728948595851687e-06, 'lambda_l2': 1.9444684136666441, 'num_leaves': 23, 'feature_fraction': 0.48394994490984405, 'bagging_fraction': 0.9308944710029983, 'bagging_freq': 2, 'min_child_samples': 34, 'learning_rate': 0.035151167132670455, 'max_depth': 17}. Best is trial 0 with value: 0.4440975026843743.\n"
          ]
        },
        {
          "name": "stdout",
          "output_type": "stream",
          "text": [
            "Early stopping, best iteration is:\n",
            "[145]\tvalid_0's rmse: 5.5457e-05\n"
          ]
        },
        {
          "name": "stderr",
          "output_type": "stream",
          "text": [
            "<ipython-input-45-3d6f33735477>:9: FutureWarning: suggest_loguniform has been deprecated in v3.0.0. This feature will be removed in v6.0.0. See https://github.com/optuna/optuna/releases/tag/v3.0.0. Use suggest_float(..., log=True) instead.\n",
            "  'lambda_l1': trial.suggest_loguniform('lambda_l1', 1e-8, 10.0),\n",
            "<ipython-input-45-3d6f33735477>:10: FutureWarning: suggest_loguniform has been deprecated in v3.0.0. This feature will be removed in v6.0.0. See https://github.com/optuna/optuna/releases/tag/v3.0.0. Use suggest_float(..., log=True) instead.\n",
            "  'lambda_l2': trial.suggest_loguniform('lambda_l2', 1e-8, 10.0),\n",
            "<ipython-input-45-3d6f33735477>:12: FutureWarning: suggest_uniform has been deprecated in v3.0.0. This feature will be removed in v6.0.0. See https://github.com/optuna/optuna/releases/tag/v3.0.0. Use suggest_float instead.\n",
            "  'feature_fraction': trial.suggest_uniform('feature_fraction', 0.4, 1.0),\n",
            "<ipython-input-45-3d6f33735477>:13: FutureWarning: suggest_uniform has been deprecated in v3.0.0. This feature will be removed in v6.0.0. See https://github.com/optuna/optuna/releases/tag/v3.0.0. Use suggest_float instead.\n",
            "  'bagging_fraction': trial.suggest_uniform('bagging_fraction', 0.4, 1.0),\n",
            "<ipython-input-45-3d6f33735477>:16: FutureWarning: suggest_loguniform has been deprecated in v3.0.0. This feature will be removed in v6.0.0. See https://github.com/optuna/optuna/releases/tag/v3.0.0. Use suggest_float(..., log=True) instead.\n",
            "  'learning_rate': trial.suggest_loguniform('learning_rate', 0.01, 0.3),\n"
          ]
        },
        {
          "name": "stdout",
          "output_type": "stream",
          "text": [
            "Training until validation scores don't improve for 20 rounds\n",
            "Early stopping, best iteration is:\n",
            "[16]\tvalid_0's rmse: 5.0157e-05\n",
            "Training until validation scores don't improve for 20 rounds\n",
            "Early stopping, best iteration is:\n",
            "[16]\tvalid_0's rmse: 5.02366e-05\n",
            "Training until validation scores don't improve for 20 rounds\n",
            "Early stopping, best iteration is:\n",
            "[15]\tvalid_0's rmse: 5.0292e-05\n",
            "Training until validation scores don't improve for 20 rounds\n",
            "Early stopping, best iteration is:\n",
            "[14]\tvalid_0's rmse: 5.00985e-05\n",
            "Training until validation scores don't improve for 20 rounds\n"
          ]
        },
        {
          "name": "stderr",
          "output_type": "stream",
          "text": [
            "[I 2023-10-28 14:33:57,009] Trial 2 finished with value: 0.44942469105934724 and parameters: {'lambda_l1': 0.00044581418832574546, 'lambda_l2': 0.14821658762428847, 'num_leaves': 58, 'feature_fraction': 0.7751238693907153, 'bagging_fraction': 0.6798438559453952, 'bagging_freq': 2, 'min_child_samples': 87, 'learning_rate': 0.28684572531200225, 'max_depth': 6}. Best is trial 0 with value: 0.4440975026843743.\n"
          ]
        },
        {
          "name": "stdout",
          "output_type": "stream",
          "text": [
            "Early stopping, best iteration is:\n",
            "[20]\tvalid_0's rmse: 5.59139e-05\n"
          ]
        },
        {
          "name": "stderr",
          "output_type": "stream",
          "text": [
            "<ipython-input-45-3d6f33735477>:9: FutureWarning: suggest_loguniform has been deprecated in v3.0.0. This feature will be removed in v6.0.0. See https://github.com/optuna/optuna/releases/tag/v3.0.0. Use suggest_float(..., log=True) instead.\n",
            "  'lambda_l1': trial.suggest_loguniform('lambda_l1', 1e-8, 10.0),\n",
            "<ipython-input-45-3d6f33735477>:10: FutureWarning: suggest_loguniform has been deprecated in v3.0.0. This feature will be removed in v6.0.0. See https://github.com/optuna/optuna/releases/tag/v3.0.0. Use suggest_float(..., log=True) instead.\n",
            "  'lambda_l2': trial.suggest_loguniform('lambda_l2', 1e-8, 10.0),\n",
            "<ipython-input-45-3d6f33735477>:12: FutureWarning: suggest_uniform has been deprecated in v3.0.0. This feature will be removed in v6.0.0. See https://github.com/optuna/optuna/releases/tag/v3.0.0. Use suggest_float instead.\n",
            "  'feature_fraction': trial.suggest_uniform('feature_fraction', 0.4, 1.0),\n",
            "<ipython-input-45-3d6f33735477>:13: FutureWarning: suggest_uniform has been deprecated in v3.0.0. This feature will be removed in v6.0.0. See https://github.com/optuna/optuna/releases/tag/v3.0.0. Use suggest_float instead.\n",
            "  'bagging_fraction': trial.suggest_uniform('bagging_fraction', 0.4, 1.0),\n",
            "<ipython-input-45-3d6f33735477>:16: FutureWarning: suggest_loguniform has been deprecated in v3.0.0. This feature will be removed in v6.0.0. See https://github.com/optuna/optuna/releases/tag/v3.0.0. Use suggest_float(..., log=True) instead.\n",
            "  'learning_rate': trial.suggest_loguniform('learning_rate', 0.01, 0.3),\n"
          ]
        },
        {
          "name": "stdout",
          "output_type": "stream",
          "text": [
            "Training until validation scores don't improve for 20 rounds\n",
            "Early stopping, best iteration is:\n",
            "[61]\tvalid_0's rmse: 5.68961e-05\n",
            "Training until validation scores don't improve for 20 rounds\n",
            "Early stopping, best iteration is:\n",
            "[65]\tvalid_0's rmse: 5.69646e-05\n",
            "Training until validation scores don't improve for 20 rounds\n",
            "Early stopping, best iteration is:\n",
            "[27]\tvalid_0's rmse: 5.66343e-05\n",
            "Training until validation scores don't improve for 20 rounds\n",
            "Early stopping, best iteration is:\n",
            "[32]\tvalid_0's rmse: 5.61717e-05\n",
            "Training until validation scores don't improve for 20 rounds\n",
            "Early stopping, best iteration is:\n",
            "[32]\tvalid_0's rmse: 6.36876e-05\n"
          ]
        },
        {
          "name": "stderr",
          "output_type": "stream",
          "text": [
            "[I 2023-10-28 14:34:04,311] Trial 3 finished with value: 0.655054705803978 and parameters: {'lambda_l1': 0.36475651429664063, 'lambda_l2': 1.4410887662139243e-07, 'num_leaves': 38, 'feature_fraction': 0.5806449899310883, 'bagging_fraction': 0.7875077849202594, 'bagging_freq': 5, 'min_child_samples': 56, 'learning_rate': 0.25027740764969714, 'max_depth': 15}. Best is trial 0 with value: 0.4440975026843743.\n",
            "<ipython-input-45-3d6f33735477>:9: FutureWarning: suggest_loguniform has been deprecated in v3.0.0. This feature will be removed in v6.0.0. See https://github.com/optuna/optuna/releases/tag/v3.0.0. Use suggest_float(..., log=True) instead.\n",
            "  'lambda_l1': trial.suggest_loguniform('lambda_l1', 1e-8, 10.0),\n",
            "<ipython-input-45-3d6f33735477>:10: FutureWarning: suggest_loguniform has been deprecated in v3.0.0. This feature will be removed in v6.0.0. See https://github.com/optuna/optuna/releases/tag/v3.0.0. Use suggest_float(..., log=True) instead.\n",
            "  'lambda_l2': trial.suggest_loguniform('lambda_l2', 1e-8, 10.0),\n",
            "<ipython-input-45-3d6f33735477>:12: FutureWarning: suggest_uniform has been deprecated in v3.0.0. This feature will be removed in v6.0.0. See https://github.com/optuna/optuna/releases/tag/v3.0.0. Use suggest_float instead.\n",
            "  'feature_fraction': trial.suggest_uniform('feature_fraction', 0.4, 1.0),\n",
            "<ipython-input-45-3d6f33735477>:13: FutureWarning: suggest_uniform has been deprecated in v3.0.0. This feature will be removed in v6.0.0. See https://github.com/optuna/optuna/releases/tag/v3.0.0. Use suggest_float instead.\n",
            "  'bagging_fraction': trial.suggest_uniform('bagging_fraction', 0.4, 1.0),\n",
            "<ipython-input-45-3d6f33735477>:16: FutureWarning: suggest_loguniform has been deprecated in v3.0.0. This feature will be removed in v6.0.0. See https://github.com/optuna/optuna/releases/tag/v3.0.0. Use suggest_float(..., log=True) instead.\n",
            "  'learning_rate': trial.suggest_loguniform('learning_rate', 0.01, 0.3),\n"
          ]
        },
        {
          "name": "stdout",
          "output_type": "stream",
          "text": [
            "Training until validation scores don't improve for 20 rounds\n",
            "Early stopping, best iteration is:\n",
            "[398]\tvalid_0's rmse: 4.92882e-05\n",
            "Training until validation scores don't improve for 20 rounds\n",
            "Early stopping, best iteration is:\n",
            "[364]\tvalid_0's rmse: 4.9252e-05\n",
            "Training until validation scores don't improve for 20 rounds\n",
            "Did not meet early stopping. Best iteration is:\n",
            "[500]\tvalid_0's rmse: 4.91925e-05\n",
            "Training until validation scores don't improve for 20 rounds\n",
            "Early stopping, best iteration is:\n",
            "[361]\tvalid_0's rmse: 4.93689e-05\n",
            "Training until validation scores don't improve for 20 rounds\n"
          ]
        },
        {
          "name": "stderr",
          "output_type": "stream",
          "text": [
            "[I 2023-10-28 14:34:44,216] Trial 4 finished with value: 0.449593497175017 and parameters: {'lambda_l1': 0.0066068404912903635, 'lambda_l2': 0.21504988392969876, 'num_leaves': 42, 'feature_fraction': 0.8272234104871438, 'bagging_fraction': 0.6695079577210592, 'bagging_freq': 2, 'min_child_samples': 6, 'learning_rate': 0.022513875402065, 'max_depth': 6}. Best is trial 0 with value: 0.4440975026843743.\n"
          ]
        },
        {
          "name": "stdout",
          "output_type": "stream",
          "text": [
            "Early stopping, best iteration is:\n",
            "[222]\tvalid_0's rmse: 5.59791e-05\n"
          ]
        },
        {
          "name": "stderr",
          "output_type": "stream",
          "text": [
            "<ipython-input-45-3d6f33735477>:9: FutureWarning: suggest_loguniform has been deprecated in v3.0.0. This feature will be removed in v6.0.0. See https://github.com/optuna/optuna/releases/tag/v3.0.0. Use suggest_float(..., log=True) instead.\n",
            "  'lambda_l1': trial.suggest_loguniform('lambda_l1', 1e-8, 10.0),\n",
            "<ipython-input-45-3d6f33735477>:10: FutureWarning: suggest_loguniform has been deprecated in v3.0.0. This feature will be removed in v6.0.0. See https://github.com/optuna/optuna/releases/tag/v3.0.0. Use suggest_float(..., log=True) instead.\n",
            "  'lambda_l2': trial.suggest_loguniform('lambda_l2', 1e-8, 10.0),\n",
            "<ipython-input-45-3d6f33735477>:12: FutureWarning: suggest_uniform has been deprecated in v3.0.0. This feature will be removed in v6.0.0. See https://github.com/optuna/optuna/releases/tag/v3.0.0. Use suggest_float instead.\n",
            "  'feature_fraction': trial.suggest_uniform('feature_fraction', 0.4, 1.0),\n",
            "<ipython-input-45-3d6f33735477>:13: FutureWarning: suggest_uniform has been deprecated in v3.0.0. This feature will be removed in v6.0.0. See https://github.com/optuna/optuna/releases/tag/v3.0.0. Use suggest_float instead.\n",
            "  'bagging_fraction': trial.suggest_uniform('bagging_fraction', 0.4, 1.0),\n",
            "<ipython-input-45-3d6f33735477>:16: FutureWarning: suggest_loguniform has been deprecated in v3.0.0. This feature will be removed in v6.0.0. See https://github.com/optuna/optuna/releases/tag/v3.0.0. Use suggest_float(..., log=True) instead.\n",
            "  'learning_rate': trial.suggest_loguniform('learning_rate', 0.01, 0.3),\n"
          ]
        },
        {
          "name": "stdout",
          "output_type": "stream",
          "text": [
            "Training until validation scores don't improve for 20 rounds\n",
            "Early stopping, best iteration is:\n",
            "[21]\tvalid_0's rmse: 5.0171e-05\n",
            "Training until validation scores don't improve for 20 rounds\n",
            "Early stopping, best iteration is:\n",
            "[24]\tvalid_0's rmse: 5.00486e-05\n",
            "Training until validation scores don't improve for 20 rounds\n",
            "Early stopping, best iteration is:\n",
            "[24]\tvalid_0's rmse: 5.01126e-05\n",
            "Training until validation scores don't improve for 20 rounds\n",
            "Early stopping, best iteration is:\n",
            "[24]\tvalid_0's rmse: 4.99517e-05\n",
            "Training until validation scores don't improve for 20 rounds\n"
          ]
        },
        {
          "name": "stderr",
          "output_type": "stream",
          "text": [
            "[I 2023-10-28 14:34:56,507] Trial 5 finished with value: 0.44754769178469544 and parameters: {'lambda_l1': 1.13281059886574e-08, 'lambda_l2': 1.0810237533820812e-05, 'num_leaves': 48, 'feature_fraction': 0.716465599023804, 'bagging_fraction': 0.8454635417623227, 'bagging_freq': 5, 'min_child_samples': 13, 'learning_rate': 0.1412338866086184, 'max_depth': 14}. Best is trial 0 with value: 0.4440975026843743.\n"
          ]
        },
        {
          "name": "stdout",
          "output_type": "stream",
          "text": [
            "Early stopping, best iteration is:\n",
            "[36]\tvalid_0's rmse: 5.57749e-05\n"
          ]
        },
        {
          "name": "stderr",
          "output_type": "stream",
          "text": [
            "<ipython-input-45-3d6f33735477>:9: FutureWarning: suggest_loguniform has been deprecated in v3.0.0. This feature will be removed in v6.0.0. See https://github.com/optuna/optuna/releases/tag/v3.0.0. Use suggest_float(..., log=True) instead.\n",
            "  'lambda_l1': trial.suggest_loguniform('lambda_l1', 1e-8, 10.0),\n",
            "<ipython-input-45-3d6f33735477>:10: FutureWarning: suggest_loguniform has been deprecated in v3.0.0. This feature will be removed in v6.0.0. See https://github.com/optuna/optuna/releases/tag/v3.0.0. Use suggest_float(..., log=True) instead.\n",
            "  'lambda_l2': trial.suggest_loguniform('lambda_l2', 1e-8, 10.0),\n",
            "<ipython-input-45-3d6f33735477>:12: FutureWarning: suggest_uniform has been deprecated in v3.0.0. This feature will be removed in v6.0.0. See https://github.com/optuna/optuna/releases/tag/v3.0.0. Use suggest_float instead.\n",
            "  'feature_fraction': trial.suggest_uniform('feature_fraction', 0.4, 1.0),\n",
            "<ipython-input-45-3d6f33735477>:13: FutureWarning: suggest_uniform has been deprecated in v3.0.0. This feature will be removed in v6.0.0. See https://github.com/optuna/optuna/releases/tag/v3.0.0. Use suggest_float instead.\n",
            "  'bagging_fraction': trial.suggest_uniform('bagging_fraction', 0.4, 1.0),\n",
            "<ipython-input-45-3d6f33735477>:16: FutureWarning: suggest_loguniform has been deprecated in v3.0.0. This feature will be removed in v6.0.0. See https://github.com/optuna/optuna/releases/tag/v3.0.0. Use suggest_float(..., log=True) instead.\n",
            "  'learning_rate': trial.suggest_loguniform('learning_rate', 0.01, 0.3),\n"
          ]
        },
        {
          "name": "stdout",
          "output_type": "stream",
          "text": [
            "Training until validation scores don't improve for 20 rounds\n",
            "Early stopping, best iteration is:\n",
            "[24]\tvalid_0's rmse: 4.97266e-05\n",
            "Training until validation scores don't improve for 20 rounds\n",
            "Early stopping, best iteration is:\n",
            "[30]\tvalid_0's rmse: 4.99183e-05\n",
            "Training until validation scores don't improve for 20 rounds\n",
            "Early stopping, best iteration is:\n",
            "[27]\tvalid_0's rmse: 4.99385e-05\n",
            "Training until validation scores don't improve for 20 rounds\n",
            "Early stopping, best iteration is:\n",
            "[21]\tvalid_0's rmse: 5.00805e-05\n",
            "Training until validation scores don't improve for 20 rounds\n"
          ]
        },
        {
          "name": "stderr",
          "output_type": "stream",
          "text": [
            "[I 2023-10-28 14:35:06,632] Trial 6 finished with value: 0.44331007774738185 and parameters: {'lambda_l1': 2.2641078420327884e-07, 'lambda_l2': 0.11689868252438079, 'num_leaves': 38, 'feature_fraction': 0.5553459310817535, 'bagging_fraction': 0.7802779422707742, 'bagging_freq': 6, 'min_child_samples': 90, 'learning_rate': 0.1857638777598465, 'max_depth': 17}. Best is trial 6 with value: 0.44331007774738185.\n"
          ]
        },
        {
          "name": "stdout",
          "output_type": "stream",
          "text": [
            "Early stopping, best iteration is:\n",
            "[27]\tvalid_0's rmse: 5.55252e-05\n"
          ]
        },
        {
          "name": "stderr",
          "output_type": "stream",
          "text": [
            "<ipython-input-45-3d6f33735477>:9: FutureWarning: suggest_loguniform has been deprecated in v3.0.0. This feature will be removed in v6.0.0. See https://github.com/optuna/optuna/releases/tag/v3.0.0. Use suggest_float(..., log=True) instead.\n",
            "  'lambda_l1': trial.suggest_loguniform('lambda_l1', 1e-8, 10.0),\n",
            "<ipython-input-45-3d6f33735477>:10: FutureWarning: suggest_loguniform has been deprecated in v3.0.0. This feature will be removed in v6.0.0. See https://github.com/optuna/optuna/releases/tag/v3.0.0. Use suggest_float(..., log=True) instead.\n",
            "  'lambda_l2': trial.suggest_loguniform('lambda_l2', 1e-8, 10.0),\n",
            "<ipython-input-45-3d6f33735477>:12: FutureWarning: suggest_uniform has been deprecated in v3.0.0. This feature will be removed in v6.0.0. See https://github.com/optuna/optuna/releases/tag/v3.0.0. Use suggest_float instead.\n",
            "  'feature_fraction': trial.suggest_uniform('feature_fraction', 0.4, 1.0),\n",
            "<ipython-input-45-3d6f33735477>:13: FutureWarning: suggest_uniform has been deprecated in v3.0.0. This feature will be removed in v6.0.0. See https://github.com/optuna/optuna/releases/tag/v3.0.0. Use suggest_float instead.\n",
            "  'bagging_fraction': trial.suggest_uniform('bagging_fraction', 0.4, 1.0),\n",
            "<ipython-input-45-3d6f33735477>:16: FutureWarning: suggest_loguniform has been deprecated in v3.0.0. This feature will be removed in v6.0.0. See https://github.com/optuna/optuna/releases/tag/v3.0.0. Use suggest_float(..., log=True) instead.\n",
            "  'learning_rate': trial.suggest_loguniform('learning_rate', 0.01, 0.3),\n"
          ]
        },
        {
          "name": "stdout",
          "output_type": "stream",
          "text": [
            "Training until validation scores don't improve for 20 rounds\n",
            "Early stopping, best iteration is:\n",
            "[126]\tvalid_0's rmse: 5.26445e-05\n",
            "Training until validation scores don't improve for 20 rounds\n",
            "Early stopping, best iteration is:\n",
            "[133]\tvalid_0's rmse: 5.28953e-05\n",
            "Training until validation scores don't improve for 20 rounds\n",
            "Early stopping, best iteration is:\n",
            "[111]\tvalid_0's rmse: 5.3633e-05\n",
            "Training until validation scores don't improve for 20 rounds\n",
            "Early stopping, best iteration is:\n",
            "[87]\tvalid_0's rmse: 5.34482e-05\n",
            "Training until validation scores don't improve for 20 rounds\n"
          ]
        },
        {
          "name": "stderr",
          "output_type": "stream",
          "text": [
            "[I 2023-10-28 14:35:17,264] Trial 7 finished with value: 0.5631294172029336 and parameters: {'lambda_l1': 0.14801284928161287, 'lambda_l2': 0.0063704149172661454, 'num_leaves': 35, 'feature_fraction': 0.4177701886355438, 'bagging_fraction': 0.865826511706479, 'bagging_freq': 1, 'min_child_samples': 20, 'learning_rate': 0.04365395328302998, 'max_depth': 14}. Best is trial 6 with value: 0.44331007774738185.\n"
          ]
        },
        {
          "name": "stdout",
          "output_type": "stream",
          "text": [
            "Early stopping, best iteration is:\n",
            "[309]\tvalid_0's rmse: 5.80527e-05\n"
          ]
        },
        {
          "name": "stderr",
          "output_type": "stream",
          "text": [
            "<ipython-input-45-3d6f33735477>:9: FutureWarning: suggest_loguniform has been deprecated in v3.0.0. This feature will be removed in v6.0.0. See https://github.com/optuna/optuna/releases/tag/v3.0.0. Use suggest_float(..., log=True) instead.\n",
            "  'lambda_l1': trial.suggest_loguniform('lambda_l1', 1e-8, 10.0),\n",
            "<ipython-input-45-3d6f33735477>:10: FutureWarning: suggest_loguniform has been deprecated in v3.0.0. This feature will be removed in v6.0.0. See https://github.com/optuna/optuna/releases/tag/v3.0.0. Use suggest_float(..., log=True) instead.\n",
            "  'lambda_l2': trial.suggest_loguniform('lambda_l2', 1e-8, 10.0),\n",
            "<ipython-input-45-3d6f33735477>:12: FutureWarning: suggest_uniform has been deprecated in v3.0.0. This feature will be removed in v6.0.0. See https://github.com/optuna/optuna/releases/tag/v3.0.0. Use suggest_float instead.\n",
            "  'feature_fraction': trial.suggest_uniform('feature_fraction', 0.4, 1.0),\n",
            "<ipython-input-45-3d6f33735477>:13: FutureWarning: suggest_uniform has been deprecated in v3.0.0. This feature will be removed in v6.0.0. See https://github.com/optuna/optuna/releases/tag/v3.0.0. Use suggest_float instead.\n",
            "  'bagging_fraction': trial.suggest_uniform('bagging_fraction', 0.4, 1.0),\n",
            "<ipython-input-45-3d6f33735477>:16: FutureWarning: suggest_loguniform has been deprecated in v3.0.0. This feature will be removed in v6.0.0. See https://github.com/optuna/optuna/releases/tag/v3.0.0. Use suggest_float(..., log=True) instead.\n",
            "  'learning_rate': trial.suggest_loguniform('learning_rate', 0.01, 0.3),\n"
          ]
        },
        {
          "name": "stdout",
          "output_type": "stream",
          "text": [
            "Training until validation scores don't improve for 20 rounds\n",
            "Early stopping, best iteration is:\n",
            "[109]\tvalid_0's rmse: 5.28042e-05\n",
            "Training until validation scores don't improve for 20 rounds\n",
            "Early stopping, best iteration is:\n",
            "[132]\tvalid_0's rmse: 5.30015e-05\n",
            "Training until validation scores don't improve for 20 rounds\n",
            "Early stopping, best iteration is:\n",
            "[82]\tvalid_0's rmse: 5.3642e-05\n",
            "Training until validation scores don't improve for 20 rounds\n",
            "Early stopping, best iteration is:\n",
            "[87]\tvalid_0's rmse: 5.34498e-05\n",
            "Training until validation scores don't improve for 20 rounds\n"
          ]
        },
        {
          "name": "stderr",
          "output_type": "stream",
          "text": [
            "[I 2023-10-28 14:35:27,024] Trial 8 finished with value: 0.5687053243424544 and parameters: {'lambda_l1': 0.1677533769388656, 'lambda_l2': 0.8591189996517915, 'num_leaves': 20, 'feature_fraction': 0.4344671347462593, 'bagging_fraction': 0.9107579951989256, 'bagging_freq': 1, 'min_child_samples': 29, 'learning_rate': 0.048459838715393694, 'max_depth': 5}. Best is trial 6 with value: 0.44331007774738185.\n"
          ]
        },
        {
          "name": "stdout",
          "output_type": "stream",
          "text": [
            "Early stopping, best iteration is:\n",
            "[345]\tvalid_0's rmse: 5.82637e-05\n"
          ]
        },
        {
          "name": "stderr",
          "output_type": "stream",
          "text": [
            "<ipython-input-45-3d6f33735477>:9: FutureWarning: suggest_loguniform has been deprecated in v3.0.0. This feature will be removed in v6.0.0. See https://github.com/optuna/optuna/releases/tag/v3.0.0. Use suggest_float(..., log=True) instead.\n",
            "  'lambda_l1': trial.suggest_loguniform('lambda_l1', 1e-8, 10.0),\n",
            "<ipython-input-45-3d6f33735477>:10: FutureWarning: suggest_loguniform has been deprecated in v3.0.0. This feature will be removed in v6.0.0. See https://github.com/optuna/optuna/releases/tag/v3.0.0. Use suggest_float(..., log=True) instead.\n",
            "  'lambda_l2': trial.suggest_loguniform('lambda_l2', 1e-8, 10.0),\n",
            "<ipython-input-45-3d6f33735477>:12: FutureWarning: suggest_uniform has been deprecated in v3.0.0. This feature will be removed in v6.0.0. See https://github.com/optuna/optuna/releases/tag/v3.0.0. Use suggest_float instead.\n",
            "  'feature_fraction': trial.suggest_uniform('feature_fraction', 0.4, 1.0),\n",
            "<ipython-input-45-3d6f33735477>:13: FutureWarning: suggest_uniform has been deprecated in v3.0.0. This feature will be removed in v6.0.0. See https://github.com/optuna/optuna/releases/tag/v3.0.0. Use suggest_float instead.\n",
            "  'bagging_fraction': trial.suggest_uniform('bagging_fraction', 0.4, 1.0),\n",
            "<ipython-input-45-3d6f33735477>:16: FutureWarning: suggest_loguniform has been deprecated in v3.0.0. This feature will be removed in v6.0.0. See https://github.com/optuna/optuna/releases/tag/v3.0.0. Use suggest_float(..., log=True) instead.\n",
            "  'learning_rate': trial.suggest_loguniform('learning_rate', 0.01, 0.3),\n"
          ]
        },
        {
          "name": "stdout",
          "output_type": "stream",
          "text": [
            "Training until validation scores don't improve for 20 rounds\n",
            "Early stopping, best iteration is:\n",
            "[1]\tvalid_0's rmse: 5.74247e-05\n",
            "Training until validation scores don't improve for 20 rounds\n",
            "Early stopping, best iteration is:\n",
            "[1]\tvalid_0's rmse: 5.72025e-05\n",
            "Training until validation scores don't improve for 20 rounds\n",
            "Early stopping, best iteration is:\n",
            "[1]\tvalid_0's rmse: 5.78656e-05\n",
            "Training until validation scores don't improve for 20 rounds\n",
            "Early stopping, best iteration is:\n",
            "[1]\tvalid_0's rmse: 5.75458e-05\n"
          ]
        },
        {
          "name": "stderr",
          "output_type": "stream",
          "text": [
            "[I 2023-10-28 14:35:31,665] Trial 9 finished with value: 0.667164260695208 and parameters: {'lambda_l1': 0.6771513625844395, 'lambda_l2': 0.0014195803916305313, 'num_leaves': 78, 'feature_fraction': 0.6116912935819523, 'bagging_fraction': 0.4914368136306172, 'bagging_freq': 6, 'min_child_samples': 73, 'learning_rate': 0.013050833416527593, 'max_depth': 15}. Best is trial 6 with value: 0.44331007774738185.\n"
          ]
        },
        {
          "name": "stdout",
          "output_type": "stream",
          "text": [
            "Training until validation scores don't improve for 20 rounds\n",
            "Early stopping, best iteration is:\n",
            "[1]\tvalid_0's rmse: 6.53695e-05\n"
          ]
        },
        {
          "name": "stderr",
          "output_type": "stream",
          "text": [
            "<ipython-input-45-3d6f33735477>:9: FutureWarning: suggest_loguniform has been deprecated in v3.0.0. This feature will be removed in v6.0.0. See https://github.com/optuna/optuna/releases/tag/v3.0.0. Use suggest_float(..., log=True) instead.\n",
            "  'lambda_l1': trial.suggest_loguniform('lambda_l1', 1e-8, 10.0),\n",
            "<ipython-input-45-3d6f33735477>:10: FutureWarning: suggest_loguniform has been deprecated in v3.0.0. This feature will be removed in v6.0.0. See https://github.com/optuna/optuna/releases/tag/v3.0.0. Use suggest_float(..., log=True) instead.\n",
            "  'lambda_l2': trial.suggest_loguniform('lambda_l2', 1e-8, 10.0),\n",
            "<ipython-input-45-3d6f33735477>:12: FutureWarning: suggest_uniform has been deprecated in v3.0.0. This feature will be removed in v6.0.0. See https://github.com/optuna/optuna/releases/tag/v3.0.0. Use suggest_float instead.\n",
            "  'feature_fraction': trial.suggest_uniform('feature_fraction', 0.4, 1.0),\n",
            "<ipython-input-45-3d6f33735477>:13: FutureWarning: suggest_uniform has been deprecated in v3.0.0. This feature will be removed in v6.0.0. See https://github.com/optuna/optuna/releases/tag/v3.0.0. Use suggest_float instead.\n",
            "  'bagging_fraction': trial.suggest_uniform('bagging_fraction', 0.4, 1.0),\n",
            "<ipython-input-45-3d6f33735477>:16: FutureWarning: suggest_loguniform has been deprecated in v3.0.0. This feature will be removed in v6.0.0. See https://github.com/optuna/optuna/releases/tag/v3.0.0. Use suggest_float(..., log=True) instead.\n",
            "  'learning_rate': trial.suggest_loguniform('learning_rate', 0.01, 0.3),\n"
          ]
        },
        {
          "name": "stdout",
          "output_type": "stream",
          "text": [
            "Training until validation scores don't improve for 20 rounds\n",
            "Early stopping, best iteration is:\n",
            "[28]\tvalid_0's rmse: 4.98142e-05\n",
            "Training until validation scores don't improve for 20 rounds\n",
            "Early stopping, best iteration is:\n",
            "[44]\tvalid_0's rmse: 4.99672e-05\n",
            "Training until validation scores don't improve for 20 rounds\n",
            "Early stopping, best iteration is:\n",
            "[33]\tvalid_0's rmse: 4.99939e-05\n",
            "Training until validation scores don't improve for 20 rounds\n",
            "Early stopping, best iteration is:\n",
            "[27]\tvalid_0's rmse: 4.97434e-05\n",
            "Training until validation scores don't improve for 20 rounds\n"
          ]
        },
        {
          "name": "stderr",
          "output_type": "stream",
          "text": [
            "[I 2023-10-28 14:35:49,993] Trial 10 finished with value: 0.4477083996885801 and parameters: {'lambda_l1': 4.667003662304749e-06, 'lambda_l2': 5.870791948043281e-05, 'num_leaves': 74, 'feature_fraction': 0.5914594905987448, 'bagging_fraction': 0.9970523820645838, 'bagging_freq': 7, 'min_child_samples': 100, 'learning_rate': 0.10294454637740248, 'max_depth': 20}. Best is trial 6 with value: 0.44331007774738185.\n"
          ]
        },
        {
          "name": "stdout",
          "output_type": "stream",
          "text": [
            "Early stopping, best iteration is:\n",
            "[30]\tvalid_0's rmse: 5.55293e-05\n"
          ]
        },
        {
          "name": "stderr",
          "output_type": "stream",
          "text": [
            "<ipython-input-45-3d6f33735477>:9: FutureWarning: suggest_loguniform has been deprecated in v3.0.0. This feature will be removed in v6.0.0. See https://github.com/optuna/optuna/releases/tag/v3.0.0. Use suggest_float(..., log=True) instead.\n",
            "  'lambda_l1': trial.suggest_loguniform('lambda_l1', 1e-8, 10.0),\n",
            "<ipython-input-45-3d6f33735477>:10: FutureWarning: suggest_loguniform has been deprecated in v3.0.0. This feature will be removed in v6.0.0. See https://github.com/optuna/optuna/releases/tag/v3.0.0. Use suggest_float(..., log=True) instead.\n",
            "  'lambda_l2': trial.suggest_loguniform('lambda_l2', 1e-8, 10.0),\n",
            "<ipython-input-45-3d6f33735477>:12: FutureWarning: suggest_uniform has been deprecated in v3.0.0. This feature will be removed in v6.0.0. See https://github.com/optuna/optuna/releases/tag/v3.0.0. Use suggest_float instead.\n",
            "  'feature_fraction': trial.suggest_uniform('feature_fraction', 0.4, 1.0),\n",
            "<ipython-input-45-3d6f33735477>:13: FutureWarning: suggest_uniform has been deprecated in v3.0.0. This feature will be removed in v6.0.0. See https://github.com/optuna/optuna/releases/tag/v3.0.0. Use suggest_float instead.\n",
            "  'bagging_fraction': trial.suggest_uniform('bagging_fraction', 0.4, 1.0),\n",
            "<ipython-input-45-3d6f33735477>:16: FutureWarning: suggest_loguniform has been deprecated in v3.0.0. This feature will be removed in v6.0.0. See https://github.com/optuna/optuna/releases/tag/v3.0.0. Use suggest_float(..., log=True) instead.\n",
            "  'learning_rate': trial.suggest_loguniform('learning_rate', 0.01, 0.3),\n"
          ]
        },
        {
          "name": "stdout",
          "output_type": "stream",
          "text": [
            "Training until validation scores don't improve for 20 rounds\n",
            "Early stopping, best iteration is:\n",
            "[33]\tvalid_0's rmse: 4.99572e-05\n",
            "Training until validation scores don't improve for 20 rounds\n",
            "Early stopping, best iteration is:\n",
            "[55]\tvalid_0's rmse: 4.99418e-05\n",
            "Training until validation scores don't improve for 20 rounds\n",
            "Early stopping, best iteration is:\n",
            "[40]\tvalid_0's rmse: 5.00113e-05\n",
            "Training until validation scores don't improve for 20 rounds\n",
            "Early stopping, best iteration is:\n",
            "[39]\tvalid_0's rmse: 5.01536e-05\n",
            "Training until validation scores don't improve for 20 rounds\n"
          ]
        },
        {
          "name": "stderr",
          "output_type": "stream",
          "text": [
            "[I 2023-10-28 14:36:08,611] Trial 11 finished with value: 0.44799527643979664 and parameters: {'lambda_l1': 2.9169303500551796e-05, 'lambda_l2': 8.295194558250962, 'num_leaves': 59, 'feature_fraction': 0.9807287237489931, 'bagging_fraction': 0.7600551367892977, 'bagging_freq': 4, 'min_child_samples': 63, 'learning_rate': 0.08186032442503788, 'max_depth': 10}. Best is trial 6 with value: 0.44331007774738185.\n"
          ]
        },
        {
          "name": "stdout",
          "output_type": "stream",
          "text": [
            "Early stopping, best iteration is:\n",
            "[79]\tvalid_0's rmse: 5.57322e-05\n"
          ]
        },
        {
          "name": "stderr",
          "output_type": "stream",
          "text": [
            "<ipython-input-45-3d6f33735477>:9: FutureWarning: suggest_loguniform has been deprecated in v3.0.0. This feature will be removed in v6.0.0. See https://github.com/optuna/optuna/releases/tag/v3.0.0. Use suggest_float(..., log=True) instead.\n",
            "  'lambda_l1': trial.suggest_loguniform('lambda_l1', 1e-8, 10.0),\n",
            "<ipython-input-45-3d6f33735477>:10: FutureWarning: suggest_loguniform has been deprecated in v3.0.0. This feature will be removed in v6.0.0. See https://github.com/optuna/optuna/releases/tag/v3.0.0. Use suggest_float(..., log=True) instead.\n",
            "  'lambda_l2': trial.suggest_loguniform('lambda_l2', 1e-8, 10.0),\n",
            "<ipython-input-45-3d6f33735477>:12: FutureWarning: suggest_uniform has been deprecated in v3.0.0. This feature will be removed in v6.0.0. See https://github.com/optuna/optuna/releases/tag/v3.0.0. Use suggest_float instead.\n",
            "  'feature_fraction': trial.suggest_uniform('feature_fraction', 0.4, 1.0),\n",
            "<ipython-input-45-3d6f33735477>:13: FutureWarning: suggest_uniform has been deprecated in v3.0.0. This feature will be removed in v6.0.0. See https://github.com/optuna/optuna/releases/tag/v3.0.0. Use suggest_float instead.\n",
            "  'bagging_fraction': trial.suggest_uniform('bagging_fraction', 0.4, 1.0),\n",
            "<ipython-input-45-3d6f33735477>:16: FutureWarning: suggest_loguniform has been deprecated in v3.0.0. This feature will be removed in v6.0.0. See https://github.com/optuna/optuna/releases/tag/v3.0.0. Use suggest_float(..., log=True) instead.\n",
            "  'learning_rate': trial.suggest_loguniform('learning_rate', 0.01, 0.3),\n"
          ]
        },
        {
          "name": "stdout",
          "output_type": "stream",
          "text": [
            "Training until validation scores don't improve for 20 rounds\n",
            "Early stopping, best iteration is:\n",
            "[59]\tvalid_0's rmse: 4.9606e-05\n",
            "Training until validation scores don't improve for 20 rounds\n",
            "Early stopping, best iteration is:\n",
            "[54]\tvalid_0's rmse: 4.98668e-05\n",
            "Training until validation scores don't improve for 20 rounds\n",
            "Early stopping, best iteration is:\n",
            "[85]\tvalid_0's rmse: 4.97283e-05\n",
            "Training until validation scores don't improve for 20 rounds\n",
            "Early stopping, best iteration is:\n",
            "[48]\tvalid_0's rmse: 4.99779e-05\n",
            "Training until validation scores don't improve for 20 rounds\n"
          ]
        },
        {
          "name": "stderr",
          "output_type": "stream",
          "text": [
            "[I 2023-10-28 14:36:27,713] Trial 12 finished with value: 0.44462174319067965 and parameters: {'lambda_l1': 7.167552077264664e-08, 'lambda_l2': 0.017622347092762794, 'num_leaves': 30, 'feature_fraction': 0.9815554212464166, 'bagging_fraction': 0.747509333456248, 'bagging_freq': 7, 'min_child_samples': 78, 'learning_rate': 0.0735380904838414, 'max_depth': 11}. Best is trial 6 with value: 0.44331007774738185.\n"
          ]
        },
        {
          "name": "stdout",
          "output_type": "stream",
          "text": [
            "Early stopping, best iteration is:\n",
            "[94]\tvalid_0's rmse: 5.58545e-05\n"
          ]
        },
        {
          "name": "stderr",
          "output_type": "stream",
          "text": [
            "<ipython-input-45-3d6f33735477>:9: FutureWarning: suggest_loguniform has been deprecated in v3.0.0. This feature will be removed in v6.0.0. See https://github.com/optuna/optuna/releases/tag/v3.0.0. Use suggest_float(..., log=True) instead.\n",
            "  'lambda_l1': trial.suggest_loguniform('lambda_l1', 1e-8, 10.0),\n",
            "<ipython-input-45-3d6f33735477>:10: FutureWarning: suggest_loguniform has been deprecated in v3.0.0. This feature will be removed in v6.0.0. See https://github.com/optuna/optuna/releases/tag/v3.0.0. Use suggest_float(..., log=True) instead.\n",
            "  'lambda_l2': trial.suggest_loguniform('lambda_l2', 1e-8, 10.0),\n",
            "<ipython-input-45-3d6f33735477>:12: FutureWarning: suggest_uniform has been deprecated in v3.0.0. This feature will be removed in v6.0.0. See https://github.com/optuna/optuna/releases/tag/v3.0.0. Use suggest_float instead.\n",
            "  'feature_fraction': trial.suggest_uniform('feature_fraction', 0.4, 1.0),\n",
            "<ipython-input-45-3d6f33735477>:13: FutureWarning: suggest_uniform has been deprecated in v3.0.0. This feature will be removed in v6.0.0. See https://github.com/optuna/optuna/releases/tag/v3.0.0. Use suggest_float instead.\n",
            "  'bagging_fraction': trial.suggest_uniform('bagging_fraction', 0.4, 1.0),\n",
            "<ipython-input-45-3d6f33735477>:16: FutureWarning: suggest_loguniform has been deprecated in v3.0.0. This feature will be removed in v6.0.0. See https://github.com/optuna/optuna/releases/tag/v3.0.0. Use suggest_float(..., log=True) instead.\n",
            "  'learning_rate': trial.suggest_loguniform('learning_rate', 0.01, 0.3),\n"
          ]
        },
        {
          "name": "stdout",
          "output_type": "stream",
          "text": [
            "Training until validation scores don't improve for 20 rounds\n",
            "Early stopping, best iteration is:\n",
            "[25]\tvalid_0's rmse: 5.00434e-05\n",
            "Training until validation scores don't improve for 20 rounds\n",
            "Early stopping, best iteration is:\n",
            "[21]\tvalid_0's rmse: 4.99134e-05\n",
            "Training until validation scores don't improve for 20 rounds\n",
            "Early stopping, best iteration is:\n",
            "[26]\tvalid_0's rmse: 5.00556e-05\n",
            "Training until validation scores don't improve for 20 rounds\n",
            "Early stopping, best iteration is:\n",
            "[27]\tvalid_0's rmse: 4.9771e-05\n",
            "Training until validation scores don't improve for 20 rounds\n"
          ]
        },
        {
          "name": "stderr",
          "output_type": "stream",
          "text": [
            "[I 2023-10-28 14:36:40,625] Trial 13 finished with value: 0.44987139870599896 and parameters: {'lambda_l1': 0.0009446257088092982, 'lambda_l2': 0.03566672781288238, 'num_leaves': 53, 'feature_fraction': 0.9105361881639907, 'bagging_fraction': 0.6270773539697967, 'bagging_freq': 4, 'min_child_samples': 43, 'learning_rate': 0.13632426884379814, 'max_depth': 10}. Best is trial 6 with value: 0.44331007774738185.\n"
          ]
        },
        {
          "name": "stdout",
          "output_type": "stream",
          "text": [
            "Early stopping, best iteration is:\n",
            "[40]\tvalid_0's rmse: 5.58634e-05\n"
          ]
        },
        {
          "name": "stderr",
          "output_type": "stream",
          "text": [
            "<ipython-input-45-3d6f33735477>:9: FutureWarning: suggest_loguniform has been deprecated in v3.0.0. This feature will be removed in v6.0.0. See https://github.com/optuna/optuna/releases/tag/v3.0.0. Use suggest_float(..., log=True) instead.\n",
            "  'lambda_l1': trial.suggest_loguniform('lambda_l1', 1e-8, 10.0),\n",
            "<ipython-input-45-3d6f33735477>:10: FutureWarning: suggest_loguniform has been deprecated in v3.0.0. This feature will be removed in v6.0.0. See https://github.com/optuna/optuna/releases/tag/v3.0.0. Use suggest_float(..., log=True) instead.\n",
            "  'lambda_l2': trial.suggest_loguniform('lambda_l2', 1e-8, 10.0),\n",
            "<ipython-input-45-3d6f33735477>:12: FutureWarning: suggest_uniform has been deprecated in v3.0.0. This feature will be removed in v6.0.0. See https://github.com/optuna/optuna/releases/tag/v3.0.0. Use suggest_float instead.\n",
            "  'feature_fraction': trial.suggest_uniform('feature_fraction', 0.4, 1.0),\n",
            "<ipython-input-45-3d6f33735477>:13: FutureWarning: suggest_uniform has been deprecated in v3.0.0. This feature will be removed in v6.0.0. See https://github.com/optuna/optuna/releases/tag/v3.0.0. Use suggest_float instead.\n",
            "  'bagging_fraction': trial.suggest_uniform('bagging_fraction', 0.4, 1.0),\n",
            "<ipython-input-45-3d6f33735477>:16: FutureWarning: suggest_loguniform has been deprecated in v3.0.0. This feature will be removed in v6.0.0. See https://github.com/optuna/optuna/releases/tag/v3.0.0. Use suggest_float(..., log=True) instead.\n",
            "  'learning_rate': trial.suggest_loguniform('learning_rate', 0.01, 0.3),\n"
          ]
        },
        {
          "name": "stdout",
          "output_type": "stream",
          "text": [
            "Training until validation scores don't improve for 20 rounds\n",
            "Early stopping, best iteration is:\n",
            "[134]\tvalid_0's rmse: 4.96341e-05\n",
            "Training until validation scores don't improve for 20 rounds\n",
            "Early stopping, best iteration is:\n",
            "[167]\tvalid_0's rmse: 4.95924e-05\n",
            "Training until validation scores don't improve for 20 rounds\n",
            "Early stopping, best iteration is:\n",
            "[136]\tvalid_0's rmse: 4.97314e-05\n",
            "Training until validation scores don't improve for 20 rounds\n",
            "Early stopping, best iteration is:\n",
            "[131]\tvalid_0's rmse: 4.99074e-05\n",
            "Training until validation scores don't improve for 20 rounds\n"
          ]
        },
        {
          "name": "stderr",
          "output_type": "stream",
          "text": [
            "[I 2023-10-28 14:37:16,334] Trial 14 finished with value: 0.4444657829458271 and parameters: {'lambda_l1': 4.3721306701996223e-07, 'lambda_l2': 8.153748012998102, 'num_leaves': 46, 'feature_fraction': 0.8546290845187966, 'bagging_fraction': 0.8274895713546602, 'bagging_freq': 5, 'min_child_samples': 100, 'learning_rate': 0.02912400137739934, 'max_depth': 19}. Best is trial 6 with value: 0.44331007774738185.\n"
          ]
        },
        {
          "name": "stdout",
          "output_type": "stream",
          "text": [
            "Early stopping, best iteration is:\n",
            "[185]\tvalid_0's rmse: 5.54079e-05\n"
          ]
        },
        {
          "name": "stderr",
          "output_type": "stream",
          "text": [
            "<ipython-input-45-3d6f33735477>:9: FutureWarning: suggest_loguniform has been deprecated in v3.0.0. This feature will be removed in v6.0.0. See https://github.com/optuna/optuna/releases/tag/v3.0.0. Use suggest_float(..., log=True) instead.\n",
            "  'lambda_l1': trial.suggest_loguniform('lambda_l1', 1e-8, 10.0),\n",
            "<ipython-input-45-3d6f33735477>:10: FutureWarning: suggest_loguniform has been deprecated in v3.0.0. This feature will be removed in v6.0.0. See https://github.com/optuna/optuna/releases/tag/v3.0.0. Use suggest_float(..., log=True) instead.\n",
            "  'lambda_l2': trial.suggest_loguniform('lambda_l2', 1e-8, 10.0),\n",
            "<ipython-input-45-3d6f33735477>:12: FutureWarning: suggest_uniform has been deprecated in v3.0.0. This feature will be removed in v6.0.0. See https://github.com/optuna/optuna/releases/tag/v3.0.0. Use suggest_float instead.\n",
            "  'feature_fraction': trial.suggest_uniform('feature_fraction', 0.4, 1.0),\n",
            "<ipython-input-45-3d6f33735477>:13: FutureWarning: suggest_uniform has been deprecated in v3.0.0. This feature will be removed in v6.0.0. See https://github.com/optuna/optuna/releases/tag/v3.0.0. Use suggest_float instead.\n",
            "  'bagging_fraction': trial.suggest_uniform('bagging_fraction', 0.4, 1.0),\n",
            "<ipython-input-45-3d6f33735477>:16: FutureWarning: suggest_loguniform has been deprecated in v3.0.0. This feature will be removed in v6.0.0. See https://github.com/optuna/optuna/releases/tag/v3.0.0. Use suggest_float(..., log=True) instead.\n",
            "  'learning_rate': trial.suggest_loguniform('learning_rate', 0.01, 0.3),\n"
          ]
        },
        {
          "name": "stdout",
          "output_type": "stream",
          "text": [
            "Training until validation scores don't improve for 20 rounds\n",
            "Early stopping, best iteration is:\n",
            "[75]\tvalid_0's rmse: 4.96147e-05\n",
            "Training until validation scores don't improve for 20 rounds\n",
            "Early stopping, best iteration is:\n",
            "[68]\tvalid_0's rmse: 4.96806e-05\n",
            "Training until validation scores don't improve for 20 rounds\n",
            "Early stopping, best iteration is:\n",
            "[72]\tvalid_0's rmse: 4.98519e-05\n",
            "Training until validation scores don't improve for 20 rounds\n",
            "Early stopping, best iteration is:\n",
            "[44]\tvalid_0's rmse: 4.9934e-05\n",
            "Training until validation scores don't improve for 20 rounds\n"
          ]
        },
        {
          "name": "stderr",
          "output_type": "stream",
          "text": [
            "[I 2023-10-28 14:37:33,919] Trial 15 finished with value: 0.4449172167829266 and parameters: {'lambda_l1': 2.986938047444174e-05, 'lambda_l2': 0.0008508415628769799, 'num_leaves': 69, 'feature_fraction': 0.6862655817892016, 'bagging_fraction': 0.607601043202997, 'bagging_freq': 6, 'min_child_samples': 69, 'learning_rate': 0.06047894897666632, 'max_depth': 9}. Best is trial 6 with value: 0.44331007774738185.\n"
          ]
        },
        {
          "name": "stdout",
          "output_type": "stream",
          "text": [
            "Early stopping, best iteration is:\n",
            "[83]\tvalid_0's rmse: 5.54049e-05\n"
          ]
        },
        {
          "name": "stderr",
          "output_type": "stream",
          "text": [
            "<ipython-input-45-3d6f33735477>:9: FutureWarning: suggest_loguniform has been deprecated in v3.0.0. This feature will be removed in v6.0.0. See https://github.com/optuna/optuna/releases/tag/v3.0.0. Use suggest_float(..., log=True) instead.\n",
            "  'lambda_l1': trial.suggest_loguniform('lambda_l1', 1e-8, 10.0),\n",
            "<ipython-input-45-3d6f33735477>:10: FutureWarning: suggest_loguniform has been deprecated in v3.0.0. This feature will be removed in v6.0.0. See https://github.com/optuna/optuna/releases/tag/v3.0.0. Use suggest_float(..., log=True) instead.\n",
            "  'lambda_l2': trial.suggest_loguniform('lambda_l2', 1e-8, 10.0),\n",
            "<ipython-input-45-3d6f33735477>:12: FutureWarning: suggest_uniform has been deprecated in v3.0.0. This feature will be removed in v6.0.0. See https://github.com/optuna/optuna/releases/tag/v3.0.0. Use suggest_float instead.\n",
            "  'feature_fraction': trial.suggest_uniform('feature_fraction', 0.4, 1.0),\n",
            "<ipython-input-45-3d6f33735477>:13: FutureWarning: suggest_uniform has been deprecated in v3.0.0. This feature will be removed in v6.0.0. See https://github.com/optuna/optuna/releases/tag/v3.0.0. Use suggest_float instead.\n",
            "  'bagging_fraction': trial.suggest_uniform('bagging_fraction', 0.4, 1.0),\n",
            "<ipython-input-45-3d6f33735477>:16: FutureWarning: suggest_loguniform has been deprecated in v3.0.0. This feature will be removed in v6.0.0. See https://github.com/optuna/optuna/releases/tag/v3.0.0. Use suggest_float(..., log=True) instead.\n",
            "  'learning_rate': trial.suggest_loguniform('learning_rate', 0.01, 0.3),\n"
          ]
        },
        {
          "name": "stdout",
          "output_type": "stream",
          "text": [
            "Training until validation scores don't improve for 20 rounds\n",
            "Early stopping, best iteration is:\n",
            "[343]\tvalid_0's rmse: 4.93796e-05\n",
            "Training until validation scores don't improve for 20 rounds\n",
            "Early stopping, best iteration is:\n",
            "[389]\tvalid_0's rmse: 4.93474e-05\n",
            "Training until validation scores don't improve for 20 rounds\n",
            "Did not meet early stopping. Best iteration is:\n",
            "[498]\tvalid_0's rmse: 4.93979e-05\n",
            "Training until validation scores don't improve for 20 rounds\n",
            "Early stopping, best iteration is:\n",
            "[378]\tvalid_0's rmse: 4.95566e-05\n",
            "Training until validation scores don't improve for 20 rounds\n",
            "Early stopping, best iteration is:\n",
            "[378]\tvalid_0's rmse: 5.56095e-05\n"
          ]
        },
        {
          "name": "stderr",
          "output_type": "stream",
          "text": [
            "[I 2023-10-28 14:38:25,813] Trial 16 finished with value: 0.44375314773709695 and parameters: {'lambda_l1': 0.005535460226979796, 'lambda_l2': 0.0681808215869823, 'num_leaves': 30, 'feature_fraction': 0.9055984756882685, 'bagging_fraction': 0.7552729074902824, 'bagging_freq': 6, 'min_child_samples': 83, 'learning_rate': 0.01987185473180558, 'max_depth': 17}. Best is trial 6 with value: 0.44331007774738185.\n",
            "<ipython-input-45-3d6f33735477>:9: FutureWarning: suggest_loguniform has been deprecated in v3.0.0. This feature will be removed in v6.0.0. See https://github.com/optuna/optuna/releases/tag/v3.0.0. Use suggest_float(..., log=True) instead.\n",
            "  'lambda_l1': trial.suggest_loguniform('lambda_l1', 1e-8, 10.0),\n",
            "<ipython-input-45-3d6f33735477>:10: FutureWarning: suggest_loguniform has been deprecated in v3.0.0. This feature will be removed in v6.0.0. See https://github.com/optuna/optuna/releases/tag/v3.0.0. Use suggest_float(..., log=True) instead.\n",
            "  'lambda_l2': trial.suggest_loguniform('lambda_l2', 1e-8, 10.0),\n",
            "<ipython-input-45-3d6f33735477>:12: FutureWarning: suggest_uniform has been deprecated in v3.0.0. This feature will be removed in v6.0.0. See https://github.com/optuna/optuna/releases/tag/v3.0.0. Use suggest_float instead.\n",
            "  'feature_fraction': trial.suggest_uniform('feature_fraction', 0.4, 1.0),\n",
            "<ipython-input-45-3d6f33735477>:13: FutureWarning: suggest_uniform has been deprecated in v3.0.0. This feature will be removed in v6.0.0. See https://github.com/optuna/optuna/releases/tag/v3.0.0. Use suggest_float instead.\n",
            "  'bagging_fraction': trial.suggest_uniform('bagging_fraction', 0.4, 1.0),\n",
            "<ipython-input-45-3d6f33735477>:16: FutureWarning: suggest_loguniform has been deprecated in v3.0.0. This feature will be removed in v6.0.0. See https://github.com/optuna/optuna/releases/tag/v3.0.0. Use suggest_float(..., log=True) instead.\n",
            "  'learning_rate': trial.suggest_loguniform('learning_rate', 0.01, 0.3),\n"
          ]
        },
        {
          "name": "stdout",
          "output_type": "stream",
          "text": [
            "Training until validation scores don't improve for 20 rounds\n",
            "Early stopping, best iteration is:\n",
            "[1]\tvalid_0's rmse: 5.74247e-05\n",
            "Training until validation scores don't improve for 20 rounds\n",
            "Early stopping, best iteration is:\n",
            "[1]\tvalid_0's rmse: 5.72025e-05\n",
            "Training until validation scores don't improve for 20 rounds\n",
            "Early stopping, best iteration is:\n",
            "[1]\tvalid_0's rmse: 5.78656e-05\n",
            "Training until validation scores don't improve for 20 rounds\n",
            "Early stopping, best iteration is:\n",
            "[1]\tvalid_0's rmse: 5.75458e-05\n"
          ]
        },
        {
          "name": "stderr",
          "output_type": "stream",
          "text": [
            "[I 2023-10-28 14:38:32,670] Trial 17 finished with value: 0.667164260695208 and parameters: {'lambda_l1': 4.976887216116202, 'lambda_l2': 0.007417987980159555, 'num_leaves': 28, 'feature_fraction': 0.8855882391430853, 'bagging_fraction': 0.7250080957106413, 'bagging_freq': 6, 'min_child_samples': 84, 'learning_rate': 0.011079546578423687, 'max_depth': 18}. Best is trial 6 with value: 0.44331007774738185.\n"
          ]
        },
        {
          "name": "stdout",
          "output_type": "stream",
          "text": [
            "Training until validation scores don't improve for 20 rounds\n",
            "Early stopping, best iteration is:\n",
            "[1]\tvalid_0's rmse: 6.53695e-05\n"
          ]
        },
        {
          "name": "stderr",
          "output_type": "stream",
          "text": [
            "<ipython-input-45-3d6f33735477>:9: FutureWarning: suggest_loguniform has been deprecated in v3.0.0. This feature will be removed in v6.0.0. See https://github.com/optuna/optuna/releases/tag/v3.0.0. Use suggest_float(..., log=True) instead.\n",
            "  'lambda_l1': trial.suggest_loguniform('lambda_l1', 1e-8, 10.0),\n",
            "<ipython-input-45-3d6f33735477>:10: FutureWarning: suggest_loguniform has been deprecated in v3.0.0. This feature will be removed in v6.0.0. See https://github.com/optuna/optuna/releases/tag/v3.0.0. Use suggest_float(..., log=True) instead.\n",
            "  'lambda_l2': trial.suggest_loguniform('lambda_l2', 1e-8, 10.0),\n",
            "<ipython-input-45-3d6f33735477>:12: FutureWarning: suggest_uniform has been deprecated in v3.0.0. This feature will be removed in v6.0.0. See https://github.com/optuna/optuna/releases/tag/v3.0.0. Use suggest_float instead.\n",
            "  'feature_fraction': trial.suggest_uniform('feature_fraction', 0.4, 1.0),\n",
            "<ipython-input-45-3d6f33735477>:13: FutureWarning: suggest_uniform has been deprecated in v3.0.0. This feature will be removed in v6.0.0. See https://github.com/optuna/optuna/releases/tag/v3.0.0. Use suggest_float instead.\n",
            "  'bagging_fraction': trial.suggest_uniform('bagging_fraction', 0.4, 1.0),\n",
            "<ipython-input-45-3d6f33735477>:16: FutureWarning: suggest_loguniform has been deprecated in v3.0.0. This feature will be removed in v6.0.0. See https://github.com/optuna/optuna/releases/tag/v3.0.0. Use suggest_float(..., log=True) instead.\n",
            "  'learning_rate': trial.suggest_loguniform('learning_rate', 0.01, 0.3),\n"
          ]
        },
        {
          "name": "stdout",
          "output_type": "stream",
          "text": [
            "Training until validation scores don't improve for 20 rounds\n",
            "Did not meet early stopping. Best iteration is:\n",
            "[500]\tvalid_0's rmse: 4.95164e-05\n",
            "Training until validation scores don't improve for 20 rounds\n",
            "Did not meet early stopping. Best iteration is:\n",
            "[494]\tvalid_0's rmse: 4.97368e-05\n",
            "Training until validation scores don't improve for 20 rounds\n",
            "Did not meet early stopping. Best iteration is:\n",
            "[500]\tvalid_0's rmse: 4.98743e-05\n",
            "Training until validation scores don't improve for 20 rounds\n",
            "Did not meet early stopping. Best iteration is:\n",
            "[500]\tvalid_0's rmse: 4.9738e-05\n",
            "Training until validation scores don't improve for 20 rounds\n",
            "Early stopping, best iteration is:\n",
            "[357]\tvalid_0's rmse: 5.62935e-05\n"
          ]
        },
        {
          "name": "stderr",
          "output_type": "stream",
          "text": [
            "[I 2023-10-28 14:38:58,981] Trial 18 finished with value: 0.4625711100458001 and parameters: {'lambda_l1': 0.0115300468687151, 'lambda_l2': 0.03245595501998991, 'num_leaves': 33, 'feature_fraction': 0.804156874741234, 'bagging_fraction': 0.4073371479933084, 'bagging_freq': 7, 'min_child_samples': 90, 'learning_rate': 0.019974722101944602, 'max_depth': 16}. Best is trial 6 with value: 0.44331007774738185.\n",
            "<ipython-input-45-3d6f33735477>:9: FutureWarning: suggest_loguniform has been deprecated in v3.0.0. This feature will be removed in v6.0.0. See https://github.com/optuna/optuna/releases/tag/v3.0.0. Use suggest_float(..., log=True) instead.\n",
            "  'lambda_l1': trial.suggest_loguniform('lambda_l1', 1e-8, 10.0),\n",
            "<ipython-input-45-3d6f33735477>:10: FutureWarning: suggest_loguniform has been deprecated in v3.0.0. This feature will be removed in v6.0.0. See https://github.com/optuna/optuna/releases/tag/v3.0.0. Use suggest_float(..., log=True) instead.\n",
            "  'lambda_l2': trial.suggest_loguniform('lambda_l2', 1e-8, 10.0),\n",
            "<ipython-input-45-3d6f33735477>:12: FutureWarning: suggest_uniform has been deprecated in v3.0.0. This feature will be removed in v6.0.0. See https://github.com/optuna/optuna/releases/tag/v3.0.0. Use suggest_float instead.\n",
            "  'feature_fraction': trial.suggest_uniform('feature_fraction', 0.4, 1.0),\n",
            "<ipython-input-45-3d6f33735477>:13: FutureWarning: suggest_uniform has been deprecated in v3.0.0. This feature will be removed in v6.0.0. See https://github.com/optuna/optuna/releases/tag/v3.0.0. Use suggest_float instead.\n",
            "  'bagging_fraction': trial.suggest_uniform('bagging_fraction', 0.4, 1.0),\n",
            "<ipython-input-45-3d6f33735477>:16: FutureWarning: suggest_loguniform has been deprecated in v3.0.0. This feature will be removed in v6.0.0. See https://github.com/optuna/optuna/releases/tag/v3.0.0. Use suggest_float(..., log=True) instead.\n",
            "  'learning_rate': trial.suggest_loguniform('learning_rate', 0.01, 0.3),\n"
          ]
        },
        {
          "name": "stdout",
          "output_type": "stream",
          "text": [
            "Training until validation scores don't improve for 20 rounds\n",
            "Early stopping, best iteration is:\n",
            "[260]\tvalid_0's rmse: 4.95455e-05\n",
            "Training until validation scores don't improve for 20 rounds\n",
            "Early stopping, best iteration is:\n",
            "[333]\tvalid_0's rmse: 4.96075e-05\n",
            "Training until validation scores don't improve for 20 rounds\n",
            "Early stopping, best iteration is:\n",
            "[335]\tvalid_0's rmse: 4.96599e-05\n",
            "Training until validation scores don't improve for 20 rounds\n",
            "Early stopping, best iteration is:\n",
            "[235]\tvalid_0's rmse: 4.99328e-05\n",
            "Training until validation scores don't improve for 20 rounds\n",
            "Did not meet early stopping. Best iteration is:\n",
            "[482]\tvalid_0's rmse: 5.54591e-05\n"
          ]
        },
        {
          "name": "stderr",
          "output_type": "stream",
          "text": [
            "[I 2023-10-28 14:39:51,478] Trial 19 finished with value: 0.44922211700973314 and parameters: {'lambda_l1': 4.263953695085781e-05, 'lambda_l2': 0.00019975440859031996, 'num_leaves': 26, 'feature_fraction': 0.9085847532888761, 'bagging_fraction': 0.7769042561269729, 'bagging_freq': 3, 'min_child_samples': 46, 'learning_rate': 0.016184887826062522, 'max_depth': 20}. Best is trial 6 with value: 0.44331007774738185.\n",
            "<ipython-input-45-3d6f33735477>:9: FutureWarning: suggest_loguniform has been deprecated in v3.0.0. This feature will be removed in v6.0.0. See https://github.com/optuna/optuna/releases/tag/v3.0.0. Use suggest_float(..., log=True) instead.\n",
            "  'lambda_l1': trial.suggest_loguniform('lambda_l1', 1e-8, 10.0),\n",
            "<ipython-input-45-3d6f33735477>:10: FutureWarning: suggest_loguniform has been deprecated in v3.0.0. This feature will be removed in v6.0.0. See https://github.com/optuna/optuna/releases/tag/v3.0.0. Use suggest_float(..., log=True) instead.\n",
            "  'lambda_l2': trial.suggest_loguniform('lambda_l2', 1e-8, 10.0),\n",
            "<ipython-input-45-3d6f33735477>:12: FutureWarning: suggest_uniform has been deprecated in v3.0.0. This feature will be removed in v6.0.0. See https://github.com/optuna/optuna/releases/tag/v3.0.0. Use suggest_float instead.\n",
            "  'feature_fraction': trial.suggest_uniform('feature_fraction', 0.4, 1.0),\n",
            "<ipython-input-45-3d6f33735477>:13: FutureWarning: suggest_uniform has been deprecated in v3.0.0. This feature will be removed in v6.0.0. See https://github.com/optuna/optuna/releases/tag/v3.0.0. Use suggest_float instead.\n",
            "  'bagging_fraction': trial.suggest_uniform('bagging_fraction', 0.4, 1.0),\n",
            "<ipython-input-45-3d6f33735477>:16: FutureWarning: suggest_loguniform has been deprecated in v3.0.0. This feature will be removed in v6.0.0. See https://github.com/optuna/optuna/releases/tag/v3.0.0. Use suggest_float(..., log=True) instead.\n",
            "  'learning_rate': trial.suggest_loguniform('learning_rate', 0.01, 0.3),\n"
          ]
        },
        {
          "name": "stdout",
          "output_type": "stream",
          "text": [
            "Training until validation scores don't improve for 20 rounds\n",
            "Early stopping, best iteration is:\n",
            "[362]\tvalid_0's rmse: 4.95137e-05\n",
            "Training until validation scores don't improve for 20 rounds\n",
            "Early stopping, best iteration is:\n",
            "[390]\tvalid_0's rmse: 4.95642e-05\n",
            "Training until validation scores don't improve for 20 rounds\n",
            "Did not meet early stopping. Best iteration is:\n",
            "[485]\tvalid_0's rmse: 4.95686e-05\n",
            "Training until validation scores don't improve for 20 rounds\n",
            "Early stopping, best iteration is:\n",
            "[284]\tvalid_0's rmse: 4.98561e-05\n",
            "Training until validation scores don't improve for 20 rounds\n",
            "Early stopping, best iteration is:\n",
            "[453]\tvalid_0's rmse: 5.53021e-05\n"
          ]
        },
        {
          "name": "stderr",
          "output_type": "stream",
          "text": [
            "[I 2023-10-28 14:40:55,762] Trial 20 finished with value: 0.4480358752370711 and parameters: {'lambda_l1': 2.907820947752127e-07, 'lambda_l2': 0.7492978811282986, 'num_leaves': 39, 'feature_fraction': 0.7563525312990349, 'bagging_fraction': 0.715407671035278, 'bagging_freq': 6, 'min_child_samples': 93, 'learning_rate': 0.01060080777830208, 'max_depth': 13}. Best is trial 6 with value: 0.44331007774738185.\n",
            "<ipython-input-45-3d6f33735477>:9: FutureWarning: suggest_loguniform has been deprecated in v3.0.0. This feature will be removed in v6.0.0. See https://github.com/optuna/optuna/releases/tag/v3.0.0. Use suggest_float(..., log=True) instead.\n",
            "  'lambda_l1': trial.suggest_loguniform('lambda_l1', 1e-8, 10.0),\n",
            "<ipython-input-45-3d6f33735477>:10: FutureWarning: suggest_loguniform has been deprecated in v3.0.0. This feature will be removed in v6.0.0. See https://github.com/optuna/optuna/releases/tag/v3.0.0. Use suggest_float(..., log=True) instead.\n",
            "  'lambda_l2': trial.suggest_loguniform('lambda_l2', 1e-8, 10.0),\n",
            "<ipython-input-45-3d6f33735477>:12: FutureWarning: suggest_uniform has been deprecated in v3.0.0. This feature will be removed in v6.0.0. See https://github.com/optuna/optuna/releases/tag/v3.0.0. Use suggest_float instead.\n",
            "  'feature_fraction': trial.suggest_uniform('feature_fraction', 0.4, 1.0),\n",
            "<ipython-input-45-3d6f33735477>:13: FutureWarning: suggest_uniform has been deprecated in v3.0.0. This feature will be removed in v6.0.0. See https://github.com/optuna/optuna/releases/tag/v3.0.0. Use suggest_float instead.\n",
            "  'bagging_fraction': trial.suggest_uniform('bagging_fraction', 0.4, 1.0),\n",
            "<ipython-input-45-3d6f33735477>:16: FutureWarning: suggest_loguniform has been deprecated in v3.0.0. This feature will be removed in v6.0.0. See https://github.com/optuna/optuna/releases/tag/v3.0.0. Use suggest_float(..., log=True) instead.\n",
            "  'learning_rate': trial.suggest_loguniform('learning_rate', 0.01, 0.3),\n"
          ]
        },
        {
          "name": "stdout",
          "output_type": "stream",
          "text": [
            "Training until validation scores don't improve for 20 rounds\n",
            "Early stopping, best iteration is:\n",
            "[125]\tvalid_0's rmse: 4.9486e-05\n",
            "Training until validation scores don't improve for 20 rounds\n",
            "Early stopping, best iteration is:\n",
            "[154]\tvalid_0's rmse: 4.95352e-05\n",
            "Training until validation scores don't improve for 20 rounds\n",
            "Early stopping, best iteration is:\n",
            "[125]\tvalid_0's rmse: 4.97272e-05\n",
            "Training until validation scores don't improve for 20 rounds\n",
            "Early stopping, best iteration is:\n",
            "[143]\tvalid_0's rmse: 4.95605e-05\n",
            "Training until validation scores don't improve for 20 rounds\n"
          ]
        },
        {
          "name": "stderr",
          "output_type": "stream",
          "text": [
            "[I 2023-10-28 14:41:22,361] Trial 21 finished with value: 0.44714387863344174 and parameters: {'lambda_l1': 0.002462788601964302, 'lambda_l2': 0.08232906470028037, 'num_leaves': 43, 'feature_fraction': 0.944600956630099, 'bagging_fraction': 0.8157641498683824, 'bagging_freq': 5, 'min_child_samples': 63, 'learning_rate': 0.034274953898598644, 'max_depth': 8}. Best is trial 6 with value: 0.44331007774738185.\n"
          ]
        },
        {
          "name": "stdout",
          "output_type": "stream",
          "text": [
            "Early stopping, best iteration is:\n",
            "[123]\tvalid_0's rmse: 5.58596e-05\n"
          ]
        },
        {
          "name": "stderr",
          "output_type": "stream",
          "text": [
            "<ipython-input-45-3d6f33735477>:9: FutureWarning: suggest_loguniform has been deprecated in v3.0.0. This feature will be removed in v6.0.0. See https://github.com/optuna/optuna/releases/tag/v3.0.0. Use suggest_float(..., log=True) instead.\n",
            "  'lambda_l1': trial.suggest_loguniform('lambda_l1', 1e-8, 10.0),\n",
            "<ipython-input-45-3d6f33735477>:10: FutureWarning: suggest_loguniform has been deprecated in v3.0.0. This feature will be removed in v6.0.0. See https://github.com/optuna/optuna/releases/tag/v3.0.0. Use suggest_float(..., log=True) instead.\n",
            "  'lambda_l2': trial.suggest_loguniform('lambda_l2', 1e-8, 10.0),\n",
            "<ipython-input-45-3d6f33735477>:12: FutureWarning: suggest_uniform has been deprecated in v3.0.0. This feature will be removed in v6.0.0. See https://github.com/optuna/optuna/releases/tag/v3.0.0. Use suggest_float instead.\n",
            "  'feature_fraction': trial.suggest_uniform('feature_fraction', 0.4, 1.0),\n",
            "<ipython-input-45-3d6f33735477>:13: FutureWarning: suggest_uniform has been deprecated in v3.0.0. This feature will be removed in v6.0.0. See https://github.com/optuna/optuna/releases/tag/v3.0.0. Use suggest_float instead.\n",
            "  'bagging_fraction': trial.suggest_uniform('bagging_fraction', 0.4, 1.0),\n",
            "<ipython-input-45-3d6f33735477>:16: FutureWarning: suggest_loguniform has been deprecated in v3.0.0. This feature will be removed in v6.0.0. See https://github.com/optuna/optuna/releases/tag/v3.0.0. Use suggest_float(..., log=True) instead.\n",
            "  'learning_rate': trial.suggest_loguniform('learning_rate', 0.01, 0.3),\n"
          ]
        },
        {
          "name": "stdout",
          "output_type": "stream",
          "text": [
            "Training until validation scores don't improve for 20 rounds\n",
            "Early stopping, best iteration is:\n",
            "[146]\tvalid_0's rmse: 4.96076e-05\n",
            "Training until validation scores don't improve for 20 rounds\n",
            "Early stopping, best iteration is:\n",
            "[167]\tvalid_0's rmse: 4.96028e-05\n",
            "Training until validation scores don't improve for 20 rounds\n",
            "Early stopping, best iteration is:\n",
            "[161]\tvalid_0's rmse: 4.97111e-05\n",
            "Training until validation scores don't improve for 20 rounds\n",
            "Early stopping, best iteration is:\n",
            "[137]\tvalid_0's rmse: 4.983e-05\n",
            "Training until validation scores don't improve for 20 rounds\n"
          ]
        },
        {
          "name": "stderr",
          "output_type": "stream",
          "text": [
            "[I 2023-10-28 14:42:01,307] Trial 22 finished with value: 0.4456015720242372 and parameters: {'lambda_l1': 0.00015142262014247062, 'lambda_l2': 0.3107091485153578, 'num_leaves': 54, 'feature_fraction': 0.855728279814771, 'bagging_fraction': 0.8772238202721314, 'bagging_freq': 6, 'min_child_samples': 77, 'learning_rate': 0.025533079264892292, 'max_depth': 12}. Best is trial 6 with value: 0.44331007774738185.\n"
          ]
        },
        {
          "name": "stdout",
          "output_type": "stream",
          "text": [
            "Early stopping, best iteration is:\n",
            "[138]\tvalid_0's rmse: 5.55213e-05\n"
          ]
        },
        {
          "name": "stderr",
          "output_type": "stream",
          "text": [
            "<ipython-input-45-3d6f33735477>:9: FutureWarning: suggest_loguniform has been deprecated in v3.0.0. This feature will be removed in v6.0.0. See https://github.com/optuna/optuna/releases/tag/v3.0.0. Use suggest_float(..., log=True) instead.\n",
            "  'lambda_l1': trial.suggest_loguniform('lambda_l1', 1e-8, 10.0),\n",
            "<ipython-input-45-3d6f33735477>:10: FutureWarning: suggest_loguniform has been deprecated in v3.0.0. This feature will be removed in v6.0.0. See https://github.com/optuna/optuna/releases/tag/v3.0.0. Use suggest_float(..., log=True) instead.\n",
            "  'lambda_l2': trial.suggest_loguniform('lambda_l2', 1e-8, 10.0),\n",
            "<ipython-input-45-3d6f33735477>:12: FutureWarning: suggest_uniform has been deprecated in v3.0.0. This feature will be removed in v6.0.0. See https://github.com/optuna/optuna/releases/tag/v3.0.0. Use suggest_float instead.\n",
            "  'feature_fraction': trial.suggest_uniform('feature_fraction', 0.4, 1.0),\n",
            "<ipython-input-45-3d6f33735477>:13: FutureWarning: suggest_uniform has been deprecated in v3.0.0. This feature will be removed in v6.0.0. See https://github.com/optuna/optuna/releases/tag/v3.0.0. Use suggest_float instead.\n",
            "  'bagging_fraction': trial.suggest_uniform('bagging_fraction', 0.4, 1.0),\n",
            "<ipython-input-45-3d6f33735477>:16: FutureWarning: suggest_loguniform has been deprecated in v3.0.0. This feature will be removed in v6.0.0. See https://github.com/optuna/optuna/releases/tag/v3.0.0. Use suggest_float(..., log=True) instead.\n",
            "  'learning_rate': trial.suggest_loguniform('learning_rate', 0.01, 0.3),\n"
          ]
        },
        {
          "name": "stdout",
          "output_type": "stream",
          "text": [
            "Training until validation scores don't improve for 20 rounds\n",
            "Did not meet early stopping. Best iteration is:\n",
            "[499]\tvalid_0's rmse: 4.96026e-05\n",
            "Training until validation scores don't improve for 20 rounds\n",
            "Did not meet early stopping. Best iteration is:\n",
            "[489]\tvalid_0's rmse: 4.9768e-05\n",
            "Training until validation scores don't improve for 20 rounds\n",
            "Did not meet early stopping. Best iteration is:\n",
            "[500]\tvalid_0's rmse: 4.9822e-05\n",
            "Training until validation scores don't improve for 20 rounds\n",
            "Early stopping, best iteration is:\n",
            "[409]\tvalid_0's rmse: 5.02389e-05\n",
            "Training until validation scores don't improve for 20 rounds\n",
            "Early stopping, best iteration is:\n",
            "[380]\tvalid_0's rmse: 5.63488e-05\n"
          ]
        },
        {
          "name": "stderr",
          "output_type": "stream",
          "text": [
            "[I 2023-10-28 14:42:53,143] Trial 23 finished with value: 0.4597271783552458 and parameters: {'lambda_l1': 0.013291255485837105, 'lambda_l2': 0.003896996639747126, 'num_leaves': 34, 'feature_fraction': 0.98643682519299, 'bagging_fraction': 0.7999725597230972, 'bagging_freq': 5, 'min_child_samples': 59, 'learning_rate': 0.01694322491735616, 'max_depth': 17}. Best is trial 6 with value: 0.44331007774738185.\n",
            "<ipython-input-45-3d6f33735477>:9: FutureWarning: suggest_loguniform has been deprecated in v3.0.0. This feature will be removed in v6.0.0. See https://github.com/optuna/optuna/releases/tag/v3.0.0. Use suggest_float(..., log=True) instead.\n",
            "  'lambda_l1': trial.suggest_loguniform('lambda_l1', 1e-8, 10.0),\n",
            "<ipython-input-45-3d6f33735477>:10: FutureWarning: suggest_loguniform has been deprecated in v3.0.0. This feature will be removed in v6.0.0. See https://github.com/optuna/optuna/releases/tag/v3.0.0. Use suggest_float(..., log=True) instead.\n",
            "  'lambda_l2': trial.suggest_loguniform('lambda_l2', 1e-8, 10.0),\n",
            "<ipython-input-45-3d6f33735477>:12: FutureWarning: suggest_uniform has been deprecated in v3.0.0. This feature will be removed in v6.0.0. See https://github.com/optuna/optuna/releases/tag/v3.0.0. Use suggest_float instead.\n",
            "  'feature_fraction': trial.suggest_uniform('feature_fraction', 0.4, 1.0),\n",
            "<ipython-input-45-3d6f33735477>:13: FutureWarning: suggest_uniform has been deprecated in v3.0.0. This feature will be removed in v6.0.0. See https://github.com/optuna/optuna/releases/tag/v3.0.0. Use suggest_float instead.\n",
            "  'bagging_fraction': trial.suggest_uniform('bagging_fraction', 0.4, 1.0),\n",
            "<ipython-input-45-3d6f33735477>:16: FutureWarning: suggest_loguniform has been deprecated in v3.0.0. This feature will be removed in v6.0.0. See https://github.com/optuna/optuna/releases/tag/v3.0.0. Use suggest_float(..., log=True) instead.\n",
            "  'learning_rate': trial.suggest_loguniform('learning_rate', 0.01, 0.3),\n"
          ]
        },
        {
          "name": "stdout",
          "output_type": "stream",
          "text": [
            "Training until validation scores don't improve for 20 rounds\n",
            "Early stopping, best iteration is:\n",
            "[87]\tvalid_0's rmse: 4.97062e-05\n",
            "Training until validation scores don't improve for 20 rounds\n",
            "Early stopping, best iteration is:\n",
            "[100]\tvalid_0's rmse: 4.99039e-05\n",
            "Training until validation scores don't improve for 20 rounds\n",
            "Early stopping, best iteration is:\n",
            "[108]\tvalid_0's rmse: 4.98284e-05\n",
            "Training until validation scores don't improve for 20 rounds\n",
            "Early stopping, best iteration is:\n",
            "[81]\tvalid_0's rmse: 4.98744e-05\n",
            "Training until validation scores don't improve for 20 rounds\n"
          ]
        },
        {
          "name": "stderr",
          "output_type": "stream",
          "text": [
            "[I 2023-10-28 14:43:21,058] Trial 24 finished with value: 0.44688295834717773 and parameters: {'lambda_l1': 0.00035501499222904975, 'lambda_l2': 0.03792000431087262, 'num_leaves': 63, 'feature_fraction': 0.8955666122412642, 'bagging_fraction': 0.7531920565836875, 'bagging_freq': 4, 'min_child_samples': 82, 'learning_rate': 0.040233513341407796, 'max_depth': 18}. Best is trial 6 with value: 0.44331007774738185.\n"
          ]
        },
        {
          "name": "stdout",
          "output_type": "stream",
          "text": [
            "Early stopping, best iteration is:\n",
            "[93]\tvalid_0's rmse: 5.55949e-05\n"
          ]
        },
        {
          "name": "stderr",
          "output_type": "stream",
          "text": [
            "<ipython-input-45-3d6f33735477>:9: FutureWarning: suggest_loguniform has been deprecated in v3.0.0. This feature will be removed in v6.0.0. See https://github.com/optuna/optuna/releases/tag/v3.0.0. Use suggest_float(..., log=True) instead.\n",
            "  'lambda_l1': trial.suggest_loguniform('lambda_l1', 1e-8, 10.0),\n",
            "<ipython-input-45-3d6f33735477>:10: FutureWarning: suggest_loguniform has been deprecated in v3.0.0. This feature will be removed in v6.0.0. See https://github.com/optuna/optuna/releases/tag/v3.0.0. Use suggest_float(..., log=True) instead.\n",
            "  'lambda_l2': trial.suggest_loguniform('lambda_l2', 1e-8, 10.0),\n",
            "<ipython-input-45-3d6f33735477>:12: FutureWarning: suggest_uniform has been deprecated in v3.0.0. This feature will be removed in v6.0.0. See https://github.com/optuna/optuna/releases/tag/v3.0.0. Use suggest_float instead.\n",
            "  'feature_fraction': trial.suggest_uniform('feature_fraction', 0.4, 1.0),\n",
            "<ipython-input-45-3d6f33735477>:13: FutureWarning: suggest_uniform has been deprecated in v3.0.0. This feature will be removed in v6.0.0. See https://github.com/optuna/optuna/releases/tag/v3.0.0. Use suggest_float instead.\n",
            "  'bagging_fraction': trial.suggest_uniform('bagging_fraction', 0.4, 1.0),\n",
            "<ipython-input-45-3d6f33735477>:16: FutureWarning: suggest_loguniform has been deprecated in v3.0.0. This feature will be removed in v6.0.0. See https://github.com/optuna/optuna/releases/tag/v3.0.0. Use suggest_float(..., log=True) instead.\n",
            "  'learning_rate': trial.suggest_loguniform('learning_rate', 0.01, 0.3),\n"
          ]
        },
        {
          "name": "stdout",
          "output_type": "stream",
          "text": [
            "Training until validation scores don't improve for 20 rounds\n",
            "Early stopping, best iteration is:\n",
            "[175]\tvalid_0's rmse: 4.95563e-05\n",
            "Training until validation scores don't improve for 20 rounds\n",
            "Early stopping, best iteration is:\n",
            "[217]\tvalid_0's rmse: 4.96105e-05\n",
            "Training until validation scores don't improve for 20 rounds\n",
            "Early stopping, best iteration is:\n",
            "[189]\tvalid_0's rmse: 4.9611e-05\n",
            "Training until validation scores don't improve for 20 rounds\n",
            "Early stopping, best iteration is:\n",
            "[219]\tvalid_0's rmse: 4.95857e-05\n",
            "Training until validation scores don't improve for 20 rounds\n",
            "Early stopping, best iteration is:\n",
            "[427]\tvalid_0's rmse: 5.54922e-05\n"
          ]
        },
        {
          "name": "stderr",
          "output_type": "stream",
          "text": [
            "[I 2023-10-28 14:44:10,225] Trial 25 finished with value: 0.44481458949741876 and parameters: {'lambda_l1': 0.002109703467868559, 'lambda_l2': 1.9562091520027287, 'num_leaves': 44, 'feature_fraction': 0.9271076220235632, 'bagging_fraction': 0.8147320491651154, 'bagging_freq': 7, 'min_child_samples': 69, 'learning_rate': 0.022482760793956825, 'max_depth': 12}. Best is trial 6 with value: 0.44331007774738185.\n",
            "<ipython-input-45-3d6f33735477>:9: FutureWarning: suggest_loguniform has been deprecated in v3.0.0. This feature will be removed in v6.0.0. See https://github.com/optuna/optuna/releases/tag/v3.0.0. Use suggest_float(..., log=True) instead.\n",
            "  'lambda_l1': trial.suggest_loguniform('lambda_l1', 1e-8, 10.0),\n",
            "<ipython-input-45-3d6f33735477>:10: FutureWarning: suggest_loguniform has been deprecated in v3.0.0. This feature will be removed in v6.0.0. See https://github.com/optuna/optuna/releases/tag/v3.0.0. Use suggest_float(..., log=True) instead.\n",
            "  'lambda_l2': trial.suggest_loguniform('lambda_l2', 1e-8, 10.0),\n",
            "<ipython-input-45-3d6f33735477>:12: FutureWarning: suggest_uniform has been deprecated in v3.0.0. This feature will be removed in v6.0.0. See https://github.com/optuna/optuna/releases/tag/v3.0.0. Use suggest_float instead.\n",
            "  'feature_fraction': trial.suggest_uniform('feature_fraction', 0.4, 1.0),\n",
            "<ipython-input-45-3d6f33735477>:13: FutureWarning: suggest_uniform has been deprecated in v3.0.0. This feature will be removed in v6.0.0. See https://github.com/optuna/optuna/releases/tag/v3.0.0. Use suggest_float instead.\n",
            "  'bagging_fraction': trial.suggest_uniform('bagging_fraction', 0.4, 1.0),\n",
            "<ipython-input-45-3d6f33735477>:16: FutureWarning: suggest_loguniform has been deprecated in v3.0.0. This feature will be removed in v6.0.0. See https://github.com/optuna/optuna/releases/tag/v3.0.0. Use suggest_float(..., log=True) instead.\n",
            "  'learning_rate': trial.suggest_loguniform('learning_rate', 0.01, 0.3),\n"
          ]
        },
        {
          "name": "stdout",
          "output_type": "stream",
          "text": [
            "Training until validation scores don't improve for 20 rounds\n",
            "Early stopping, best iteration is:\n",
            "[123]\tvalid_0's rmse: 4.95104e-05\n",
            "Training until validation scores don't improve for 20 rounds\n",
            "Early stopping, best iteration is:\n",
            "[149]\tvalid_0's rmse: 4.96593e-05\n",
            "Training until validation scores don't improve for 20 rounds\n",
            "Early stopping, best iteration is:\n",
            "[162]\tvalid_0's rmse: 4.96193e-05\n",
            "Training until validation scores don't improve for 20 rounds\n",
            "Early stopping, best iteration is:\n",
            "[122]\tvalid_0's rmse: 4.9902e-05\n",
            "Training until validation scores don't improve for 20 rounds\n"
          ]
        },
        {
          "name": "stderr",
          "output_type": "stream",
          "text": [
            "[I 2023-10-28 14:44:39,164] Trial 26 finished with value: 0.4445248066979384 and parameters: {'lambda_l1': 0.0001263204385932448, 'lambda_l2': 0.2055994754454694, 'num_leaves': 39, 'feature_fraction': 0.8358733863080517, 'bagging_fraction': 0.710409421185066, 'bagging_freq': 6, 'min_child_samples': 93, 'learning_rate': 0.030287589332599507, 'max_depth': 8}. Best is trial 6 with value: 0.44331007774738185.\n"
          ]
        },
        {
          "name": "stdout",
          "output_type": "stream",
          "text": [
            "Early stopping, best iteration is:\n",
            "[148]\tvalid_0's rmse: 5.54146e-05\n"
          ]
        },
        {
          "name": "stderr",
          "output_type": "stream",
          "text": [
            "<ipython-input-45-3d6f33735477>:9: FutureWarning: suggest_loguniform has been deprecated in v3.0.0. This feature will be removed in v6.0.0. See https://github.com/optuna/optuna/releases/tag/v3.0.0. Use suggest_float(..., log=True) instead.\n",
            "  'lambda_l1': trial.suggest_loguniform('lambda_l1', 1e-8, 10.0),\n",
            "<ipython-input-45-3d6f33735477>:10: FutureWarning: suggest_loguniform has been deprecated in v3.0.0. This feature will be removed in v6.0.0. See https://github.com/optuna/optuna/releases/tag/v3.0.0. Use suggest_float(..., log=True) instead.\n",
            "  'lambda_l2': trial.suggest_loguniform('lambda_l2', 1e-8, 10.0),\n",
            "<ipython-input-45-3d6f33735477>:12: FutureWarning: suggest_uniform has been deprecated in v3.0.0. This feature will be removed in v6.0.0. See https://github.com/optuna/optuna/releases/tag/v3.0.0. Use suggest_float instead.\n",
            "  'feature_fraction': trial.suggest_uniform('feature_fraction', 0.4, 1.0),\n",
            "<ipython-input-45-3d6f33735477>:13: FutureWarning: suggest_uniform has been deprecated in v3.0.0. This feature will be removed in v6.0.0. See https://github.com/optuna/optuna/releases/tag/v3.0.0. Use suggest_float instead.\n",
            "  'bagging_fraction': trial.suggest_uniform('bagging_fraction', 0.4, 1.0),\n",
            "<ipython-input-45-3d6f33735477>:16: FutureWarning: suggest_loguniform has been deprecated in v3.0.0. This feature will be removed in v6.0.0. See https://github.com/optuna/optuna/releases/tag/v3.0.0. Use suggest_float(..., log=True) instead.\n",
            "  'learning_rate': trial.suggest_loguniform('learning_rate', 0.01, 0.3),\n"
          ]
        },
        {
          "name": "stdout",
          "output_type": "stream",
          "text": [
            "Training until validation scores don't improve for 20 rounds\n",
            "Early stopping, best iteration is:\n",
            "[67]\tvalid_0's rmse: 4.99919e-05\n",
            "Training until validation scores don't improve for 20 rounds\n",
            "Early stopping, best iteration is:\n",
            "[77]\tvalid_0's rmse: 5.00848e-05\n",
            "Training until validation scores don't improve for 20 rounds\n",
            "Early stopping, best iteration is:\n",
            "[75]\tvalid_0's rmse: 4.98961e-05\n",
            "Training until validation scores don't improve for 20 rounds\n",
            "Early stopping, best iteration is:\n",
            "[62]\tvalid_0's rmse: 4.98834e-05\n",
            "Training until validation scores don't improve for 20 rounds\n"
          ]
        },
        {
          "name": "stderr",
          "output_type": "stream",
          "text": [
            "[I 2023-10-28 14:45:06,065] Trial 27 finished with value: 0.4452923008479549 and parameters: {'lambda_l1': 5.514151864023904e-06, 'lambda_l2': 0.01133359998495359, 'num_leaves': 50, 'feature_fraction': 0.9978604582576293, 'bagging_fraction': 0.8694296133778923, 'bagging_freq': 3, 'min_child_samples': 50, 'learning_rate': 0.052621837399866485, 'max_depth': 16}. Best is trial 6 with value: 0.44331007774738185.\n"
          ]
        },
        {
          "name": "stdout",
          "output_type": "stream",
          "text": [
            "Early stopping, best iteration is:\n",
            "[108]\tvalid_0's rmse: 5.58143e-05\n"
          ]
        },
        {
          "name": "stderr",
          "output_type": "stream",
          "text": [
            "<ipython-input-45-3d6f33735477>:9: FutureWarning: suggest_loguniform has been deprecated in v3.0.0. This feature will be removed in v6.0.0. See https://github.com/optuna/optuna/releases/tag/v3.0.0. Use suggest_float(..., log=True) instead.\n",
            "  'lambda_l1': trial.suggest_loguniform('lambda_l1', 1e-8, 10.0),\n",
            "<ipython-input-45-3d6f33735477>:10: FutureWarning: suggest_loguniform has been deprecated in v3.0.0. This feature will be removed in v6.0.0. See https://github.com/optuna/optuna/releases/tag/v3.0.0. Use suggest_float(..., log=True) instead.\n",
            "  'lambda_l2': trial.suggest_loguniform('lambda_l2', 1e-8, 10.0),\n",
            "<ipython-input-45-3d6f33735477>:12: FutureWarning: suggest_uniform has been deprecated in v3.0.0. This feature will be removed in v6.0.0. See https://github.com/optuna/optuna/releases/tag/v3.0.0. Use suggest_float instead.\n",
            "  'feature_fraction': trial.suggest_uniform('feature_fraction', 0.4, 1.0),\n",
            "<ipython-input-45-3d6f33735477>:13: FutureWarning: suggest_uniform has been deprecated in v3.0.0. This feature will be removed in v6.0.0. See https://github.com/optuna/optuna/releases/tag/v3.0.0. Use suggest_float instead.\n",
            "  'bagging_fraction': trial.suggest_uniform('bagging_fraction', 0.4, 1.0),\n",
            "<ipython-input-45-3d6f33735477>:16: FutureWarning: suggest_loguniform has been deprecated in v3.0.0. This feature will be removed in v6.0.0. See https://github.com/optuna/optuna/releases/tag/v3.0.0. Use suggest_float(..., log=True) instead.\n",
            "  'learning_rate': trial.suggest_loguniform('learning_rate', 0.01, 0.3),\n"
          ]
        },
        {
          "name": "stdout",
          "output_type": "stream",
          "text": [
            "Training until validation scores don't improve for 20 rounds\n",
            "Early stopping, best iteration is:\n",
            "[222]\tvalid_0's rmse: 5.11214e-05\n",
            "Training until validation scores don't improve for 20 rounds\n",
            "Early stopping, best iteration is:\n",
            "[208]\tvalid_0's rmse: 5.14213e-05\n",
            "Training until validation scores don't improve for 20 rounds\n",
            "Early stopping, best iteration is:\n",
            "[174]\tvalid_0's rmse: 5.141e-05\n",
            "Training until validation scores don't improve for 20 rounds\n",
            "Early stopping, best iteration is:\n",
            "[208]\tvalid_0's rmse: 5.16804e-05\n",
            "Training until validation scores don't improve for 20 rounds\n"
          ]
        },
        {
          "name": "stderr",
          "output_type": "stream",
          "text": [
            "[I 2023-10-28 14:45:21,018] Trial 28 finished with value: 0.513245028997372 and parameters: {'lambda_l1': 0.05768049178519526, 'lambda_l2': 0.06086529706521428, 'num_leaves': 32, 'feature_fraction': 0.9307941741634174, 'bagging_fraction': 0.7887995037150226, 'bagging_freq': 4, 'min_child_samples': 68, 'learning_rate': 0.042799686239746615, 'max_depth': 13}. Best is trial 6 with value: 0.44331007774738185.\n"
          ]
        },
        {
          "name": "stdout",
          "output_type": "stream",
          "text": [
            "Early stopping, best iteration is:\n",
            "[214]\tvalid_0's rmse: 5.72849e-05\n"
          ]
        },
        {
          "name": "stderr",
          "output_type": "stream",
          "text": [
            "<ipython-input-45-3d6f33735477>:9: FutureWarning: suggest_loguniform has been deprecated in v3.0.0. This feature will be removed in v6.0.0. See https://github.com/optuna/optuna/releases/tag/v3.0.0. Use suggest_float(..., log=True) instead.\n",
            "  'lambda_l1': trial.suggest_loguniform('lambda_l1', 1e-8, 10.0),\n",
            "<ipython-input-45-3d6f33735477>:10: FutureWarning: suggest_loguniform has been deprecated in v3.0.0. This feature will be removed in v6.0.0. See https://github.com/optuna/optuna/releases/tag/v3.0.0. Use suggest_float(..., log=True) instead.\n",
            "  'lambda_l2': trial.suggest_loguniform('lambda_l2', 1e-8, 10.0),\n",
            "<ipython-input-45-3d6f33735477>:12: FutureWarning: suggest_uniform has been deprecated in v3.0.0. This feature will be removed in v6.0.0. See https://github.com/optuna/optuna/releases/tag/v3.0.0. Use suggest_float instead.\n",
            "  'feature_fraction': trial.suggest_uniform('feature_fraction', 0.4, 1.0),\n",
            "<ipython-input-45-3d6f33735477>:13: FutureWarning: suggest_uniform has been deprecated in v3.0.0. This feature will be removed in v6.0.0. See https://github.com/optuna/optuna/releases/tag/v3.0.0. Use suggest_float instead.\n",
            "  'bagging_fraction': trial.suggest_uniform('bagging_fraction', 0.4, 1.0),\n",
            "<ipython-input-45-3d6f33735477>:16: FutureWarning: suggest_loguniform has been deprecated in v3.0.0. This feature will be removed in v6.0.0. See https://github.com/optuna/optuna/releases/tag/v3.0.0. Use suggest_float(..., log=True) instead.\n",
            "  'learning_rate': trial.suggest_loguniform('learning_rate', 0.01, 0.3),\n"
          ]
        },
        {
          "name": "stdout",
          "output_type": "stream",
          "text": [
            "Training until validation scores don't improve for 20 rounds\n",
            "Early stopping, best iteration is:\n",
            "[150]\tvalid_0's rmse: 4.93057e-05\n",
            "Training until validation scores don't improve for 20 rounds\n",
            "Early stopping, best iteration is:\n",
            "[193]\tvalid_0's rmse: 4.95665e-05\n",
            "Training until validation scores don't improve for 20 rounds\n",
            "Early stopping, best iteration is:\n",
            "[150]\tvalid_0's rmse: 4.96124e-05\n",
            "Training until validation scores don't improve for 20 rounds\n",
            "Early stopping, best iteration is:\n",
            "[124]\tvalid_0's rmse: 4.97739e-05\n",
            "Training until validation scores don't improve for 20 rounds\n"
          ]
        },
        {
          "name": "stderr",
          "output_type": "stream",
          "text": [
            "[I 2023-10-28 14:45:41,758] Trial 29 finished with value: 0.4505068155407912 and parameters: {'lambda_l1': 1.9065880798995436e-06, 'lambda_l2': 2.030267780839618, 'num_leaves': 22, 'feature_fraction': 0.4997838192636174, 'bagging_fraction': 0.9195688199942997, 'bagging_freq': 5, 'min_child_samples': 38, 'learning_rate': 0.034118869197022596, 'max_depth': 17}. Best is trial 6 with value: 0.44331007774738185.\n"
          ]
        },
        {
          "name": "stdout",
          "output_type": "stream",
          "text": [
            "Early stopping, best iteration is:\n",
            "[228]\tvalid_0's rmse: 5.53114e-05\n"
          ]
        },
        {
          "name": "stderr",
          "output_type": "stream",
          "text": [
            "<ipython-input-45-3d6f33735477>:9: FutureWarning: suggest_loguniform has been deprecated in v3.0.0. This feature will be removed in v6.0.0. See https://github.com/optuna/optuna/releases/tag/v3.0.0. Use suggest_float(..., log=True) instead.\n",
            "  'lambda_l1': trial.suggest_loguniform('lambda_l1', 1e-8, 10.0),\n",
            "<ipython-input-45-3d6f33735477>:10: FutureWarning: suggest_loguniform has been deprecated in v3.0.0. This feature will be removed in v6.0.0. See https://github.com/optuna/optuna/releases/tag/v3.0.0. Use suggest_float(..., log=True) instead.\n",
            "  'lambda_l2': trial.suggest_loguniform('lambda_l2', 1e-8, 10.0),\n",
            "<ipython-input-45-3d6f33735477>:12: FutureWarning: suggest_uniform has been deprecated in v3.0.0. This feature will be removed in v6.0.0. See https://github.com/optuna/optuna/releases/tag/v3.0.0. Use suggest_float instead.\n",
            "  'feature_fraction': trial.suggest_uniform('feature_fraction', 0.4, 1.0),\n",
            "<ipython-input-45-3d6f33735477>:13: FutureWarning: suggest_uniform has been deprecated in v3.0.0. This feature will be removed in v6.0.0. See https://github.com/optuna/optuna/releases/tag/v3.0.0. Use suggest_float instead.\n",
            "  'bagging_fraction': trial.suggest_uniform('bagging_fraction', 0.4, 1.0),\n",
            "<ipython-input-45-3d6f33735477>:16: FutureWarning: suggest_loguniform has been deprecated in v3.0.0. This feature will be removed in v6.0.0. See https://github.com/optuna/optuna/releases/tag/v3.0.0. Use suggest_float(..., log=True) instead.\n",
            "  'learning_rate': trial.suggest_loguniform('learning_rate', 0.01, 0.3),\n"
          ]
        },
        {
          "name": "stdout",
          "output_type": "stream",
          "text": [
            "Training until validation scores don't improve for 20 rounds\n",
            "Early stopping, best iteration is:\n",
            "[80]\tvalid_0's rmse: 4.96589e-05\n",
            "Training until validation scores don't improve for 20 rounds\n",
            "Early stopping, best iteration is:\n",
            "[83]\tvalid_0's rmse: 4.97712e-05\n",
            "Training until validation scores don't improve for 20 rounds\n",
            "Early stopping, best iteration is:\n",
            "[84]\tvalid_0's rmse: 4.96272e-05\n",
            "Training until validation scores don't improve for 20 rounds\n",
            "Early stopping, best iteration is:\n",
            "[62]\tvalid_0's rmse: 4.96953e-05\n",
            "Training until validation scores don't improve for 20 rounds\n"
          ]
        },
        {
          "name": "stderr",
          "output_type": "stream",
          "text": [
            "[I 2023-10-28 14:46:00,467] Trial 30 finished with value: 0.447850933732375 and parameters: {'lambda_l1': 0.0007015810513498396, 'lambda_l2': 0.0021409298430752357, 'num_leaves': 26, 'feature_fraction': 0.8688549282450815, 'bagging_fraction': 0.9480140178702725, 'bagging_freq': 7, 'min_child_samples': 80, 'learning_rate': 0.061632440221236484, 'max_depth': 19}. Best is trial 6 with value: 0.44331007774738185.\n"
          ]
        },
        {
          "name": "stdout",
          "output_type": "stream",
          "text": [
            "Early stopping, best iteration is:\n",
            "[134]\tvalid_0's rmse: 5.54871e-05\n"
          ]
        },
        {
          "name": "stderr",
          "output_type": "stream",
          "text": [
            "<ipython-input-45-3d6f33735477>:9: FutureWarning: suggest_loguniform has been deprecated in v3.0.0. This feature will be removed in v6.0.0. See https://github.com/optuna/optuna/releases/tag/v3.0.0. Use suggest_float(..., log=True) instead.\n",
            "  'lambda_l1': trial.suggest_loguniform('lambda_l1', 1e-8, 10.0),\n",
            "<ipython-input-45-3d6f33735477>:10: FutureWarning: suggest_loguniform has been deprecated in v3.0.0. This feature will be removed in v6.0.0. See https://github.com/optuna/optuna/releases/tag/v3.0.0. Use suggest_float(..., log=True) instead.\n",
            "  'lambda_l2': trial.suggest_loguniform('lambda_l2', 1e-8, 10.0),\n",
            "<ipython-input-45-3d6f33735477>:12: FutureWarning: suggest_uniform has been deprecated in v3.0.0. This feature will be removed in v6.0.0. See https://github.com/optuna/optuna/releases/tag/v3.0.0. Use suggest_float instead.\n",
            "  'feature_fraction': trial.suggest_uniform('feature_fraction', 0.4, 1.0),\n",
            "<ipython-input-45-3d6f33735477>:13: FutureWarning: suggest_uniform has been deprecated in v3.0.0. This feature will be removed in v6.0.0. See https://github.com/optuna/optuna/releases/tag/v3.0.0. Use suggest_float instead.\n",
            "  'bagging_fraction': trial.suggest_uniform('bagging_fraction', 0.4, 1.0),\n",
            "<ipython-input-45-3d6f33735477>:16: FutureWarning: suggest_loguniform has been deprecated in v3.0.0. This feature will be removed in v6.0.0. See https://github.com/optuna/optuna/releases/tag/v3.0.0. Use suggest_float(..., log=True) instead.\n",
            "  'learning_rate': trial.suggest_loguniform('learning_rate', 0.01, 0.3),\n"
          ]
        },
        {
          "name": "stdout",
          "output_type": "stream",
          "text": [
            "Training until validation scores don't improve for 20 rounds\n",
            "Early stopping, best iteration is:\n",
            "[159]\tvalid_0's rmse: 4.95863e-05\n",
            "Training until validation scores don't improve for 20 rounds\n",
            "Early stopping, best iteration is:\n",
            "[126]\tvalid_0's rmse: 4.9762e-05\n",
            "Training until validation scores don't improve for 20 rounds\n",
            "Early stopping, best iteration is:\n",
            "[210]\tvalid_0's rmse: 4.97166e-05\n",
            "Training until validation scores don't improve for 20 rounds\n",
            "Early stopping, best iteration is:\n",
            "[105]\tvalid_0's rmse: 4.9995e-05\n",
            "Training until validation scores don't improve for 20 rounds\n"
          ]
        },
        {
          "name": "stderr",
          "output_type": "stream",
          "text": [
            "[I 2023-10-28 14:46:41,089] Trial 31 finished with value: 0.4448474914785221 and parameters: {'lambda_l1': 4.113288216617603e-07, 'lambda_l2': 8.750513171930626, 'num_leaves': 46, 'feature_fraction': 0.8616903941761751, 'bagging_fraction': 0.8453976694220029, 'bagging_freq': 5, 'min_child_samples': 97, 'learning_rate': 0.02808495917411962, 'max_depth': 19}. Best is trial 6 with value: 0.44331007774738185.\n"
          ]
        },
        {
          "name": "stdout",
          "output_type": "stream",
          "text": [
            "Early stopping, best iteration is:\n",
            "[240]\tvalid_0's rmse: 5.529e-05\n"
          ]
        },
        {
          "name": "stderr",
          "output_type": "stream",
          "text": [
            "<ipython-input-45-3d6f33735477>:9: FutureWarning: suggest_loguniform has been deprecated in v3.0.0. This feature will be removed in v6.0.0. See https://github.com/optuna/optuna/releases/tag/v3.0.0. Use suggest_float(..., log=True) instead.\n",
            "  'lambda_l1': trial.suggest_loguniform('lambda_l1', 1e-8, 10.0),\n",
            "<ipython-input-45-3d6f33735477>:10: FutureWarning: suggest_loguniform has been deprecated in v3.0.0. This feature will be removed in v6.0.0. See https://github.com/optuna/optuna/releases/tag/v3.0.0. Use suggest_float(..., log=True) instead.\n",
            "  'lambda_l2': trial.suggest_loguniform('lambda_l2', 1e-8, 10.0),\n",
            "<ipython-input-45-3d6f33735477>:12: FutureWarning: suggest_uniform has been deprecated in v3.0.0. This feature will be removed in v6.0.0. See https://github.com/optuna/optuna/releases/tag/v3.0.0. Use suggest_float instead.\n",
            "  'feature_fraction': trial.suggest_uniform('feature_fraction', 0.4, 1.0),\n",
            "<ipython-input-45-3d6f33735477>:13: FutureWarning: suggest_uniform has been deprecated in v3.0.0. This feature will be removed in v6.0.0. See https://github.com/optuna/optuna/releases/tag/v3.0.0. Use suggest_float instead.\n",
            "  'bagging_fraction': trial.suggest_uniform('bagging_fraction', 0.4, 1.0),\n",
            "<ipython-input-45-3d6f33735477>:16: FutureWarning: suggest_loguniform has been deprecated in v3.0.0. This feature will be removed in v6.0.0. See https://github.com/optuna/optuna/releases/tag/v3.0.0. Use suggest_float(..., log=True) instead.\n",
            "  'learning_rate': trial.suggest_loguniform('learning_rate', 0.01, 0.3),\n"
          ]
        },
        {
          "name": "stdout",
          "output_type": "stream",
          "text": [
            "Training until validation scores don't improve for 20 rounds\n",
            "Early stopping, best iteration is:\n",
            "[124]\tvalid_0's rmse: 4.95915e-05\n",
            "Training until validation scores don't improve for 20 rounds\n",
            "Early stopping, best iteration is:\n",
            "[150]\tvalid_0's rmse: 4.96674e-05\n",
            "Training until validation scores don't improve for 20 rounds\n",
            "Early stopping, best iteration is:\n",
            "[161]\tvalid_0's rmse: 4.97175e-05\n",
            "Training until validation scores don't improve for 20 rounds\n",
            "Early stopping, best iteration is:\n",
            "[121]\tvalid_0's rmse: 4.98817e-05\n",
            "Training until validation scores don't improve for 20 rounds\n"
          ]
        },
        {
          "name": "stderr",
          "output_type": "stream",
          "text": [
            "[I 2023-10-28 14:47:16,485] Trial 32 finished with value: 0.44662288970935576 and parameters: {'lambda_l1': 1.2240319695093798e-08, 'lambda_l2': 0.7747239629796085, 'num_leaves': 50, 'feature_fraction': 0.7929292667429402, 'bagging_fraction': 0.8290321897552178, 'bagging_freq': 6, 'min_child_samples': 87, 'learning_rate': 0.02777881736796008, 'max_depth': 18}. Best is trial 6 with value: 0.44331007774738185.\n"
          ]
        },
        {
          "name": "stdout",
          "output_type": "stream",
          "text": [
            "Early stopping, best iteration is:\n",
            "[191]\tvalid_0's rmse: 5.55064e-05\n"
          ]
        },
        {
          "name": "stderr",
          "output_type": "stream",
          "text": [
            "<ipython-input-45-3d6f33735477>:9: FutureWarning: suggest_loguniform has been deprecated in v3.0.0. This feature will be removed in v6.0.0. See https://github.com/optuna/optuna/releases/tag/v3.0.0. Use suggest_float(..., log=True) instead.\n",
            "  'lambda_l1': trial.suggest_loguniform('lambda_l1', 1e-8, 10.0),\n",
            "<ipython-input-45-3d6f33735477>:10: FutureWarning: suggest_loguniform has been deprecated in v3.0.0. This feature will be removed in v6.0.0. See https://github.com/optuna/optuna/releases/tag/v3.0.0. Use suggest_float(..., log=True) instead.\n",
            "  'lambda_l2': trial.suggest_loguniform('lambda_l2', 1e-8, 10.0),\n",
            "<ipython-input-45-3d6f33735477>:12: FutureWarning: suggest_uniform has been deprecated in v3.0.0. This feature will be removed in v6.0.0. See https://github.com/optuna/optuna/releases/tag/v3.0.0. Use suggest_float instead.\n",
            "  'feature_fraction': trial.suggest_uniform('feature_fraction', 0.4, 1.0),\n",
            "<ipython-input-45-3d6f33735477>:13: FutureWarning: suggest_uniform has been deprecated in v3.0.0. This feature will be removed in v6.0.0. See https://github.com/optuna/optuna/releases/tag/v3.0.0. Use suggest_float instead.\n",
            "  'bagging_fraction': trial.suggest_uniform('bagging_fraction', 0.4, 1.0),\n",
            "<ipython-input-45-3d6f33735477>:16: FutureWarning: suggest_loguniform has been deprecated in v3.0.0. This feature will be removed in v6.0.0. See https://github.com/optuna/optuna/releases/tag/v3.0.0. Use suggest_float(..., log=True) instead.\n",
            "  'learning_rate': trial.suggest_loguniform('learning_rate', 0.01, 0.3),\n"
          ]
        },
        {
          "name": "stdout",
          "output_type": "stream",
          "text": [
            "Training until validation scores don't improve for 20 rounds\n",
            "Early stopping, best iteration is:\n",
            "[99]\tvalid_0's rmse: 4.98014e-05\n",
            "Training until validation scores don't improve for 20 rounds\n",
            "Early stopping, best iteration is:\n",
            "[170]\tvalid_0's rmse: 4.97607e-05\n",
            "Training until validation scores don't improve for 20 rounds\n",
            "Early stopping, best iteration is:\n",
            "[136]\tvalid_0's rmse: 4.98353e-05\n",
            "Training until validation scores don't improve for 20 rounds\n",
            "Early stopping, best iteration is:\n",
            "[102]\tvalid_0's rmse: 4.99932e-05\n",
            "Training until validation scores don't improve for 20 rounds\n"
          ]
        },
        {
          "name": "stderr",
          "output_type": "stream",
          "text": [
            "[I 2023-10-28 14:47:46,943] Trial 33 finished with value: 0.44600390741502094 and parameters: {'lambda_l1': 5.61715138339271e-07, 'lambda_l2': 4.91422177250954, 'num_leaves': 41, 'feature_fraction': 0.9520633458037039, 'bagging_fraction': 0.7823325557038098, 'bagging_freq': 5, 'min_child_samples': 100, 'learning_rate': 0.034016219592341, 'max_depth': 16}. Best is trial 6 with value: 0.44331007774738185.\n"
          ]
        },
        {
          "name": "stdout",
          "output_type": "stream",
          "text": [
            "Early stopping, best iteration is:\n",
            "[125]\tvalid_0's rmse: 5.54957e-05\n"
          ]
        },
        {
          "name": "stderr",
          "output_type": "stream",
          "text": [
            "<ipython-input-45-3d6f33735477>:9: FutureWarning: suggest_loguniform has been deprecated in v3.0.0. This feature will be removed in v6.0.0. See https://github.com/optuna/optuna/releases/tag/v3.0.0. Use suggest_float(..., log=True) instead.\n",
            "  'lambda_l1': trial.suggest_loguniform('lambda_l1', 1e-8, 10.0),\n",
            "<ipython-input-45-3d6f33735477>:10: FutureWarning: suggest_loguniform has been deprecated in v3.0.0. This feature will be removed in v6.0.0. See https://github.com/optuna/optuna/releases/tag/v3.0.0. Use suggest_float(..., log=True) instead.\n",
            "  'lambda_l2': trial.suggest_loguniform('lambda_l2', 1e-8, 10.0),\n",
            "<ipython-input-45-3d6f33735477>:12: FutureWarning: suggest_uniform has been deprecated in v3.0.0. This feature will be removed in v6.0.0. See https://github.com/optuna/optuna/releases/tag/v3.0.0. Use suggest_float instead.\n",
            "  'feature_fraction': trial.suggest_uniform('feature_fraction', 0.4, 1.0),\n",
            "<ipython-input-45-3d6f33735477>:13: FutureWarning: suggest_uniform has been deprecated in v3.0.0. This feature will be removed in v6.0.0. See https://github.com/optuna/optuna/releases/tag/v3.0.0. Use suggest_float instead.\n",
            "  'bagging_fraction': trial.suggest_uniform('bagging_fraction', 0.4, 1.0),\n",
            "<ipython-input-45-3d6f33735477>:16: FutureWarning: suggest_loguniform has been deprecated in v3.0.0. This feature will be removed in v6.0.0. See https://github.com/optuna/optuna/releases/tag/v3.0.0. Use suggest_float(..., log=True) instead.\n",
            "  'learning_rate': trial.suggest_loguniform('learning_rate', 0.01, 0.3),\n"
          ]
        },
        {
          "name": "stdout",
          "output_type": "stream",
          "text": [
            "Training until validation scores don't improve for 20 rounds\n",
            "Early stopping, best iteration is:\n",
            "[12]\tvalid_0's rmse: 5.00496e-05\n",
            "Training until validation scores don't improve for 20 rounds\n",
            "Early stopping, best iteration is:\n",
            "[15]\tvalid_0's rmse: 5.02189e-05\n",
            "Training until validation scores don't improve for 20 rounds\n",
            "Early stopping, best iteration is:\n",
            "[16]\tvalid_0's rmse: 5.02207e-05\n",
            "Training until validation scores don't improve for 20 rounds\n",
            "Early stopping, best iteration is:\n",
            "[11]\tvalid_0's rmse: 5.06543e-05\n",
            "Training until validation scores don't improve for 20 rounds\n"
          ]
        },
        {
          "name": "stderr",
          "output_type": "stream",
          "text": [
            "[I 2023-10-28 14:47:57,147] Trial 34 finished with value: 0.44943791981390807 and parameters: {'lambda_l1': 7.330017422192324e-08, 'lambda_l2': 0.18793724462014116, 'num_leaves': 37, 'feature_fraction': 0.8201378777955293, 'bagging_fraction': 0.6766979790439906, 'bagging_freq': 3, 'min_child_samples': 89, 'learning_rate': 0.22990499143063023, 'max_depth': 19}. Best is trial 6 with value: 0.44331007774738185.\n"
          ]
        },
        {
          "name": "stdout",
          "output_type": "stream",
          "text": [
            "Early stopping, best iteration is:\n",
            "[26]\tvalid_0's rmse: 5.65315e-05\n"
          ]
        },
        {
          "name": "stderr",
          "output_type": "stream",
          "text": [
            "<ipython-input-45-3d6f33735477>:9: FutureWarning: suggest_loguniform has been deprecated in v3.0.0. This feature will be removed in v6.0.0. See https://github.com/optuna/optuna/releases/tag/v3.0.0. Use suggest_float(..., log=True) instead.\n",
            "  'lambda_l1': trial.suggest_loguniform('lambda_l1', 1e-8, 10.0),\n",
            "<ipython-input-45-3d6f33735477>:10: FutureWarning: suggest_loguniform has been deprecated in v3.0.0. This feature will be removed in v6.0.0. See https://github.com/optuna/optuna/releases/tag/v3.0.0. Use suggest_float(..., log=True) instead.\n",
            "  'lambda_l2': trial.suggest_loguniform('lambda_l2', 1e-8, 10.0),\n",
            "<ipython-input-45-3d6f33735477>:12: FutureWarning: suggest_uniform has been deprecated in v3.0.0. This feature will be removed in v6.0.0. See https://github.com/optuna/optuna/releases/tag/v3.0.0. Use suggest_float instead.\n",
            "  'feature_fraction': trial.suggest_uniform('feature_fraction', 0.4, 1.0),\n",
            "<ipython-input-45-3d6f33735477>:13: FutureWarning: suggest_uniform has been deprecated in v3.0.0. This feature will be removed in v6.0.0. See https://github.com/optuna/optuna/releases/tag/v3.0.0. Use suggest_float instead.\n",
            "  'bagging_fraction': trial.suggest_uniform('bagging_fraction', 0.4, 1.0),\n",
            "<ipython-input-45-3d6f33735477>:16: FutureWarning: suggest_loguniform has been deprecated in v3.0.0. This feature will be removed in v6.0.0. See https://github.com/optuna/optuna/releases/tag/v3.0.0. Use suggest_float(..., log=True) instead.\n",
            "  'learning_rate': trial.suggest_loguniform('learning_rate', 0.01, 0.3),\n"
          ]
        },
        {
          "name": "stdout",
          "output_type": "stream",
          "text": [
            "Training until validation scores don't improve for 20 rounds\n",
            "Early stopping, best iteration is:\n",
            "[167]\tvalid_0's rmse: 4.95593e-05\n",
            "Training until validation scores don't improve for 20 rounds\n",
            "Early stopping, best iteration is:\n",
            "[190]\tvalid_0's rmse: 4.95511e-05\n",
            "Training until validation scores don't improve for 20 rounds\n",
            "Early stopping, best iteration is:\n",
            "[225]\tvalid_0's rmse: 4.96368e-05\n",
            "Training until validation scores don't improve for 20 rounds\n",
            "Early stopping, best iteration is:\n",
            "[143]\tvalid_0's rmse: 4.97643e-05\n",
            "Training until validation scores don't improve for 20 rounds\n"
          ]
        },
        {
          "name": "stderr",
          "output_type": "stream",
          "text": [
            "[I 2023-10-28 14:48:35,448] Trial 35 finished with value: 0.4453541437624239 and parameters: {'lambda_l1': 8.290330299264443e-06, 'lambda_l2': 0.4753260167578723, 'num_leaves': 46, 'feature_fraction': 0.755860089738012, 'bagging_fraction': 0.8171097952151063, 'bagging_freq': 5, 'min_child_samples': 96, 'learning_rate': 0.023395642850818413, 'max_depth': 17}. Best is trial 6 with value: 0.44331007774738185.\n"
          ]
        },
        {
          "name": "stdout",
          "output_type": "stream",
          "text": [
            "Early stopping, best iteration is:\n",
            "[204]\tvalid_0's rmse: 5.54323e-05\n"
          ]
        },
        {
          "name": "stderr",
          "output_type": "stream",
          "text": [
            "<ipython-input-45-3d6f33735477>:9: FutureWarning: suggest_loguniform has been deprecated in v3.0.0. This feature will be removed in v6.0.0. See https://github.com/optuna/optuna/releases/tag/v3.0.0. Use suggest_float(..., log=True) instead.\n",
            "  'lambda_l1': trial.suggest_loguniform('lambda_l1', 1e-8, 10.0),\n",
            "<ipython-input-45-3d6f33735477>:10: FutureWarning: suggest_loguniform has been deprecated in v3.0.0. This feature will be removed in v6.0.0. See https://github.com/optuna/optuna/releases/tag/v3.0.0. Use suggest_float(..., log=True) instead.\n",
            "  'lambda_l2': trial.suggest_loguniform('lambda_l2', 1e-8, 10.0),\n",
            "<ipython-input-45-3d6f33735477>:12: FutureWarning: suggest_uniform has been deprecated in v3.0.0. This feature will be removed in v6.0.0. See https://github.com/optuna/optuna/releases/tag/v3.0.0. Use suggest_float instead.\n",
            "  'feature_fraction': trial.suggest_uniform('feature_fraction', 0.4, 1.0),\n",
            "<ipython-input-45-3d6f33735477>:13: FutureWarning: suggest_uniform has been deprecated in v3.0.0. This feature will be removed in v6.0.0. See https://github.com/optuna/optuna/releases/tag/v3.0.0. Use suggest_float instead.\n",
            "  'bagging_fraction': trial.suggest_uniform('bagging_fraction', 0.4, 1.0),\n",
            "<ipython-input-45-3d6f33735477>:16: FutureWarning: suggest_loguniform has been deprecated in v3.0.0. This feature will be removed in v6.0.0. See https://github.com/optuna/optuna/releases/tag/v3.0.0. Use suggest_float(..., log=True) instead.\n",
            "  'learning_rate': trial.suggest_loguniform('learning_rate', 0.01, 0.3),\n"
          ]
        },
        {
          "name": "stdout",
          "output_type": "stream",
          "text": [
            "Training until validation scores don't improve for 20 rounds\n",
            "Early stopping, best iteration is:\n",
            "[88]\tvalid_0's rmse: 4.95964e-05\n",
            "Training until validation scores don't improve for 20 rounds\n",
            "Early stopping, best iteration is:\n",
            "[87]\tvalid_0's rmse: 4.98289e-05\n",
            "Training until validation scores don't improve for 20 rounds\n",
            "Early stopping, best iteration is:\n",
            "[74]\tvalid_0's rmse: 4.99066e-05\n",
            "Training until validation scores don't improve for 20 rounds\n",
            "Early stopping, best iteration is:\n",
            "[76]\tvalid_0's rmse: 5.00365e-05\n",
            "Training until validation scores don't improve for 20 rounds\n"
          ]
        },
        {
          "name": "stderr",
          "output_type": "stream",
          "text": [
            "[I 2023-10-28 14:49:01,845] Trial 36 finished with value: 0.44772832543509933 and parameters: {'lambda_l1': 1.2911446211923821e-06, 'lambda_l2': 0.12715671451362312, 'num_leaves': 54, 'feature_fraction': 0.8861153974053485, 'bagging_fraction': 0.7402282546207715, 'bagging_freq': 6, 'min_child_samples': 75, 'learning_rate': 0.04052018780362221, 'max_depth': 15}. Best is trial 6 with value: 0.44331007774738185.\n"
          ]
        },
        {
          "name": "stdout",
          "output_type": "stream",
          "text": [
            "Early stopping, best iteration is:\n",
            "[121]\tvalid_0's rmse: 5.5379e-05\n"
          ]
        },
        {
          "name": "stderr",
          "output_type": "stream",
          "text": [
            "<ipython-input-45-3d6f33735477>:9: FutureWarning: suggest_loguniform has been deprecated in v3.0.0. This feature will be removed in v6.0.0. See https://github.com/optuna/optuna/releases/tag/v3.0.0. Use suggest_float(..., log=True) instead.\n",
            "  'lambda_l1': trial.suggest_loguniform('lambda_l1', 1e-8, 10.0),\n",
            "<ipython-input-45-3d6f33735477>:10: FutureWarning: suggest_loguniform has been deprecated in v3.0.0. This feature will be removed in v6.0.0. See https://github.com/optuna/optuna/releases/tag/v3.0.0. Use suggest_float(..., log=True) instead.\n",
            "  'lambda_l2': trial.suggest_loguniform('lambda_l2', 1e-8, 10.0),\n",
            "<ipython-input-45-3d6f33735477>:12: FutureWarning: suggest_uniform has been deprecated in v3.0.0. This feature will be removed in v6.0.0. See https://github.com/optuna/optuna/releases/tag/v3.0.0. Use suggest_float instead.\n",
            "  'feature_fraction': trial.suggest_uniform('feature_fraction', 0.4, 1.0),\n",
            "<ipython-input-45-3d6f33735477>:13: FutureWarning: suggest_uniform has been deprecated in v3.0.0. This feature will be removed in v6.0.0. See https://github.com/optuna/optuna/releases/tag/v3.0.0. Use suggest_float instead.\n",
            "  'bagging_fraction': trial.suggest_uniform('bagging_fraction', 0.4, 1.0),\n",
            "<ipython-input-45-3d6f33735477>:16: FutureWarning: suggest_loguniform has been deprecated in v3.0.0. This feature will be removed in v6.0.0. See https://github.com/optuna/optuna/releases/tag/v3.0.0. Use suggest_float(..., log=True) instead.\n",
            "  'learning_rate': trial.suggest_loguniform('learning_rate', 0.01, 0.3),\n"
          ]
        },
        {
          "name": "stdout",
          "output_type": "stream",
          "text": [
            "Training until validation scores don't improve for 20 rounds\n",
            "Early stopping, best iteration is:\n",
            "[180]\tvalid_0's rmse: 4.96453e-05\n",
            "Training until validation scores don't improve for 20 rounds\n",
            "Early stopping, best iteration is:\n",
            "[202]\tvalid_0's rmse: 4.96972e-05\n",
            "Training until validation scores don't improve for 20 rounds\n",
            "Early stopping, best iteration is:\n",
            "[257]\tvalid_0's rmse: 4.96899e-05\n",
            "Training until validation scores don't improve for 20 rounds\n",
            "Early stopping, best iteration is:\n",
            "[184]\tvalid_0's rmse: 4.98517e-05\n",
            "Training until validation scores don't improve for 20 rounds\n",
            "Early stopping, best iteration is:\n",
            "[279]\tvalid_0's rmse: 5.5462e-05\n"
          ]
        },
        {
          "name": "stderr",
          "output_type": "stream",
          "text": [
            "[I 2023-10-28 14:49:48,994] Trial 37 finished with value: 0.44626255754167615 and parameters: {'lambda_l1': 0.00022925819585623898, 'lambda_l2': 2.550194277195988, 'num_leaves': 37, 'feature_fraction': 0.9502905607993817, 'bagging_fraction': 0.8800718326659207, 'bagging_freq': 4, 'min_child_samples': 85, 'learning_rate': 0.019730155078906495, 'max_depth': 7}. Best is trial 6 with value: 0.44331007774738185.\n",
            "<ipython-input-45-3d6f33735477>:9: FutureWarning: suggest_loguniform has been deprecated in v3.0.0. This feature will be removed in v6.0.0. See https://github.com/optuna/optuna/releases/tag/v3.0.0. Use suggest_float(..., log=True) instead.\n",
            "  'lambda_l1': trial.suggest_loguniform('lambda_l1', 1e-8, 10.0),\n",
            "<ipython-input-45-3d6f33735477>:10: FutureWarning: suggest_loguniform has been deprecated in v3.0.0. This feature will be removed in v6.0.0. See https://github.com/optuna/optuna/releases/tag/v3.0.0. Use suggest_float(..., log=True) instead.\n",
            "  'lambda_l2': trial.suggest_loguniform('lambda_l2', 1e-8, 10.0),\n",
            "<ipython-input-45-3d6f33735477>:12: FutureWarning: suggest_uniform has been deprecated in v3.0.0. This feature will be removed in v6.0.0. See https://github.com/optuna/optuna/releases/tag/v3.0.0. Use suggest_float instead.\n",
            "  'feature_fraction': trial.suggest_uniform('feature_fraction', 0.4, 1.0),\n",
            "<ipython-input-45-3d6f33735477>:13: FutureWarning: suggest_uniform has been deprecated in v3.0.0. This feature will be removed in v6.0.0. See https://github.com/optuna/optuna/releases/tag/v3.0.0. Use suggest_float instead.\n",
            "  'bagging_fraction': trial.suggest_uniform('bagging_fraction', 0.4, 1.0),\n",
            "<ipython-input-45-3d6f33735477>:16: FutureWarning: suggest_loguniform has been deprecated in v3.0.0. This feature will be removed in v6.0.0. See https://github.com/optuna/optuna/releases/tag/v3.0.0. Use suggest_float(..., log=True) instead.\n",
            "  'learning_rate': trial.suggest_loguniform('learning_rate', 0.01, 0.3),\n"
          ]
        },
        {
          "name": "stdout",
          "output_type": "stream",
          "text": [
            "Training until validation scores don't improve for 20 rounds\n",
            "Early stopping, best iteration is:\n",
            "[203]\tvalid_0's rmse: 4.94153e-05\n",
            "Training until validation scores don't improve for 20 rounds\n",
            "Early stopping, best iteration is:\n",
            "[229]\tvalid_0's rmse: 4.94162e-05\n",
            "Training until validation scores don't improve for 20 rounds\n",
            "Early stopping, best iteration is:\n",
            "[220]\tvalid_0's rmse: 4.95312e-05\n",
            "Training until validation scores don't improve for 20 rounds\n",
            "Early stopping, best iteration is:\n",
            "[308]\tvalid_0's rmse: 4.95479e-05\n",
            "Training until validation scores don't improve for 20 rounds\n"
          ]
        },
        {
          "name": "stderr",
          "output_type": "stream",
          "text": [
            "[I 2023-10-28 14:50:33,038] Trial 38 finished with value: 0.4420923638106055 and parameters: {'lambda_l1': 0.0038308813365104354, 'lambda_l2': 0.9012820843663232, 'num_leaves': 61, 'feature_fraction': 0.8571290314693405, 'bagging_fraction': 0.8428955580954489, 'bagging_freq': 5, 'min_child_samples': 54, 'learning_rate': 0.029761549105264077, 'max_depth': 14}. Best is trial 38 with value: 0.4420923638106055.\n"
          ]
        },
        {
          "name": "stdout",
          "output_type": "stream",
          "text": [
            "Early stopping, best iteration is:\n",
            "[146]\tvalid_0's rmse: 5.5762e-05\n"
          ]
        },
        {
          "name": "stderr",
          "output_type": "stream",
          "text": [
            "<ipython-input-45-3d6f33735477>:9: FutureWarning: suggest_loguniform has been deprecated in v3.0.0. This feature will be removed in v6.0.0. See https://github.com/optuna/optuna/releases/tag/v3.0.0. Use suggest_float(..., log=True) instead.\n",
            "  'lambda_l1': trial.suggest_loguniform('lambda_l1', 1e-8, 10.0),\n",
            "<ipython-input-45-3d6f33735477>:10: FutureWarning: suggest_loguniform has been deprecated in v3.0.0. This feature will be removed in v6.0.0. See https://github.com/optuna/optuna/releases/tag/v3.0.0. Use suggest_float(..., log=True) instead.\n",
            "  'lambda_l2': trial.suggest_loguniform('lambda_l2', 1e-8, 10.0),\n",
            "<ipython-input-45-3d6f33735477>:12: FutureWarning: suggest_uniform has been deprecated in v3.0.0. This feature will be removed in v6.0.0. See https://github.com/optuna/optuna/releases/tag/v3.0.0. Use suggest_float instead.\n",
            "  'feature_fraction': trial.suggest_uniform('feature_fraction', 0.4, 1.0),\n",
            "<ipython-input-45-3d6f33735477>:13: FutureWarning: suggest_uniform has been deprecated in v3.0.0. This feature will be removed in v6.0.0. See https://github.com/optuna/optuna/releases/tag/v3.0.0. Use suggest_float instead.\n",
            "  'bagging_fraction': trial.suggest_uniform('bagging_fraction', 0.4, 1.0),\n",
            "<ipython-input-45-3d6f33735477>:16: FutureWarning: suggest_loguniform has been deprecated in v3.0.0. This feature will be removed in v6.0.0. See https://github.com/optuna/optuna/releases/tag/v3.0.0. Use suggest_float(..., log=True) instead.\n",
            "  'learning_rate': trial.suggest_loguniform('learning_rate', 0.01, 0.3),\n"
          ]
        },
        {
          "name": "stdout",
          "output_type": "stream",
          "text": [
            "Training until validation scores don't improve for 20 rounds\n",
            "Early stopping, best iteration is:\n",
            "[26]\tvalid_0's rmse: 4.98232e-05\n",
            "Training until validation scores don't improve for 20 rounds\n",
            "Early stopping, best iteration is:\n",
            "[25]\tvalid_0's rmse: 5.00698e-05\n",
            "Training until validation scores don't improve for 20 rounds\n",
            "Early stopping, best iteration is:\n",
            "[22]\tvalid_0's rmse: 4.98913e-05\n",
            "Training until validation scores don't improve for 20 rounds\n",
            "Early stopping, best iteration is:\n",
            "[21]\tvalid_0's rmse: 5.01307e-05\n",
            "Training until validation scores don't improve for 20 rounds\n"
          ]
        },
        {
          "name": "stderr",
          "output_type": "stream",
          "text": [
            "[I 2023-10-28 14:50:43,847] Trial 39 finished with value: 0.4492449048091796 and parameters: {'lambda_l1': 0.004623784401511825, 'lambda_l2': 0.09637961622457866, 'num_leaves': 64, 'feature_fraction': 0.6587133171477779, 'bagging_fraction': 0.8528285428275566, 'bagging_freq': 6, 'min_child_samples': 54, 'learning_rate': 0.2792976265921321, 'max_depth': 14}. Best is trial 38 with value: 0.4420923638106055.\n"
          ]
        },
        {
          "name": "stdout",
          "output_type": "stream",
          "text": [
            "Early stopping, best iteration is:\n",
            "[20]\tvalid_0's rmse: 5.62669e-05\n"
          ]
        },
        {
          "name": "stderr",
          "output_type": "stream",
          "text": [
            "<ipython-input-45-3d6f33735477>:9: FutureWarning: suggest_loguniform has been deprecated in v3.0.0. This feature will be removed in v6.0.0. See https://github.com/optuna/optuna/releases/tag/v3.0.0. Use suggest_float(..., log=True) instead.\n",
            "  'lambda_l1': trial.suggest_loguniform('lambda_l1', 1e-8, 10.0),\n",
            "<ipython-input-45-3d6f33735477>:10: FutureWarning: suggest_loguniform has been deprecated in v3.0.0. This feature will be removed in v6.0.0. See https://github.com/optuna/optuna/releases/tag/v3.0.0. Use suggest_float(..., log=True) instead.\n",
            "  'lambda_l2': trial.suggest_loguniform('lambda_l2', 1e-8, 10.0),\n",
            "<ipython-input-45-3d6f33735477>:12: FutureWarning: suggest_uniform has been deprecated in v3.0.0. This feature will be removed in v6.0.0. See https://github.com/optuna/optuna/releases/tag/v3.0.0. Use suggest_float instead.\n",
            "  'feature_fraction': trial.suggest_uniform('feature_fraction', 0.4, 1.0),\n",
            "<ipython-input-45-3d6f33735477>:13: FutureWarning: suggest_uniform has been deprecated in v3.0.0. This feature will be removed in v6.0.0. See https://github.com/optuna/optuna/releases/tag/v3.0.0. Use suggest_float instead.\n",
            "  'bagging_fraction': trial.suggest_uniform('bagging_fraction', 0.4, 1.0),\n",
            "<ipython-input-45-3d6f33735477>:16: FutureWarning: suggest_loguniform has been deprecated in v3.0.0. This feature will be removed in v6.0.0. See https://github.com/optuna/optuna/releases/tag/v3.0.0. Use suggest_float(..., log=True) instead.\n",
            "  'learning_rate': trial.suggest_loguniform('learning_rate', 0.01, 0.3),\n"
          ]
        },
        {
          "name": "stdout",
          "output_type": "stream",
          "text": [
            "Training until validation scores don't improve for 20 rounds\n",
            "Early stopping, best iteration is:\n",
            "[21]\tvalid_0's rmse: 4.97461e-05\n",
            "Training until validation scores don't improve for 20 rounds\n",
            "Early stopping, best iteration is:\n",
            "[21]\tvalid_0's rmse: 5.01826e-05\n",
            "Training until validation scores don't improve for 20 rounds\n",
            "Early stopping, best iteration is:\n",
            "[21]\tvalid_0's rmse: 4.98998e-05\n",
            "Training until validation scores don't improve for 20 rounds\n",
            "Early stopping, best iteration is:\n",
            "[18]\tvalid_0's rmse: 4.97256e-05\n",
            "Training until validation scores don't improve for 20 rounds\n"
          ]
        },
        {
          "name": "stderr",
          "output_type": "stream",
          "text": [
            "[I 2023-10-28 14:50:56,175] Trial 40 finished with value: 0.446265735460804 and parameters: {'lambda_l1': 0.0011403120824457697, 'lambda_l2': 0.5506631331500739, 'num_leaves': 57, 'feature_fraction': 0.5347488230870147, 'bagging_fraction': 0.7743548327053988, 'bagging_freq': 5, 'min_child_samples': 29, 'learning_rate': 0.1981889723201039, 'max_depth': 11}. Best is trial 38 with value: 0.4420923638106055.\n"
          ]
        },
        {
          "name": "stdout",
          "output_type": "stream",
          "text": [
            "Early stopping, best iteration is:\n",
            "[20]\tvalid_0's rmse: 5.56118e-05\n"
          ]
        },
        {
          "name": "stderr",
          "output_type": "stream",
          "text": [
            "<ipython-input-45-3d6f33735477>:9: FutureWarning: suggest_loguniform has been deprecated in v3.0.0. This feature will be removed in v6.0.0. See https://github.com/optuna/optuna/releases/tag/v3.0.0. Use suggest_float(..., log=True) instead.\n",
            "  'lambda_l1': trial.suggest_loguniform('lambda_l1', 1e-8, 10.0),\n",
            "<ipython-input-45-3d6f33735477>:10: FutureWarning: suggest_loguniform has been deprecated in v3.0.0. This feature will be removed in v6.0.0. See https://github.com/optuna/optuna/releases/tag/v3.0.0. Use suggest_float(..., log=True) instead.\n",
            "  'lambda_l2': trial.suggest_loguniform('lambda_l2', 1e-8, 10.0),\n",
            "<ipython-input-45-3d6f33735477>:12: FutureWarning: suggest_uniform has been deprecated in v3.0.0. This feature will be removed in v6.0.0. See https://github.com/optuna/optuna/releases/tag/v3.0.0. Use suggest_float instead.\n",
            "  'feature_fraction': trial.suggest_uniform('feature_fraction', 0.4, 1.0),\n",
            "<ipython-input-45-3d6f33735477>:13: FutureWarning: suggest_uniform has been deprecated in v3.0.0. This feature will be removed in v6.0.0. See https://github.com/optuna/optuna/releases/tag/v3.0.0. Use suggest_float instead.\n",
            "  'bagging_fraction': trial.suggest_uniform('bagging_fraction', 0.4, 1.0),\n",
            "<ipython-input-45-3d6f33735477>:16: FutureWarning: suggest_loguniform has been deprecated in v3.0.0. This feature will be removed in v6.0.0. See https://github.com/optuna/optuna/releases/tag/v3.0.0. Use suggest_float(..., log=True) instead.\n",
            "  'learning_rate': trial.suggest_loguniform('learning_rate', 0.01, 0.3),\n"
          ]
        },
        {
          "name": "stdout",
          "output_type": "stream",
          "text": [
            "Training until validation scores don't improve for 20 rounds\n",
            "Early stopping, best iteration is:\n",
            "[394]\tvalid_0's rmse: 4.98621e-05\n",
            "Training until validation scores don't improve for 20 rounds\n",
            "Early stopping, best iteration is:\n",
            "[448]\tvalid_0's rmse: 5.01026e-05\n",
            "Training until validation scores don't improve for 20 rounds\n",
            "Did not meet early stopping. Best iteration is:\n",
            "[500]\tvalid_0's rmse: 5.00949e-05\n",
            "Training until validation scores don't improve for 20 rounds\n",
            "Did not meet early stopping. Best iteration is:\n",
            "[487]\tvalid_0's rmse: 5.02857e-05\n",
            "Training until validation scores don't improve for 20 rounds\n"
          ]
        },
        {
          "name": "stderr",
          "output_type": "stream",
          "text": [
            "[I 2023-10-28 14:51:24,796] Trial 41 finished with value: 0.4756208196872773 and parameters: {'lambda_l1': 0.027517911315254533, 'lambda_l2': 2.5231565661459108, 'num_leaves': 48, 'feature_fraction': 0.8355537159514477, 'bagging_fraction': 0.8322108308673463, 'bagging_freq': 5, 'min_child_samples': 61, 'learning_rate': 0.028290746020488703, 'max_depth': 15}. Best is trial 38 with value: 0.4420923638106055.\n"
          ]
        },
        {
          "name": "stdout",
          "output_type": "stream",
          "text": [
            "Early stopping, best iteration is:\n",
            "[313]\tvalid_0's rmse: 5.65647e-05\n"
          ]
        },
        {
          "name": "stderr",
          "output_type": "stream",
          "text": [
            "<ipython-input-45-3d6f33735477>:9: FutureWarning: suggest_loguniform has been deprecated in v3.0.0. This feature will be removed in v6.0.0. See https://github.com/optuna/optuna/releases/tag/v3.0.0. Use suggest_float(..., log=True) instead.\n",
            "  'lambda_l1': trial.suggest_loguniform('lambda_l1', 1e-8, 10.0),\n",
            "<ipython-input-45-3d6f33735477>:10: FutureWarning: suggest_loguniform has been deprecated in v3.0.0. This feature will be removed in v6.0.0. See https://github.com/optuna/optuna/releases/tag/v3.0.0. Use suggest_float(..., log=True) instead.\n",
            "  'lambda_l2': trial.suggest_loguniform('lambda_l2', 1e-8, 10.0),\n",
            "<ipython-input-45-3d6f33735477>:12: FutureWarning: suggest_uniform has been deprecated in v3.0.0. This feature will be removed in v6.0.0. See https://github.com/optuna/optuna/releases/tag/v3.0.0. Use suggest_float instead.\n",
            "  'feature_fraction': trial.suggest_uniform('feature_fraction', 0.4, 1.0),\n",
            "<ipython-input-45-3d6f33735477>:13: FutureWarning: suggest_uniform has been deprecated in v3.0.0. This feature will be removed in v6.0.0. See https://github.com/optuna/optuna/releases/tag/v3.0.0. Use suggest_float instead.\n",
            "  'bagging_fraction': trial.suggest_uniform('bagging_fraction', 0.4, 1.0),\n",
            "<ipython-input-45-3d6f33735477>:16: FutureWarning: suggest_loguniform has been deprecated in v3.0.0. This feature will be removed in v6.0.0. See https://github.com/optuna/optuna/releases/tag/v3.0.0. Use suggest_float(..., log=True) instead.\n",
            "  'learning_rate': trial.suggest_loguniform('learning_rate', 0.01, 0.3),\n"
          ]
        },
        {
          "name": "stdout",
          "output_type": "stream",
          "text": [
            "Training until validation scores don't improve for 20 rounds\n",
            "Early stopping, best iteration is:\n",
            "[141]\tvalid_0's rmse: 4.92379e-05\n",
            "Training until validation scores don't improve for 20 rounds\n",
            "Early stopping, best iteration is:\n",
            "[161]\tvalid_0's rmse: 4.93545e-05\n",
            "Training until validation scores don't improve for 20 rounds\n",
            "Early stopping, best iteration is:\n",
            "[109]\tvalid_0's rmse: 4.9387e-05\n",
            "Training until validation scores don't improve for 20 rounds\n",
            "Early stopping, best iteration is:\n",
            "[98]\tvalid_0's rmse: 4.96098e-05\n",
            "Training until validation scores don't improve for 20 rounds\n"
          ]
        },
        {
          "name": "stderr",
          "output_type": "stream",
          "text": [
            "[I 2023-10-28 14:51:50,418] Trial 42 finished with value: 0.44130560384835305 and parameters: {'lambda_l1': 0.002619651103853518, 'lambda_l2': 0.7805247285805573, 'num_leaves': 41, 'feature_fraction': 0.7721147417535188, 'bagging_fraction': 0.9028251637768006, 'bagging_freq': 5, 'min_child_samples': 48, 'learning_rate': 0.04782789270174392, 'max_depth': 14}. Best is trial 42 with value: 0.44130560384835305.\n"
          ]
        },
        {
          "name": "stdout",
          "output_type": "stream",
          "text": [
            "Early stopping, best iteration is:\n",
            "[145]\tvalid_0's rmse: 5.56216e-05\n"
          ]
        },
        {
          "name": "stderr",
          "output_type": "stream",
          "text": [
            "<ipython-input-45-3d6f33735477>:9: FutureWarning: suggest_loguniform has been deprecated in v3.0.0. This feature will be removed in v6.0.0. See https://github.com/optuna/optuna/releases/tag/v3.0.0. Use suggest_float(..., log=True) instead.\n",
            "  'lambda_l1': trial.suggest_loguniform('lambda_l1', 1e-8, 10.0),\n",
            "<ipython-input-45-3d6f33735477>:10: FutureWarning: suggest_loguniform has been deprecated in v3.0.0. This feature will be removed in v6.0.0. See https://github.com/optuna/optuna/releases/tag/v3.0.0. Use suggest_float(..., log=True) instead.\n",
            "  'lambda_l2': trial.suggest_loguniform('lambda_l2', 1e-8, 10.0),\n",
            "<ipython-input-45-3d6f33735477>:12: FutureWarning: suggest_uniform has been deprecated in v3.0.0. This feature will be removed in v6.0.0. See https://github.com/optuna/optuna/releases/tag/v3.0.0. Use suggest_float instead.\n",
            "  'feature_fraction': trial.suggest_uniform('feature_fraction', 0.4, 1.0),\n",
            "<ipython-input-45-3d6f33735477>:13: FutureWarning: suggest_uniform has been deprecated in v3.0.0. This feature will be removed in v6.0.0. See https://github.com/optuna/optuna/releases/tag/v3.0.0. Use suggest_float instead.\n",
            "  'bagging_fraction': trial.suggest_uniform('bagging_fraction', 0.4, 1.0),\n",
            "<ipython-input-45-3d6f33735477>:16: FutureWarning: suggest_loguniform has been deprecated in v3.0.0. This feature will be removed in v6.0.0. See https://github.com/optuna/optuna/releases/tag/v3.0.0. Use suggest_float(..., log=True) instead.\n",
            "  'learning_rate': trial.suggest_loguniform('learning_rate', 0.01, 0.3),\n"
          ]
        },
        {
          "name": "stdout",
          "output_type": "stream",
          "text": [
            "Training until validation scores don't improve for 20 rounds\n",
            "Early stopping, best iteration is:\n",
            "[150]\tvalid_0's rmse: 4.94323e-05\n",
            "Training until validation scores don't improve for 20 rounds\n",
            "Early stopping, best iteration is:\n",
            "[111]\tvalid_0's rmse: 4.93532e-05\n",
            "Training until validation scores don't improve for 20 rounds\n",
            "Early stopping, best iteration is:\n",
            "[211]\tvalid_0's rmse: 4.93284e-05\n",
            "Training until validation scores don't improve for 20 rounds\n",
            "Early stopping, best iteration is:\n",
            "[143]\tvalid_0's rmse: 4.95468e-05\n",
            "Training until validation scores don't improve for 20 rounds\n"
          ]
        },
        {
          "name": "stderr",
          "output_type": "stream",
          "text": [
            "[I 2023-10-28 14:52:16,592] Trial 43 finished with value: 0.44256332323479447 and parameters: {'lambda_l1': 0.0052927588960271724, 'lambda_l2': 0.019653870000875533, 'num_leaves': 41, 'feature_fraction': 0.7827602047778786, 'bagging_fraction': 0.9013566568983422, 'bagging_freq': 4, 'min_child_samples': 51, 'learning_rate': 0.04830560004704523, 'max_depth': 14}. Best is trial 42 with value: 0.44130560384835305.\n"
          ]
        },
        {
          "name": "stdout",
          "output_type": "stream",
          "text": [
            "Early stopping, best iteration is:\n",
            "[141]\tvalid_0's rmse: 5.56617e-05\n"
          ]
        },
        {
          "name": "stderr",
          "output_type": "stream",
          "text": [
            "<ipython-input-45-3d6f33735477>:9: FutureWarning: suggest_loguniform has been deprecated in v3.0.0. This feature will be removed in v6.0.0. See https://github.com/optuna/optuna/releases/tag/v3.0.0. Use suggest_float(..., log=True) instead.\n",
            "  'lambda_l1': trial.suggest_loguniform('lambda_l1', 1e-8, 10.0),\n",
            "<ipython-input-45-3d6f33735477>:10: FutureWarning: suggest_loguniform has been deprecated in v3.0.0. This feature will be removed in v6.0.0. See https://github.com/optuna/optuna/releases/tag/v3.0.0. Use suggest_float(..., log=True) instead.\n",
            "  'lambda_l2': trial.suggest_loguniform('lambda_l2', 1e-8, 10.0),\n",
            "<ipython-input-45-3d6f33735477>:12: FutureWarning: suggest_uniform has been deprecated in v3.0.0. This feature will be removed in v6.0.0. See https://github.com/optuna/optuna/releases/tag/v3.0.0. Use suggest_float instead.\n",
            "  'feature_fraction': trial.suggest_uniform('feature_fraction', 0.4, 1.0),\n",
            "<ipython-input-45-3d6f33735477>:13: FutureWarning: suggest_uniform has been deprecated in v3.0.0. This feature will be removed in v6.0.0. See https://github.com/optuna/optuna/releases/tag/v3.0.0. Use suggest_float instead.\n",
            "  'bagging_fraction': trial.suggest_uniform('bagging_fraction', 0.4, 1.0),\n",
            "<ipython-input-45-3d6f33735477>:16: FutureWarning: suggest_loguniform has been deprecated in v3.0.0. This feature will be removed in v6.0.0. See https://github.com/optuna/optuna/releases/tag/v3.0.0. Use suggest_float(..., log=True) instead.\n",
            "  'learning_rate': trial.suggest_loguniform('learning_rate', 0.01, 0.3),\n"
          ]
        },
        {
          "name": "stdout",
          "output_type": "stream",
          "text": [
            "Training until validation scores don't improve for 20 rounds\n",
            "Early stopping, best iteration is:\n",
            "[108]\tvalid_0's rmse: 4.94581e-05\n",
            "Training until validation scores don't improve for 20 rounds\n",
            "Early stopping, best iteration is:\n",
            "[109]\tvalid_0's rmse: 4.93332e-05\n",
            "Training until validation scores don't improve for 20 rounds\n",
            "Early stopping, best iteration is:\n",
            "[201]\tvalid_0's rmse: 4.94011e-05\n",
            "Training until validation scores don't improve for 20 rounds\n",
            "Early stopping, best iteration is:\n",
            "[151]\tvalid_0's rmse: 4.95323e-05\n",
            "Training until validation scores don't improve for 20 rounds\n"
          ]
        },
        {
          "name": "stderr",
          "output_type": "stream",
          "text": [
            "[I 2023-10-28 14:52:41,483] Trial 44 finished with value: 0.4428920083356965 and parameters: {'lambda_l1': 0.003993765386890174, 'lambda_l2': 0.012069799788329477, 'num_leaves': 41, 'feature_fraction': 0.7707735025900146, 'bagging_fraction': 0.8890924198028329, 'bagging_freq': 4, 'min_child_samples': 49, 'learning_rate': 0.05014413959970293, 'max_depth': 14}. Best is trial 42 with value: 0.44130560384835305.\n"
          ]
        },
        {
          "name": "stdout",
          "output_type": "stream",
          "text": [
            "Early stopping, best iteration is:\n",
            "[94]\tvalid_0's rmse: 5.56837e-05\n"
          ]
        },
        {
          "name": "stderr",
          "output_type": "stream",
          "text": [
            "<ipython-input-45-3d6f33735477>:9: FutureWarning: suggest_loguniform has been deprecated in v3.0.0. This feature will be removed in v6.0.0. See https://github.com/optuna/optuna/releases/tag/v3.0.0. Use suggest_float(..., log=True) instead.\n",
            "  'lambda_l1': trial.suggest_loguniform('lambda_l1', 1e-8, 10.0),\n",
            "<ipython-input-45-3d6f33735477>:10: FutureWarning: suggest_loguniform has been deprecated in v3.0.0. This feature will be removed in v6.0.0. See https://github.com/optuna/optuna/releases/tag/v3.0.0. Use suggest_float(..., log=True) instead.\n",
            "  'lambda_l2': trial.suggest_loguniform('lambda_l2', 1e-8, 10.0),\n",
            "<ipython-input-45-3d6f33735477>:12: FutureWarning: suggest_uniform has been deprecated in v3.0.0. This feature will be removed in v6.0.0. See https://github.com/optuna/optuna/releases/tag/v3.0.0. Use suggest_float instead.\n",
            "  'feature_fraction': trial.suggest_uniform('feature_fraction', 0.4, 1.0),\n",
            "<ipython-input-45-3d6f33735477>:13: FutureWarning: suggest_uniform has been deprecated in v3.0.0. This feature will be removed in v6.0.0. See https://github.com/optuna/optuna/releases/tag/v3.0.0. Use suggest_float instead.\n",
            "  'bagging_fraction': trial.suggest_uniform('bagging_fraction', 0.4, 1.0),\n",
            "<ipython-input-45-3d6f33735477>:16: FutureWarning: suggest_loguniform has been deprecated in v3.0.0. This feature will be removed in v6.0.0. See https://github.com/optuna/optuna/releases/tag/v3.0.0. Use suggest_float(..., log=True) instead.\n",
            "  'learning_rate': trial.suggest_loguniform('learning_rate', 0.01, 0.3),\n"
          ]
        },
        {
          "name": "stdout",
          "output_type": "stream",
          "text": [
            "Training until validation scores don't improve for 20 rounds\n",
            "Early stopping, best iteration is:\n",
            "[114]\tvalid_0's rmse: 4.93255e-05\n",
            "Training until validation scores don't improve for 20 rounds\n",
            "Early stopping, best iteration is:\n",
            "[124]\tvalid_0's rmse: 4.93099e-05\n",
            "Training until validation scores don't improve for 20 rounds\n",
            "Early stopping, best iteration is:\n",
            "[176]\tvalid_0's rmse: 4.93645e-05\n",
            "Training until validation scores don't improve for 20 rounds\n",
            "Early stopping, best iteration is:\n",
            "[93]\tvalid_0's rmse: 4.95768e-05\n",
            "Training until validation scores don't improve for 20 rounds\n"
          ]
        },
        {
          "name": "stderr",
          "output_type": "stream",
          "text": [
            "[I 2023-10-28 14:53:05,502] Trial 45 finished with value: 0.44016576154458004 and parameters: {'lambda_l1': 0.0030297104704241425, 'lambda_l2': 0.017045760604450434, 'num_leaves': 42, 'feature_fraction': 0.7376274940829272, 'bagging_fraction': 0.9031619263292013, 'bagging_freq': 4, 'min_child_samples': 48, 'learning_rate': 0.048935695049273885, 'max_depth': 14}. Best is trial 45 with value: 0.44016576154458004.\n"
          ]
        },
        {
          "name": "stdout",
          "output_type": "stream",
          "text": [
            "Early stopping, best iteration is:\n",
            "[105]\tvalid_0's rmse: 5.5719e-05\n"
          ]
        },
        {
          "name": "stderr",
          "output_type": "stream",
          "text": [
            "<ipython-input-45-3d6f33735477>:9: FutureWarning: suggest_loguniform has been deprecated in v3.0.0. This feature will be removed in v6.0.0. See https://github.com/optuna/optuna/releases/tag/v3.0.0. Use suggest_float(..., log=True) instead.\n",
            "  'lambda_l1': trial.suggest_loguniform('lambda_l1', 1e-8, 10.0),\n",
            "<ipython-input-45-3d6f33735477>:10: FutureWarning: suggest_loguniform has been deprecated in v3.0.0. This feature will be removed in v6.0.0. See https://github.com/optuna/optuna/releases/tag/v3.0.0. Use suggest_float(..., log=True) instead.\n",
            "  'lambda_l2': trial.suggest_loguniform('lambda_l2', 1e-8, 10.0),\n",
            "<ipython-input-45-3d6f33735477>:12: FutureWarning: suggest_uniform has been deprecated in v3.0.0. This feature will be removed in v6.0.0. See https://github.com/optuna/optuna/releases/tag/v3.0.0. Use suggest_float instead.\n",
            "  'feature_fraction': trial.suggest_uniform('feature_fraction', 0.4, 1.0),\n",
            "<ipython-input-45-3d6f33735477>:13: FutureWarning: suggest_uniform has been deprecated in v3.0.0. This feature will be removed in v6.0.0. See https://github.com/optuna/optuna/releases/tag/v3.0.0. Use suggest_float instead.\n",
            "  'bagging_fraction': trial.suggest_uniform('bagging_fraction', 0.4, 1.0),\n",
            "<ipython-input-45-3d6f33735477>:16: FutureWarning: suggest_loguniform has been deprecated in v3.0.0. This feature will be removed in v6.0.0. See https://github.com/optuna/optuna/releases/tag/v3.0.0. Use suggest_float(..., log=True) instead.\n",
            "  'learning_rate': trial.suggest_loguniform('learning_rate', 0.01, 0.3),\n"
          ]
        },
        {
          "name": "stdout",
          "output_type": "stream",
          "text": [
            "Training until validation scores don't improve for 20 rounds\n",
            "Early stopping, best iteration is:\n",
            "[142]\tvalid_0's rmse: 4.93663e-05\n",
            "Training until validation scores don't improve for 20 rounds\n",
            "Early stopping, best iteration is:\n",
            "[170]\tvalid_0's rmse: 4.93635e-05\n",
            "Training until validation scores don't improve for 20 rounds\n",
            "Early stopping, best iteration is:\n",
            "[137]\tvalid_0's rmse: 4.93126e-05\n",
            "Training until validation scores don't improve for 20 rounds\n",
            "Early stopping, best iteration is:\n",
            "[109]\tvalid_0's rmse: 4.96466e-05\n",
            "Training until validation scores don't improve for 20 rounds\n"
          ]
        },
        {
          "name": "stderr",
          "output_type": "stream",
          "text": [
            "[I 2023-10-28 14:53:34,127] Trial 46 finished with value: 0.4415329588523068 and parameters: {'lambda_l1': 0.004033337862599664, 'lambda_l2': 0.011674675186065847, 'num_leaves': 41, 'feature_fraction': 0.7371684806993781, 'bagging_fraction': 0.9494844558603852, 'bagging_freq': 3, 'min_child_samples': 49, 'learning_rate': 0.04961849351898125, 'max_depth': 13}. Best is trial 45 with value: 0.44016576154458004.\n"
          ]
        },
        {
          "name": "stdout",
          "output_type": "stream",
          "text": [
            "Early stopping, best iteration is:\n",
            "[186]\tvalid_0's rmse: 5.56048e-05\n"
          ]
        },
        {
          "name": "stderr",
          "output_type": "stream",
          "text": [
            "<ipython-input-45-3d6f33735477>:9: FutureWarning: suggest_loguniform has been deprecated in v3.0.0. This feature will be removed in v6.0.0. See https://github.com/optuna/optuna/releases/tag/v3.0.0. Use suggest_float(..., log=True) instead.\n",
            "  'lambda_l1': trial.suggest_loguniform('lambda_l1', 1e-8, 10.0),\n",
            "<ipython-input-45-3d6f33735477>:10: FutureWarning: suggest_loguniform has been deprecated in v3.0.0. This feature will be removed in v6.0.0. See https://github.com/optuna/optuna/releases/tag/v3.0.0. Use suggest_float(..., log=True) instead.\n",
            "  'lambda_l2': trial.suggest_loguniform('lambda_l2', 1e-8, 10.0),\n",
            "<ipython-input-45-3d6f33735477>:12: FutureWarning: suggest_uniform has been deprecated in v3.0.0. This feature will be removed in v6.0.0. See https://github.com/optuna/optuna/releases/tag/v3.0.0. Use suggest_float instead.\n",
            "  'feature_fraction': trial.suggest_uniform('feature_fraction', 0.4, 1.0),\n",
            "<ipython-input-45-3d6f33735477>:13: FutureWarning: suggest_uniform has been deprecated in v3.0.0. This feature will be removed in v6.0.0. See https://github.com/optuna/optuna/releases/tag/v3.0.0. Use suggest_float instead.\n",
            "  'bagging_fraction': trial.suggest_uniform('bagging_fraction', 0.4, 1.0),\n",
            "<ipython-input-45-3d6f33735477>:16: FutureWarning: suggest_loguniform has been deprecated in v3.0.0. This feature will be removed in v6.0.0. See https://github.com/optuna/optuna/releases/tag/v3.0.0. Use suggest_float(..., log=True) instead.\n",
            "  'learning_rate': trial.suggest_loguniform('learning_rate', 0.01, 0.3),\n"
          ]
        },
        {
          "name": "stdout",
          "output_type": "stream",
          "text": [
            "Training until validation scores don't improve for 20 rounds\n",
            "Early stopping, best iteration is:\n",
            "[113]\tvalid_0's rmse: 4.91952e-05\n",
            "Training until validation scores don't improve for 20 rounds\n",
            "Early stopping, best iteration is:\n",
            "[121]\tvalid_0's rmse: 4.94271e-05\n",
            "Training until validation scores don't improve for 20 rounds\n",
            "Early stopping, best iteration is:\n",
            "[175]\tvalid_0's rmse: 4.93424e-05\n",
            "Training until validation scores don't improve for 20 rounds\n",
            "Early stopping, best iteration is:\n",
            "[89]\tvalid_0's rmse: 4.96302e-05\n",
            "Training until validation scores don't improve for 20 rounds\n"
          ]
        },
        {
          "name": "stderr",
          "output_type": "stream",
          "text": [
            "[I 2023-10-28 14:53:59,808] Trial 47 finished with value: 0.4411259216501769 and parameters: {'lambda_l1': 0.0013869473743039155, 'lambda_l2': 0.018398331652035416, 'num_leaves': 42, 'feature_fraction': 0.7205234448559757, 'bagging_fraction': 0.9421149905410504, 'bagging_freq': 3, 'min_child_samples': 36, 'learning_rate': 0.04710936385135996, 'max_depth': 13}. Best is trial 45 with value: 0.44016576154458004.\n"
          ]
        },
        {
          "name": "stdout",
          "output_type": "stream",
          "text": [
            "Early stopping, best iteration is:\n",
            "[114]\tvalid_0's rmse: 5.57744e-05\n"
          ]
        },
        {
          "name": "stderr",
          "output_type": "stream",
          "text": [
            "<ipython-input-45-3d6f33735477>:9: FutureWarning: suggest_loguniform has been deprecated in v3.0.0. This feature will be removed in v6.0.0. See https://github.com/optuna/optuna/releases/tag/v3.0.0. Use suggest_float(..., log=True) instead.\n",
            "  'lambda_l1': trial.suggest_loguniform('lambda_l1', 1e-8, 10.0),\n",
            "<ipython-input-45-3d6f33735477>:10: FutureWarning: suggest_loguniform has been deprecated in v3.0.0. This feature will be removed in v6.0.0. See https://github.com/optuna/optuna/releases/tag/v3.0.0. Use suggest_float(..., log=True) instead.\n",
            "  'lambda_l2': trial.suggest_loguniform('lambda_l2', 1e-8, 10.0),\n",
            "<ipython-input-45-3d6f33735477>:12: FutureWarning: suggest_uniform has been deprecated in v3.0.0. This feature will be removed in v6.0.0. See https://github.com/optuna/optuna/releases/tag/v3.0.0. Use suggest_float instead.\n",
            "  'feature_fraction': trial.suggest_uniform('feature_fraction', 0.4, 1.0),\n",
            "<ipython-input-45-3d6f33735477>:13: FutureWarning: suggest_uniform has been deprecated in v3.0.0. This feature will be removed in v6.0.0. See https://github.com/optuna/optuna/releases/tag/v3.0.0. Use suggest_float instead.\n",
            "  'bagging_fraction': trial.suggest_uniform('bagging_fraction', 0.4, 1.0),\n",
            "<ipython-input-45-3d6f33735477>:16: FutureWarning: suggest_loguniform has been deprecated in v3.0.0. This feature will be removed in v6.0.0. See https://github.com/optuna/optuna/releases/tag/v3.0.0. Use suggest_float(..., log=True) instead.\n",
            "  'learning_rate': trial.suggest_loguniform('learning_rate', 0.01, 0.3),\n"
          ]
        },
        {
          "name": "stdout",
          "output_type": "stream",
          "text": [
            "Training until validation scores don't improve for 20 rounds\n",
            "Early stopping, best iteration is:\n",
            "[100]\tvalid_0's rmse: 4.94077e-05\n",
            "Training until validation scores don't improve for 20 rounds\n",
            "Early stopping, best iteration is:\n",
            "[64]\tvalid_0's rmse: 4.93967e-05\n",
            "Training until validation scores don't improve for 20 rounds\n",
            "Early stopping, best iteration is:\n",
            "[91]\tvalid_0's rmse: 4.94399e-05\n",
            "Training until validation scores don't improve for 20 rounds\n",
            "Early stopping, best iteration is:\n",
            "[58]\tvalid_0's rmse: 4.98414e-05\n",
            "Training until validation scores don't improve for 20 rounds\n"
          ]
        },
        {
          "name": "stderr",
          "output_type": "stream",
          "text": [
            "[I 2023-10-28 14:54:23,466] Trial 48 finished with value: 0.441684053161658 and parameters: {'lambda_l1': 0.0014567869079036143, 'lambda_l2': 0.007270587307527673, 'num_leaves': 69, 'feature_fraction': 0.7322996741138331, 'bagging_fraction': 0.9417985905426409, 'bagging_freq': 2, 'min_child_samples': 39, 'learning_rate': 0.06356604658277762, 'max_depth': 13}. Best is trial 45 with value: 0.44016576154458004.\n"
          ]
        },
        {
          "name": "stdout",
          "output_type": "stream",
          "text": [
            "Early stopping, best iteration is:\n",
            "[96]\tvalid_0's rmse: 5.56129e-05\n"
          ]
        },
        {
          "name": "stderr",
          "output_type": "stream",
          "text": [
            "<ipython-input-45-3d6f33735477>:9: FutureWarning: suggest_loguniform has been deprecated in v3.0.0. This feature will be removed in v6.0.0. See https://github.com/optuna/optuna/releases/tag/v3.0.0. Use suggest_float(..., log=True) instead.\n",
            "  'lambda_l1': trial.suggest_loguniform('lambda_l1', 1e-8, 10.0),\n",
            "<ipython-input-45-3d6f33735477>:10: FutureWarning: suggest_loguniform has been deprecated in v3.0.0. This feature will be removed in v6.0.0. See https://github.com/optuna/optuna/releases/tag/v3.0.0. Use suggest_float(..., log=True) instead.\n",
            "  'lambda_l2': trial.suggest_loguniform('lambda_l2', 1e-8, 10.0),\n",
            "<ipython-input-45-3d6f33735477>:12: FutureWarning: suggest_uniform has been deprecated in v3.0.0. This feature will be removed in v6.0.0. See https://github.com/optuna/optuna/releases/tag/v3.0.0. Use suggest_float instead.\n",
            "  'feature_fraction': trial.suggest_uniform('feature_fraction', 0.4, 1.0),\n",
            "<ipython-input-45-3d6f33735477>:13: FutureWarning: suggest_uniform has been deprecated in v3.0.0. This feature will be removed in v6.0.0. See https://github.com/optuna/optuna/releases/tag/v3.0.0. Use suggest_float instead.\n",
            "  'bagging_fraction': trial.suggest_uniform('bagging_fraction', 0.4, 1.0),\n",
            "<ipython-input-45-3d6f33735477>:16: FutureWarning: suggest_loguniform has been deprecated in v3.0.0. This feature will be removed in v6.0.0. See https://github.com/optuna/optuna/releases/tag/v3.0.0. Use suggest_float(..., log=True) instead.\n",
            "  'learning_rate': trial.suggest_loguniform('learning_rate', 0.01, 0.3),\n"
          ]
        },
        {
          "name": "stdout",
          "output_type": "stream",
          "text": [
            "Training until validation scores don't improve for 20 rounds\n",
            "Early stopping, best iteration is:\n",
            "[60]\tvalid_0's rmse: 4.95527e-05\n",
            "Training until validation scores don't improve for 20 rounds\n",
            "Early stopping, best iteration is:\n",
            "[83]\tvalid_0's rmse: 4.9513e-05\n",
            "Training until validation scores don't improve for 20 rounds\n",
            "Early stopping, best iteration is:\n",
            "[77]\tvalid_0's rmse: 4.95552e-05\n",
            "Training until validation scores don't improve for 20 rounds\n",
            "Early stopping, best iteration is:\n",
            "[64]\tvalid_0's rmse: 4.9782e-05\n",
            "Training until validation scores don't improve for 20 rounds\n"
          ]
        },
        {
          "name": "stderr",
          "output_type": "stream",
          "text": [
            "[I 2023-10-28 14:54:44,686] Trial 49 finished with value: 0.440604505153052 and parameters: {'lambda_l1': 0.0007033814030290313, 'lambda_l2': 0.0019196906331884703, 'num_leaves': 76, 'feature_fraction': 0.7203760480241199, 'bagging_fraction': 0.9463066853495136, 'bagging_freq': 2, 'min_child_samples': 39, 'learning_rate': 0.06183127143620974, 'max_depth': 11}. Best is trial 45 with value: 0.44016576154458004.\n"
          ]
        },
        {
          "name": "stdout",
          "output_type": "stream",
          "text": [
            "Early stopping, best iteration is:\n",
            "[64]\tvalid_0's rmse: 5.57088e-05\n"
          ]
        },
        {
          "name": "stderr",
          "output_type": "stream",
          "text": [
            "<ipython-input-45-3d6f33735477>:9: FutureWarning: suggest_loguniform has been deprecated in v3.0.0. This feature will be removed in v6.0.0. See https://github.com/optuna/optuna/releases/tag/v3.0.0. Use suggest_float(..., log=True) instead.\n",
            "  'lambda_l1': trial.suggest_loguniform('lambda_l1', 1e-8, 10.0),\n",
            "<ipython-input-45-3d6f33735477>:10: FutureWarning: suggest_loguniform has been deprecated in v3.0.0. This feature will be removed in v6.0.0. See https://github.com/optuna/optuna/releases/tag/v3.0.0. Use suggest_float(..., log=True) instead.\n",
            "  'lambda_l2': trial.suggest_loguniform('lambda_l2', 1e-8, 10.0),\n",
            "<ipython-input-45-3d6f33735477>:12: FutureWarning: suggest_uniform has been deprecated in v3.0.0. This feature will be removed in v6.0.0. See https://github.com/optuna/optuna/releases/tag/v3.0.0. Use suggest_float instead.\n",
            "  'feature_fraction': trial.suggest_uniform('feature_fraction', 0.4, 1.0),\n",
            "<ipython-input-45-3d6f33735477>:13: FutureWarning: suggest_uniform has been deprecated in v3.0.0. This feature will be removed in v6.0.0. See https://github.com/optuna/optuna/releases/tag/v3.0.0. Use suggest_float instead.\n",
            "  'bagging_fraction': trial.suggest_uniform('bagging_fraction', 0.4, 1.0),\n",
            "<ipython-input-45-3d6f33735477>:16: FutureWarning: suggest_loguniform has been deprecated in v3.0.0. This feature will be removed in v6.0.0. See https://github.com/optuna/optuna/releases/tag/v3.0.0. Use suggest_float(..., log=True) instead.\n",
            "  'learning_rate': trial.suggest_loguniform('learning_rate', 0.01, 0.3),\n"
          ]
        },
        {
          "name": "stdout",
          "output_type": "stream",
          "text": [
            "Training until validation scores don't improve for 20 rounds\n",
            "Early stopping, best iteration is:\n",
            "[63]\tvalid_0's rmse: 4.94675e-05\n",
            "Training until validation scores don't improve for 20 rounds\n",
            "Early stopping, best iteration is:\n",
            "[44]\tvalid_0's rmse: 4.97166e-05\n",
            "Training until validation scores don't improve for 20 rounds\n",
            "Early stopping, best iteration is:\n",
            "[101]\tvalid_0's rmse: 4.95793e-05\n",
            "Training until validation scores don't improve for 20 rounds\n",
            "Early stopping, best iteration is:\n",
            "[44]\tvalid_0's rmse: 4.99579e-05\n",
            "Training until validation scores don't improve for 20 rounds\n"
          ]
        },
        {
          "name": "stderr",
          "output_type": "stream",
          "text": [
            "[I 2023-10-28 14:55:03,076] Trial 50 finished with value: 0.44787694866438654 and parameters: {'lambda_l1': 0.0005506093002398564, 'lambda_l2': 0.0008751855549973097, 'num_leaves': 36, 'feature_fraction': 0.6988778007752325, 'bagging_fraction': 0.9800779062862625, 'bagging_freq': 2, 'min_child_samples': 30, 'learning_rate': 0.07435160311564085, 'max_depth': 11}. Best is trial 45 with value: 0.44016576154458004.\n"
          ]
        },
        {
          "name": "stdout",
          "output_type": "stream",
          "text": [
            "Early stopping, best iteration is:\n",
            "[92]\tvalid_0's rmse: 5.54761e-05\n"
          ]
        },
        {
          "name": "stderr",
          "output_type": "stream",
          "text": [
            "<ipython-input-45-3d6f33735477>:9: FutureWarning: suggest_loguniform has been deprecated in v3.0.0. This feature will be removed in v6.0.0. See https://github.com/optuna/optuna/releases/tag/v3.0.0. Use suggest_float(..., log=True) instead.\n",
            "  'lambda_l1': trial.suggest_loguniform('lambda_l1', 1e-8, 10.0),\n",
            "<ipython-input-45-3d6f33735477>:10: FutureWarning: suggest_loguniform has been deprecated in v3.0.0. This feature will be removed in v6.0.0. See https://github.com/optuna/optuna/releases/tag/v3.0.0. Use suggest_float(..., log=True) instead.\n",
            "  'lambda_l2': trial.suggest_loguniform('lambda_l2', 1e-8, 10.0),\n",
            "<ipython-input-45-3d6f33735477>:12: FutureWarning: suggest_uniform has been deprecated in v3.0.0. This feature will be removed in v6.0.0. See https://github.com/optuna/optuna/releases/tag/v3.0.0. Use suggest_float instead.\n",
            "  'feature_fraction': trial.suggest_uniform('feature_fraction', 0.4, 1.0),\n",
            "<ipython-input-45-3d6f33735477>:13: FutureWarning: suggest_uniform has been deprecated in v3.0.0. This feature will be removed in v6.0.0. See https://github.com/optuna/optuna/releases/tag/v3.0.0. Use suggest_float instead.\n",
            "  'bagging_fraction': trial.suggest_uniform('bagging_fraction', 0.4, 1.0),\n",
            "<ipython-input-45-3d6f33735477>:16: FutureWarning: suggest_loguniform has been deprecated in v3.0.0. This feature will be removed in v6.0.0. See https://github.com/optuna/optuna/releases/tag/v3.0.0. Use suggest_float(..., log=True) instead.\n",
            "  'learning_rate': trial.suggest_loguniform('learning_rate', 0.01, 0.3),\n"
          ]
        },
        {
          "name": "stdout",
          "output_type": "stream",
          "text": [
            "Training until validation scores don't improve for 20 rounds\n",
            "Early stopping, best iteration is:\n",
            "[54]\tvalid_0's rmse: 4.94827e-05\n",
            "Training until validation scores don't improve for 20 rounds\n",
            "Early stopping, best iteration is:\n",
            "[61]\tvalid_0's rmse: 4.94967e-05\n",
            "Training until validation scores don't improve for 20 rounds\n",
            "Early stopping, best iteration is:\n",
            "[109]\tvalid_0's rmse: 4.93026e-05\n",
            "Training until validation scores don't improve for 20 rounds\n",
            "Early stopping, best iteration is:\n",
            "[66]\tvalid_0's rmse: 4.9578e-05\n",
            "Training until validation scores don't improve for 20 rounds\n"
          ]
        },
        {
          "name": "stderr",
          "output_type": "stream",
          "text": [
            "[I 2023-10-28 14:55:27,340] Trial 51 finished with value: 0.44086710132955986 and parameters: {'lambda_l1': 0.001112257338228878, 'lambda_l2': 0.004605501769044397, 'num_leaves': 79, 'feature_fraction': 0.7295443450970742, 'bagging_fraction': 0.9353501701258217, 'bagging_freq': 2, 'min_child_samples': 37, 'learning_rate': 0.05973636114395223, 'max_depth': 13}. Best is trial 45 with value: 0.44016576154458004.\n"
          ]
        },
        {
          "name": "stdout",
          "output_type": "stream",
          "text": [
            "Early stopping, best iteration is:\n",
            "[91]\tvalid_0's rmse: 5.5567e-05\n"
          ]
        },
        {
          "name": "stderr",
          "output_type": "stream",
          "text": [
            "<ipython-input-45-3d6f33735477>:9: FutureWarning: suggest_loguniform has been deprecated in v3.0.0. This feature will be removed in v6.0.0. See https://github.com/optuna/optuna/releases/tag/v3.0.0. Use suggest_float(..., log=True) instead.\n",
            "  'lambda_l1': trial.suggest_loguniform('lambda_l1', 1e-8, 10.0),\n",
            "<ipython-input-45-3d6f33735477>:10: FutureWarning: suggest_loguniform has been deprecated in v3.0.0. This feature will be removed in v6.0.0. See https://github.com/optuna/optuna/releases/tag/v3.0.0. Use suggest_float(..., log=True) instead.\n",
            "  'lambda_l2': trial.suggest_loguniform('lambda_l2', 1e-8, 10.0),\n",
            "<ipython-input-45-3d6f33735477>:12: FutureWarning: suggest_uniform has been deprecated in v3.0.0. This feature will be removed in v6.0.0. See https://github.com/optuna/optuna/releases/tag/v3.0.0. Use suggest_float instead.\n",
            "  'feature_fraction': trial.suggest_uniform('feature_fraction', 0.4, 1.0),\n",
            "<ipython-input-45-3d6f33735477>:13: FutureWarning: suggest_uniform has been deprecated in v3.0.0. This feature will be removed in v6.0.0. See https://github.com/optuna/optuna/releases/tag/v3.0.0. Use suggest_float instead.\n",
            "  'bagging_fraction': trial.suggest_uniform('bagging_fraction', 0.4, 1.0),\n",
            "<ipython-input-45-3d6f33735477>:16: FutureWarning: suggest_loguniform has been deprecated in v3.0.0. This feature will be removed in v6.0.0. See https://github.com/optuna/optuna/releases/tag/v3.0.0. Use suggest_float(..., log=True) instead.\n",
            "  'learning_rate': trial.suggest_loguniform('learning_rate', 0.01, 0.3),\n"
          ]
        },
        {
          "name": "stdout",
          "output_type": "stream",
          "text": [
            "Training until validation scores don't improve for 20 rounds\n",
            "Early stopping, best iteration is:\n",
            "[82]\tvalid_0's rmse: 4.95088e-05\n",
            "Training until validation scores don't improve for 20 rounds\n",
            "Early stopping, best iteration is:\n",
            "[107]\tvalid_0's rmse: 4.94786e-05\n",
            "Training until validation scores don't improve for 20 rounds\n",
            "Early stopping, best iteration is:\n",
            "[83]\tvalid_0's rmse: 4.94706e-05\n",
            "Training until validation scores don't improve for 20 rounds\n",
            "Early stopping, best iteration is:\n",
            "[64]\tvalid_0's rmse: 4.96295e-05\n",
            "Training until validation scores don't improve for 20 rounds\n"
          ]
        },
        {
          "name": "stderr",
          "output_type": "stream",
          "text": [
            "[I 2023-10-28 14:55:54,592] Trial 52 finished with value: 0.44064513420362605 and parameters: {'lambda_l1': 0.0009560906501911983, 'lambda_l2': 0.004316550151711569, 'num_leaves': 80, 'feature_fraction': 0.7220999201078665, 'bagging_fraction': 0.963401531285342, 'bagging_freq': 3, 'min_child_samples': 22, 'learning_rate': 0.055748160789032095, 'max_depth': 12}. Best is trial 45 with value: 0.44016576154458004.\n"
          ]
        },
        {
          "name": "stdout",
          "output_type": "stream",
          "text": [
            "Early stopping, best iteration is:\n",
            "[103]\tvalid_0's rmse: 5.55291e-05\n"
          ]
        },
        {
          "name": "stderr",
          "output_type": "stream",
          "text": [
            "<ipython-input-45-3d6f33735477>:9: FutureWarning: suggest_loguniform has been deprecated in v3.0.0. This feature will be removed in v6.0.0. See https://github.com/optuna/optuna/releases/tag/v3.0.0. Use suggest_float(..., log=True) instead.\n",
            "  'lambda_l1': trial.suggest_loguniform('lambda_l1', 1e-8, 10.0),\n",
            "<ipython-input-45-3d6f33735477>:10: FutureWarning: suggest_loguniform has been deprecated in v3.0.0. This feature will be removed in v6.0.0. See https://github.com/optuna/optuna/releases/tag/v3.0.0. Use suggest_float(..., log=True) instead.\n",
            "  'lambda_l2': trial.suggest_loguniform('lambda_l2', 1e-8, 10.0),\n",
            "<ipython-input-45-3d6f33735477>:12: FutureWarning: suggest_uniform has been deprecated in v3.0.0. This feature will be removed in v6.0.0. See https://github.com/optuna/optuna/releases/tag/v3.0.0. Use suggest_float instead.\n",
            "  'feature_fraction': trial.suggest_uniform('feature_fraction', 0.4, 1.0),\n",
            "<ipython-input-45-3d6f33735477>:13: FutureWarning: suggest_uniform has been deprecated in v3.0.0. This feature will be removed in v6.0.0. See https://github.com/optuna/optuna/releases/tag/v3.0.0. Use suggest_float instead.\n",
            "  'bagging_fraction': trial.suggest_uniform('bagging_fraction', 0.4, 1.0),\n",
            "<ipython-input-45-3d6f33735477>:16: FutureWarning: suggest_loguniform has been deprecated in v3.0.0. This feature will be removed in v6.0.0. See https://github.com/optuna/optuna/releases/tag/v3.0.0. Use suggest_float(..., log=True) instead.\n",
            "  'learning_rate': trial.suggest_loguniform('learning_rate', 0.01, 0.3),\n"
          ]
        },
        {
          "name": "stdout",
          "output_type": "stream",
          "text": [
            "Training until validation scores don't improve for 20 rounds\n",
            "Early stopping, best iteration is:\n",
            "[84]\tvalid_0's rmse: 4.95098e-05\n",
            "Training until validation scores don't improve for 20 rounds\n",
            "Early stopping, best iteration is:\n",
            "[113]\tvalid_0's rmse: 4.95459e-05\n",
            "Training until validation scores don't improve for 20 rounds\n",
            "Early stopping, best iteration is:\n",
            "[125]\tvalid_0's rmse: 4.93471e-05\n",
            "Training until validation scores don't improve for 20 rounds\n",
            "Early stopping, best iteration is:\n",
            "[64]\tvalid_0's rmse: 4.97864e-05\n",
            "Training until validation scores don't improve for 20 rounds\n"
          ]
        },
        {
          "name": "stderr",
          "output_type": "stream",
          "text": [
            "[I 2023-10-28 14:56:24,642] Trial 53 finished with value: 0.44065571858359026 and parameters: {'lambda_l1': 0.001077175031663227, 'lambda_l2': 0.004814864885533729, 'num_leaves': 80, 'feature_fraction': 0.6763585774784098, 'bagging_fraction': 0.9715225446792328, 'bagging_freq': 1, 'min_child_samples': 17, 'learning_rate': 0.05711964734812021, 'max_depth': 12}. Best is trial 45 with value: 0.44016576154458004.\n"
          ]
        },
        {
          "name": "stdout",
          "output_type": "stream",
          "text": [
            "Early stopping, best iteration is:\n",
            "[94]\tvalid_0's rmse: 5.56197e-05\n"
          ]
        },
        {
          "name": "stderr",
          "output_type": "stream",
          "text": [
            "<ipython-input-45-3d6f33735477>:9: FutureWarning: suggest_loguniform has been deprecated in v3.0.0. This feature will be removed in v6.0.0. See https://github.com/optuna/optuna/releases/tag/v3.0.0. Use suggest_float(..., log=True) instead.\n",
            "  'lambda_l1': trial.suggest_loguniform('lambda_l1', 1e-8, 10.0),\n",
            "<ipython-input-45-3d6f33735477>:10: FutureWarning: suggest_loguniform has been deprecated in v3.0.0. This feature will be removed in v6.0.0. See https://github.com/optuna/optuna/releases/tag/v3.0.0. Use suggest_float(..., log=True) instead.\n",
            "  'lambda_l2': trial.suggest_loguniform('lambda_l2', 1e-8, 10.0),\n",
            "<ipython-input-45-3d6f33735477>:12: FutureWarning: suggest_uniform has been deprecated in v3.0.0. This feature will be removed in v6.0.0. See https://github.com/optuna/optuna/releases/tag/v3.0.0. Use suggest_float instead.\n",
            "  'feature_fraction': trial.suggest_uniform('feature_fraction', 0.4, 1.0),\n",
            "<ipython-input-45-3d6f33735477>:13: FutureWarning: suggest_uniform has been deprecated in v3.0.0. This feature will be removed in v6.0.0. See https://github.com/optuna/optuna/releases/tag/v3.0.0. Use suggest_float instead.\n",
            "  'bagging_fraction': trial.suggest_uniform('bagging_fraction', 0.4, 1.0),\n",
            "<ipython-input-45-3d6f33735477>:16: FutureWarning: suggest_loguniform has been deprecated in v3.0.0. This feature will be removed in v6.0.0. See https://github.com/optuna/optuna/releases/tag/v3.0.0. Use suggest_float(..., log=True) instead.\n",
            "  'learning_rate': trial.suggest_loguniform('learning_rate', 0.01, 0.3),\n"
          ]
        },
        {
          "name": "stdout",
          "output_type": "stream",
          "text": [
            "Training until validation scores don't improve for 20 rounds\n",
            "Early stopping, best iteration is:\n",
            "[81]\tvalid_0's rmse: 4.95187e-05\n",
            "Training until validation scores don't improve for 20 rounds\n",
            "Early stopping, best iteration is:\n",
            "[81]\tvalid_0's rmse: 4.96561e-05\n",
            "Training until validation scores don't improve for 20 rounds\n",
            "Early stopping, best iteration is:\n",
            "[76]\tvalid_0's rmse: 4.95652e-05\n",
            "Training until validation scores don't improve for 20 rounds\n",
            "Early stopping, best iteration is:\n",
            "[61]\tvalid_0's rmse: 4.98188e-05\n",
            "Training until validation scores don't improve for 20 rounds\n"
          ]
        },
        {
          "name": "stderr",
          "output_type": "stream",
          "text": [
            "[I 2023-10-28 14:56:51,077] Trial 54 finished with value: 0.44103507790936247 and parameters: {'lambda_l1': 0.0006074218018967073, 'lambda_l2': 0.004157427005563957, 'num_leaves': 80, 'feature_fraction': 0.6747157375826928, 'bagging_fraction': 0.9730933351812535, 'bagging_freq': 1, 'min_child_samples': 12, 'learning_rate': 0.058013569873203594, 'max_depth': 12}. Best is trial 45 with value: 0.44016576154458004.\n"
          ]
        },
        {
          "name": "stdout",
          "output_type": "stream",
          "text": [
            "Early stopping, best iteration is:\n",
            "[105]\tvalid_0's rmse: 5.55529e-05\n"
          ]
        },
        {
          "name": "stderr",
          "output_type": "stream",
          "text": [
            "<ipython-input-45-3d6f33735477>:9: FutureWarning: suggest_loguniform has been deprecated in v3.0.0. This feature will be removed in v6.0.0. See https://github.com/optuna/optuna/releases/tag/v3.0.0. Use suggest_float(..., log=True) instead.\n",
            "  'lambda_l1': trial.suggest_loguniform('lambda_l1', 1e-8, 10.0),\n",
            "<ipython-input-45-3d6f33735477>:10: FutureWarning: suggest_loguniform has been deprecated in v3.0.0. This feature will be removed in v6.0.0. See https://github.com/optuna/optuna/releases/tag/v3.0.0. Use suggest_float(..., log=True) instead.\n",
            "  'lambda_l2': trial.suggest_loguniform('lambda_l2', 1e-8, 10.0),\n",
            "<ipython-input-45-3d6f33735477>:12: FutureWarning: suggest_uniform has been deprecated in v3.0.0. This feature will be removed in v6.0.0. See https://github.com/optuna/optuna/releases/tag/v3.0.0. Use suggest_float instead.\n",
            "  'feature_fraction': trial.suggest_uniform('feature_fraction', 0.4, 1.0),\n",
            "<ipython-input-45-3d6f33735477>:13: FutureWarning: suggest_uniform has been deprecated in v3.0.0. This feature will be removed in v6.0.0. See https://github.com/optuna/optuna/releases/tag/v3.0.0. Use suggest_float instead.\n",
            "  'bagging_fraction': trial.suggest_uniform('bagging_fraction', 0.4, 1.0),\n",
            "<ipython-input-45-3d6f33735477>:16: FutureWarning: suggest_loguniform has been deprecated in v3.0.0. This feature will be removed in v6.0.0. See https://github.com/optuna/optuna/releases/tag/v3.0.0. Use suggest_float(..., log=True) instead.\n",
            "  'learning_rate': trial.suggest_loguniform('learning_rate', 0.01, 0.3),\n"
          ]
        },
        {
          "name": "stdout",
          "output_type": "stream",
          "text": [
            "Training until validation scores don't improve for 20 rounds\n",
            "Early stopping, best iteration is:\n",
            "[44]\tvalid_0's rmse: 4.97439e-05\n",
            "Training until validation scores don't improve for 20 rounds\n",
            "Early stopping, best iteration is:\n",
            "[40]\tvalid_0's rmse: 4.96103e-05\n",
            "Training until validation scores don't improve for 20 rounds\n",
            "Early stopping, best iteration is:\n",
            "[44]\tvalid_0's rmse: 4.98916e-05\n",
            "Training until validation scores don't improve for 20 rounds\n",
            "Early stopping, best iteration is:\n",
            "[44]\tvalid_0's rmse: 4.99064e-05\n",
            "Training until validation scores don't improve for 20 rounds\n"
          ]
        },
        {
          "name": "stderr",
          "output_type": "stream",
          "text": [
            "[I 2023-10-28 14:57:09,790] Trial 55 finished with value: 0.44339129384358056 and parameters: {'lambda_l1': 0.0005082880809193996, 'lambda_l2': 0.003287639707595871, 'num_leaves': 80, 'feature_fraction': 0.6738870123278845, 'bagging_fraction': 0.9982966460333718, 'bagging_freq': 1, 'min_child_samples': 20, 'learning_rate': 0.08806755593400409, 'max_depth': 12}. Best is trial 45 with value: 0.44016576154458004.\n"
          ]
        },
        {
          "name": "stdout",
          "output_type": "stream",
          "text": [
            "Early stopping, best iteration is:\n",
            "[73]\tvalid_0's rmse: 5.56217e-05\n"
          ]
        },
        {
          "name": "stderr",
          "output_type": "stream",
          "text": [
            "<ipython-input-45-3d6f33735477>:9: FutureWarning: suggest_loguniform has been deprecated in v3.0.0. This feature will be removed in v6.0.0. See https://github.com/optuna/optuna/releases/tag/v3.0.0. Use suggest_float(..., log=True) instead.\n",
            "  'lambda_l1': trial.suggest_loguniform('lambda_l1', 1e-8, 10.0),\n",
            "<ipython-input-45-3d6f33735477>:10: FutureWarning: suggest_loguniform has been deprecated in v3.0.0. This feature will be removed in v6.0.0. See https://github.com/optuna/optuna/releases/tag/v3.0.0. Use suggest_float(..., log=True) instead.\n",
            "  'lambda_l2': trial.suggest_loguniform('lambda_l2', 1e-8, 10.0),\n",
            "<ipython-input-45-3d6f33735477>:12: FutureWarning: suggest_uniform has been deprecated in v3.0.0. This feature will be removed in v6.0.0. See https://github.com/optuna/optuna/releases/tag/v3.0.0. Use suggest_float instead.\n",
            "  'feature_fraction': trial.suggest_uniform('feature_fraction', 0.4, 1.0),\n",
            "<ipython-input-45-3d6f33735477>:13: FutureWarning: suggest_uniform has been deprecated in v3.0.0. This feature will be removed in v6.0.0. See https://github.com/optuna/optuna/releases/tag/v3.0.0. Use suggest_float instead.\n",
            "  'bagging_fraction': trial.suggest_uniform('bagging_fraction', 0.4, 1.0),\n",
            "<ipython-input-45-3d6f33735477>:16: FutureWarning: suggest_loguniform has been deprecated in v3.0.0. This feature will be removed in v6.0.0. See https://github.com/optuna/optuna/releases/tag/v3.0.0. Use suggest_float(..., log=True) instead.\n",
            "  'learning_rate': trial.suggest_loguniform('learning_rate', 0.01, 0.3),\n"
          ]
        },
        {
          "name": "stdout",
          "output_type": "stream",
          "text": [
            "Training until validation scores don't improve for 20 rounds\n",
            "Early stopping, best iteration is:\n",
            "[66]\tvalid_0's rmse: 4.96614e-05\n",
            "Training until validation scores don't improve for 20 rounds\n",
            "Early stopping, best iteration is:\n",
            "[79]\tvalid_0's rmse: 4.96526e-05\n",
            "Training until validation scores don't improve for 20 rounds\n",
            "Early stopping, best iteration is:\n",
            "[75]\tvalid_0's rmse: 4.9623e-05\n",
            "Training until validation scores don't improve for 20 rounds\n",
            "Early stopping, best iteration is:\n",
            "[58]\tvalid_0's rmse: 4.98103e-05\n",
            "Training until validation scores don't improve for 20 rounds\n"
          ]
        },
        {
          "name": "stderr",
          "output_type": "stream",
          "text": [
            "[I 2023-10-28 14:57:35,333] Trial 56 finished with value: 0.4434230959757432 and parameters: {'lambda_l1': 0.00028444961632957346, 'lambda_l2': 0.0008956453045450535, 'num_leaves': 75, 'feature_fraction': 0.6619712920623428, 'bagging_fraction': 0.9706899422742273, 'bagging_freq': 1, 'min_child_samples': 5, 'learning_rate': 0.057965263030146666, 'max_depth': 10}. Best is trial 45 with value: 0.44016576154458004.\n"
          ]
        },
        {
          "name": "stdout",
          "output_type": "stream",
          "text": [
            "Early stopping, best iteration is:\n",
            "[91]\tvalid_0's rmse: 5.5536e-05\n"
          ]
        },
        {
          "name": "stderr",
          "output_type": "stream",
          "text": [
            "<ipython-input-45-3d6f33735477>:9: FutureWarning: suggest_loguniform has been deprecated in v3.0.0. This feature will be removed in v6.0.0. See https://github.com/optuna/optuna/releases/tag/v3.0.0. Use suggest_float(..., log=True) instead.\n",
            "  'lambda_l1': trial.suggest_loguniform('lambda_l1', 1e-8, 10.0),\n",
            "<ipython-input-45-3d6f33735477>:10: FutureWarning: suggest_loguniform has been deprecated in v3.0.0. This feature will be removed in v6.0.0. See https://github.com/optuna/optuna/releases/tag/v3.0.0. Use suggest_float(..., log=True) instead.\n",
            "  'lambda_l2': trial.suggest_loguniform('lambda_l2', 1e-8, 10.0),\n",
            "<ipython-input-45-3d6f33735477>:12: FutureWarning: suggest_uniform has been deprecated in v3.0.0. This feature will be removed in v6.0.0. See https://github.com/optuna/optuna/releases/tag/v3.0.0. Use suggest_float instead.\n",
            "  'feature_fraction': trial.suggest_uniform('feature_fraction', 0.4, 1.0),\n",
            "<ipython-input-45-3d6f33735477>:13: FutureWarning: suggest_uniform has been deprecated in v3.0.0. This feature will be removed in v6.0.0. See https://github.com/optuna/optuna/releases/tag/v3.0.0. Use suggest_float instead.\n",
            "  'bagging_fraction': trial.suggest_uniform('bagging_fraction', 0.4, 1.0),\n",
            "<ipython-input-45-3d6f33735477>:16: FutureWarning: suggest_loguniform has been deprecated in v3.0.0. This feature will be removed in v6.0.0. See https://github.com/optuna/optuna/releases/tag/v3.0.0. Use suggest_float(..., log=True) instead.\n",
            "  'learning_rate': trial.suggest_loguniform('learning_rate', 0.01, 0.3),\n"
          ]
        },
        {
          "name": "stdout",
          "output_type": "stream",
          "text": [
            "Training until validation scores don't improve for 20 rounds\n",
            "Early stopping, best iteration is:\n",
            "[60]\tvalid_0's rmse: 4.96347e-05\n",
            "Training until validation scores don't improve for 20 rounds\n",
            "Early stopping, best iteration is:\n",
            "[59]\tvalid_0's rmse: 4.97474e-05\n",
            "Training until validation scores don't improve for 20 rounds\n",
            "Early stopping, best iteration is:\n",
            "[67]\tvalid_0's rmse: 4.97764e-05\n",
            "Training until validation scores don't improve for 20 rounds\n",
            "Early stopping, best iteration is:\n",
            "[44]\tvalid_0's rmse: 4.9795e-05\n",
            "Training until validation scores don't improve for 20 rounds\n"
          ]
        },
        {
          "name": "stderr",
          "output_type": "stream",
          "text": [
            "[I 2023-10-28 14:57:57,916] Trial 57 finished with value: 0.4468998473347135 and parameters: {'lambda_l1': 8.255756606575521e-05, 'lambda_l2': 0.000357996737922744, 'num_leaves': 76, 'feature_fraction': 0.640000709112056, 'bagging_fraction': 0.9210894321302724, 'bagging_freq': 2, 'min_child_samples': 11, 'learning_rate': 0.06637747808037721, 'max_depth': 11}. Best is trial 45 with value: 0.44016576154458004.\n"
          ]
        },
        {
          "name": "stdout",
          "output_type": "stream",
          "text": [
            "Early stopping, best iteration is:\n",
            "[77]\tvalid_0's rmse: 5.55152e-05\n"
          ]
        },
        {
          "name": "stderr",
          "output_type": "stream",
          "text": [
            "<ipython-input-45-3d6f33735477>:9: FutureWarning: suggest_loguniform has been deprecated in v3.0.0. This feature will be removed in v6.0.0. See https://github.com/optuna/optuna/releases/tag/v3.0.0. Use suggest_float(..., log=True) instead.\n",
            "  'lambda_l1': trial.suggest_loguniform('lambda_l1', 1e-8, 10.0),\n",
            "<ipython-input-45-3d6f33735477>:10: FutureWarning: suggest_loguniform has been deprecated in v3.0.0. This feature will be removed in v6.0.0. See https://github.com/optuna/optuna/releases/tag/v3.0.0. Use suggest_float(..., log=True) instead.\n",
            "  'lambda_l2': trial.suggest_loguniform('lambda_l2', 1e-8, 10.0),\n",
            "<ipython-input-45-3d6f33735477>:12: FutureWarning: suggest_uniform has been deprecated in v3.0.0. This feature will be removed in v6.0.0. See https://github.com/optuna/optuna/releases/tag/v3.0.0. Use suggest_float instead.\n",
            "  'feature_fraction': trial.suggest_uniform('feature_fraction', 0.4, 1.0),\n",
            "<ipython-input-45-3d6f33735477>:13: FutureWarning: suggest_uniform has been deprecated in v3.0.0. This feature will be removed in v6.0.0. See https://github.com/optuna/optuna/releases/tag/v3.0.0. Use suggest_float instead.\n",
            "  'bagging_fraction': trial.suggest_uniform('bagging_fraction', 0.4, 1.0),\n",
            "<ipython-input-45-3d6f33735477>:16: FutureWarning: suggest_loguniform has been deprecated in v3.0.0. This feature will be removed in v6.0.0. See https://github.com/optuna/optuna/releases/tag/v3.0.0. Use suggest_float(..., log=True) instead.\n",
            "  'learning_rate': trial.suggest_loguniform('learning_rate', 0.01, 0.3),\n"
          ]
        },
        {
          "name": "stdout",
          "output_type": "stream",
          "text": [
            "Training until validation scores don't improve for 20 rounds\n",
            "Early stopping, best iteration is:\n",
            "[82]\tvalid_0's rmse: 4.95627e-05\n",
            "Training until validation scores don't improve for 20 rounds\n",
            "Early stopping, best iteration is:\n",
            "[81]\tvalid_0's rmse: 4.95082e-05\n",
            "Training until validation scores don't improve for 20 rounds\n",
            "Early stopping, best iteration is:\n",
            "[107]\tvalid_0's rmse: 4.93893e-05\n",
            "Training until validation scores don't improve for 20 rounds\n",
            "Early stopping, best iteration is:\n",
            "[53]\tvalid_0's rmse: 4.97645e-05\n",
            "Training until validation scores don't improve for 20 rounds\n"
          ]
        },
        {
          "name": "stderr",
          "output_type": "stream",
          "text": [
            "[I 2023-10-28 14:58:22,922] Trial 58 finished with value: 0.443304278413569 and parameters: {'lambda_l1': 0.000994196174544489, 'lambda_l2': 0.0032718916630503137, 'num_leaves': 72, 'feature_fraction': 0.6904011225276878, 'bagging_fraction': 0.9693354753258239, 'bagging_freq': 1, 'min_child_samples': 23, 'learning_rate': 0.05814639851954816, 'max_depth': 12}. Best is trial 45 with value: 0.44016576154458004.\n"
          ]
        },
        {
          "name": "stdout",
          "output_type": "stream",
          "text": [
            "Early stopping, best iteration is:\n",
            "[94]\tvalid_0's rmse: 5.54956e-05\n"
          ]
        },
        {
          "name": "stderr",
          "output_type": "stream",
          "text": [
            "<ipython-input-45-3d6f33735477>:9: FutureWarning: suggest_loguniform has been deprecated in v3.0.0. This feature will be removed in v6.0.0. See https://github.com/optuna/optuna/releases/tag/v3.0.0. Use suggest_float(..., log=True) instead.\n",
            "  'lambda_l1': trial.suggest_loguniform('lambda_l1', 1e-8, 10.0),\n",
            "<ipython-input-45-3d6f33735477>:10: FutureWarning: suggest_loguniform has been deprecated in v3.0.0. This feature will be removed in v6.0.0. See https://github.com/optuna/optuna/releases/tag/v3.0.0. Use suggest_float(..., log=True) instead.\n",
            "  'lambda_l2': trial.suggest_loguniform('lambda_l2', 1e-8, 10.0),\n",
            "<ipython-input-45-3d6f33735477>:12: FutureWarning: suggest_uniform has been deprecated in v3.0.0. This feature will be removed in v6.0.0. See https://github.com/optuna/optuna/releases/tag/v3.0.0. Use suggest_float instead.\n",
            "  'feature_fraction': trial.suggest_uniform('feature_fraction', 0.4, 1.0),\n",
            "<ipython-input-45-3d6f33735477>:13: FutureWarning: suggest_uniform has been deprecated in v3.0.0. This feature will be removed in v6.0.0. See https://github.com/optuna/optuna/releases/tag/v3.0.0. Use suggest_float instead.\n",
            "  'bagging_fraction': trial.suggest_uniform('bagging_fraction', 0.4, 1.0),\n",
            "<ipython-input-45-3d6f33735477>:16: FutureWarning: suggest_loguniform has been deprecated in v3.0.0. This feature will be removed in v6.0.0. See https://github.com/optuna/optuna/releases/tag/v3.0.0. Use suggest_float(..., log=True) instead.\n",
            "  'learning_rate': trial.suggest_loguniform('learning_rate', 0.01, 0.3),\n"
          ]
        },
        {
          "name": "stdout",
          "output_type": "stream",
          "text": [
            "Training until validation scores don't improve for 20 rounds\n",
            "Early stopping, best iteration is:\n",
            "[61]\tvalid_0's rmse: 4.9539e-05\n",
            "Training until validation scores don't improve for 20 rounds\n",
            "Early stopping, best iteration is:\n",
            "[44]\tvalid_0's rmse: 4.97602e-05\n",
            "Training until validation scores don't improve for 20 rounds\n",
            "Early stopping, best iteration is:\n",
            "[50]\tvalid_0's rmse: 4.96774e-05\n",
            "Training until validation scores don't improve for 20 rounds\n",
            "Early stopping, best iteration is:\n",
            "[44]\tvalid_0's rmse: 4.98429e-05\n",
            "Training until validation scores don't improve for 20 rounds\n"
          ]
        },
        {
          "name": "stderr",
          "output_type": "stream",
          "text": [
            "[I 2023-10-28 14:58:45,489] Trial 59 finished with value: 0.448215900923142 and parameters: {'lambda_l1': 0.0003138078871543649, 'lambda_l2': 0.001837540772665094, 'num_leaves': 80, 'feature_fraction': 0.7093331371029323, 'bagging_fraction': 0.9285552951764698, 'bagging_freq': 2, 'min_child_samples': 13, 'learning_rate': 0.07151579285281165, 'max_depth': 9}. Best is trial 45 with value: 0.44016576154458004.\n"
          ]
        },
        {
          "name": "stdout",
          "output_type": "stream",
          "text": [
            "Early stopping, best iteration is:\n",
            "[97]\tvalid_0's rmse: 5.54768e-05\n"
          ]
        },
        {
          "name": "stderr",
          "output_type": "stream",
          "text": [
            "<ipython-input-45-3d6f33735477>:9: FutureWarning: suggest_loguniform has been deprecated in v3.0.0. This feature will be removed in v6.0.0. See https://github.com/optuna/optuna/releases/tag/v3.0.0. Use suggest_float(..., log=True) instead.\n",
            "  'lambda_l1': trial.suggest_loguniform('lambda_l1', 1e-8, 10.0),\n",
            "<ipython-input-45-3d6f33735477>:10: FutureWarning: suggest_loguniform has been deprecated in v3.0.0. This feature will be removed in v6.0.0. See https://github.com/optuna/optuna/releases/tag/v3.0.0. Use suggest_float(..., log=True) instead.\n",
            "  'lambda_l2': trial.suggest_loguniform('lambda_l2', 1e-8, 10.0),\n",
            "<ipython-input-45-3d6f33735477>:12: FutureWarning: suggest_uniform has been deprecated in v3.0.0. This feature will be removed in v6.0.0. See https://github.com/optuna/optuna/releases/tag/v3.0.0. Use suggest_float instead.\n",
            "  'feature_fraction': trial.suggest_uniform('feature_fraction', 0.4, 1.0),\n",
            "<ipython-input-45-3d6f33735477>:13: FutureWarning: suggest_uniform has been deprecated in v3.0.0. This feature will be removed in v6.0.0. See https://github.com/optuna/optuna/releases/tag/v3.0.0. Use suggest_float instead.\n",
            "  'bagging_fraction': trial.suggest_uniform('bagging_fraction', 0.4, 1.0),\n",
            "<ipython-input-45-3d6f33735477>:16: FutureWarning: suggest_loguniform has been deprecated in v3.0.0. This feature will be removed in v6.0.0. See https://github.com/optuna/optuna/releases/tag/v3.0.0. Use suggest_float(..., log=True) instead.\n",
            "  'learning_rate': trial.suggest_loguniform('learning_rate', 0.01, 0.3),\n"
          ]
        },
        {
          "name": "stdout",
          "output_type": "stream",
          "text": [
            "Training until validation scores don't improve for 20 rounds\n",
            "Early stopping, best iteration is:\n",
            "[44]\tvalid_0's rmse: 4.97422e-05\n",
            "Training until validation scores don't improve for 20 rounds\n",
            "Early stopping, best iteration is:\n",
            "[40]\tvalid_0's rmse: 4.97024e-05\n",
            "Training until validation scores don't improve for 20 rounds\n",
            "Early stopping, best iteration is:\n",
            "[59]\tvalid_0's rmse: 4.97032e-05\n",
            "Training until validation scores don't improve for 20 rounds\n",
            "Early stopping, best iteration is:\n",
            "[32]\tvalid_0's rmse: 5.00579e-05\n",
            "Training until validation scores don't improve for 20 rounds\n"
          ]
        },
        {
          "name": "stderr",
          "output_type": "stream",
          "text": [
            "[I 2023-10-28 14:59:04,585] Trial 60 finished with value: 0.4439008400448488 and parameters: {'lambda_l1': 0.0006798476797478619, 'lambda_l2': 0.005512165263311788, 'num_leaves': 77, 'feature_fraction': 0.6312683216889736, 'bagging_fraction': 0.9988899733372584, 'bagging_freq': 1, 'min_child_samples': 9, 'learning_rate': 0.09205849687752851, 'max_depth': 10}. Best is trial 45 with value: 0.44016576154458004.\n"
          ]
        },
        {
          "name": "stdout",
          "output_type": "stream",
          "text": [
            "Early stopping, best iteration is:\n",
            "[62]\tvalid_0's rmse: 5.57559e-05\n"
          ]
        },
        {
          "name": "stderr",
          "output_type": "stream",
          "text": [
            "<ipython-input-45-3d6f33735477>:9: FutureWarning: suggest_loguniform has been deprecated in v3.0.0. This feature will be removed in v6.0.0. See https://github.com/optuna/optuna/releases/tag/v3.0.0. Use suggest_float(..., log=True) instead.\n",
            "  'lambda_l1': trial.suggest_loguniform('lambda_l1', 1e-8, 10.0),\n",
            "<ipython-input-45-3d6f33735477>:10: FutureWarning: suggest_loguniform has been deprecated in v3.0.0. This feature will be removed in v6.0.0. See https://github.com/optuna/optuna/releases/tag/v3.0.0. Use suggest_float(..., log=True) instead.\n",
            "  'lambda_l2': trial.suggest_loguniform('lambda_l2', 1e-8, 10.0),\n",
            "<ipython-input-45-3d6f33735477>:12: FutureWarning: suggest_uniform has been deprecated in v3.0.0. This feature will be removed in v6.0.0. See https://github.com/optuna/optuna/releases/tag/v3.0.0. Use suggest_float instead.\n",
            "  'feature_fraction': trial.suggest_uniform('feature_fraction', 0.4, 1.0),\n",
            "<ipython-input-45-3d6f33735477>:13: FutureWarning: suggest_uniform has been deprecated in v3.0.0. This feature will be removed in v6.0.0. See https://github.com/optuna/optuna/releases/tag/v3.0.0. Use suggest_float instead.\n",
            "  'bagging_fraction': trial.suggest_uniform('bagging_fraction', 0.4, 1.0),\n",
            "<ipython-input-45-3d6f33735477>:16: FutureWarning: suggest_loguniform has been deprecated in v3.0.0. This feature will be removed in v6.0.0. See https://github.com/optuna/optuna/releases/tag/v3.0.0. Use suggest_float(..., log=True) instead.\n",
            "  'learning_rate': trial.suggest_loguniform('learning_rate', 0.01, 0.3),\n"
          ]
        },
        {
          "name": "stdout",
          "output_type": "stream",
          "text": [
            "Training until validation scores don't improve for 20 rounds\n",
            "Early stopping, best iteration is:\n",
            "[91]\tvalid_0's rmse: 4.94786e-05\n",
            "Training until validation scores don't improve for 20 rounds\n",
            "Early stopping, best iteration is:\n",
            "[80]\tvalid_0's rmse: 4.93523e-05\n",
            "Training until validation scores don't improve for 20 rounds\n",
            "Early stopping, best iteration is:\n",
            "[115]\tvalid_0's rmse: 4.94573e-05\n",
            "Training until validation scores don't improve for 20 rounds\n",
            "Early stopping, best iteration is:\n",
            "[64]\tvalid_0's rmse: 4.97509e-05\n",
            "Training until validation scores don't improve for 20 rounds\n"
          ]
        },
        {
          "name": "stderr",
          "output_type": "stream",
          "text": [
            "[I 2023-10-28 14:59:30,777] Trial 61 finished with value: 0.4432776245003597 and parameters: {'lambda_l1': 0.0013817293652414499, 'lambda_l2': 0.025787471738609607, 'num_leaves': 73, 'feature_fraction': 0.7214535951744971, 'bagging_fraction': 0.9512588682232921, 'bagging_freq': 3, 'min_child_samples': 24, 'learning_rate': 0.05677375414599383, 'max_depth': 12}. Best is trial 45 with value: 0.44016576154458004.\n"
          ]
        },
        {
          "name": "stdout",
          "output_type": "stream",
          "text": [
            "Early stopping, best iteration is:\n",
            "[109]\tvalid_0's rmse: 5.56554e-05\n"
          ]
        },
        {
          "name": "stderr",
          "output_type": "stream",
          "text": [
            "<ipython-input-45-3d6f33735477>:9: FutureWarning: suggest_loguniform has been deprecated in v3.0.0. This feature will be removed in v6.0.0. See https://github.com/optuna/optuna/releases/tag/v3.0.0. Use suggest_float(..., log=True) instead.\n",
            "  'lambda_l1': trial.suggest_loguniform('lambda_l1', 1e-8, 10.0),\n",
            "<ipython-input-45-3d6f33735477>:10: FutureWarning: suggest_loguniform has been deprecated in v3.0.0. This feature will be removed in v6.0.0. See https://github.com/optuna/optuna/releases/tag/v3.0.0. Use suggest_float(..., log=True) instead.\n",
            "  'lambda_l2': trial.suggest_loguniform('lambda_l2', 1e-8, 10.0),\n",
            "<ipython-input-45-3d6f33735477>:12: FutureWarning: suggest_uniform has been deprecated in v3.0.0. This feature will be removed in v6.0.0. See https://github.com/optuna/optuna/releases/tag/v3.0.0. Use suggest_float instead.\n",
            "  'feature_fraction': trial.suggest_uniform('feature_fraction', 0.4, 1.0),\n",
            "<ipython-input-45-3d6f33735477>:13: FutureWarning: suggest_uniform has been deprecated in v3.0.0. This feature will be removed in v6.0.0. See https://github.com/optuna/optuna/releases/tag/v3.0.0. Use suggest_float instead.\n",
            "  'bagging_fraction': trial.suggest_uniform('bagging_fraction', 0.4, 1.0),\n",
            "<ipython-input-45-3d6f33735477>:16: FutureWarning: suggest_loguniform has been deprecated in v3.0.0. This feature will be removed in v6.0.0. See https://github.com/optuna/optuna/releases/tag/v3.0.0. Use suggest_float(..., log=True) instead.\n",
            "  'learning_rate': trial.suggest_loguniform('learning_rate', 0.01, 0.3),\n"
          ]
        },
        {
          "name": "stdout",
          "output_type": "stream",
          "text": [
            "Training until validation scores don't improve for 20 rounds\n",
            "Early stopping, best iteration is:\n",
            "[83]\tvalid_0's rmse: 4.96465e-05\n",
            "Training until validation scores don't improve for 20 rounds\n",
            "Early stopping, best iteration is:\n",
            "[109]\tvalid_0's rmse: 4.96455e-05\n",
            "Training until validation scores don't improve for 20 rounds\n",
            "Early stopping, best iteration is:\n",
            "[120]\tvalid_0's rmse: 4.94547e-05\n",
            "Training until validation scores don't improve for 20 rounds\n",
            "Early stopping, best iteration is:\n",
            "[83]\tvalid_0's rmse: 4.96915e-05\n",
            "Training until validation scores don't improve for 20 rounds\n"
          ]
        },
        {
          "name": "stderr",
          "output_type": "stream",
          "text": [
            "[I 2023-10-28 15:00:06,046] Trial 62 finished with value: 0.4436805060009051 and parameters: {'lambda_l1': 0.00010648483024573865, 'lambda_l2': 0.0062601965084398544, 'num_leaves': 79, 'feature_fraction': 0.7123580083159831, 'bagging_fraction': 0.9724028710767079, 'bagging_freq': 2, 'min_child_samples': 16, 'learning_rate': 0.03815592031431954, 'max_depth': 13}. Best is trial 45 with value: 0.44016576154458004.\n"
          ]
        },
        {
          "name": "stdout",
          "output_type": "stream",
          "text": [
            "Early stopping, best iteration is:\n",
            "[109]\tvalid_0's rmse: 5.5479e-05\n"
          ]
        },
        {
          "name": "stderr",
          "output_type": "stream",
          "text": [
            "<ipython-input-45-3d6f33735477>:9: FutureWarning: suggest_loguniform has been deprecated in v3.0.0. This feature will be removed in v6.0.0. See https://github.com/optuna/optuna/releases/tag/v3.0.0. Use suggest_float(..., log=True) instead.\n",
            "  'lambda_l1': trial.suggest_loguniform('lambda_l1', 1e-8, 10.0),\n",
            "<ipython-input-45-3d6f33735477>:10: FutureWarning: suggest_loguniform has been deprecated in v3.0.0. This feature will be removed in v6.0.0. See https://github.com/optuna/optuna/releases/tag/v3.0.0. Use suggest_float(..., log=True) instead.\n",
            "  'lambda_l2': trial.suggest_loguniform('lambda_l2', 1e-8, 10.0),\n",
            "<ipython-input-45-3d6f33735477>:12: FutureWarning: suggest_uniform has been deprecated in v3.0.0. This feature will be removed in v6.0.0. See https://github.com/optuna/optuna/releases/tag/v3.0.0. Use suggest_float instead.\n",
            "  'feature_fraction': trial.suggest_uniform('feature_fraction', 0.4, 1.0),\n",
            "<ipython-input-45-3d6f33735477>:13: FutureWarning: suggest_uniform has been deprecated in v3.0.0. This feature will be removed in v6.0.0. See https://github.com/optuna/optuna/releases/tag/v3.0.0. Use suggest_float instead.\n",
            "  'bagging_fraction': trial.suggest_uniform('bagging_fraction', 0.4, 1.0),\n",
            "<ipython-input-45-3d6f33735477>:16: FutureWarning: suggest_loguniform has been deprecated in v3.0.0. This feature will be removed in v6.0.0. See https://github.com/optuna/optuna/releases/tag/v3.0.0. Use suggest_float(..., log=True) instead.\n",
            "  'learning_rate': trial.suggest_loguniform('learning_rate', 0.01, 0.3),\n"
          ]
        },
        {
          "name": "stdout",
          "output_type": "stream",
          "text": [
            "Training until validation scores don't improve for 20 rounds\n",
            "Early stopping, best iteration is:\n",
            "[125]\tvalid_0's rmse: 4.93902e-05\n",
            "Training until validation scores don't improve for 20 rounds\n",
            "Early stopping, best iteration is:\n",
            "[105]\tvalid_0's rmse: 4.95473e-05\n",
            "Training until validation scores don't improve for 20 rounds\n",
            "Early stopping, best iteration is:\n",
            "[112]\tvalid_0's rmse: 4.95264e-05\n",
            "Training until validation scores don't improve for 20 rounds\n",
            "Early stopping, best iteration is:\n",
            "[93]\tvalid_0's rmse: 4.95955e-05\n",
            "Training until validation scores don't improve for 20 rounds\n"
          ]
        },
        {
          "name": "stderr",
          "output_type": "stream",
          "text": [
            "[I 2023-10-28 15:00:35,616] Trial 63 finished with value: 0.44365083351487755 and parameters: {'lambda_l1': 0.0017267501665914028, 'lambda_l2': 0.001956827893228418, 'num_leaves': 78, 'feature_fraction': 0.7340235163135019, 'bagging_fraction': 0.9316770844678958, 'bagging_freq': 1, 'min_child_samples': 41, 'learning_rate': 0.043855823207189344, 'max_depth': 11}. Best is trial 45 with value: 0.44016576154458004.\n"
          ]
        },
        {
          "name": "stdout",
          "output_type": "stream",
          "text": [
            "Early stopping, best iteration is:\n",
            "[162]\tvalid_0's rmse: 5.55762e-05\n"
          ]
        },
        {
          "name": "stderr",
          "output_type": "stream",
          "text": [
            "<ipython-input-45-3d6f33735477>:9: FutureWarning: suggest_loguniform has been deprecated in v3.0.0. This feature will be removed in v6.0.0. See https://github.com/optuna/optuna/releases/tag/v3.0.0. Use suggest_float(..., log=True) instead.\n",
            "  'lambda_l1': trial.suggest_loguniform('lambda_l1', 1e-8, 10.0),\n",
            "<ipython-input-45-3d6f33735477>:10: FutureWarning: suggest_loguniform has been deprecated in v3.0.0. This feature will be removed in v6.0.0. See https://github.com/optuna/optuna/releases/tag/v3.0.0. Use suggest_float(..., log=True) instead.\n",
            "  'lambda_l2': trial.suggest_loguniform('lambda_l2', 1e-8, 10.0),\n",
            "<ipython-input-45-3d6f33735477>:12: FutureWarning: suggest_uniform has been deprecated in v3.0.0. This feature will be removed in v6.0.0. See https://github.com/optuna/optuna/releases/tag/v3.0.0. Use suggest_float instead.\n",
            "  'feature_fraction': trial.suggest_uniform('feature_fraction', 0.4, 1.0),\n",
            "<ipython-input-45-3d6f33735477>:13: FutureWarning: suggest_uniform has been deprecated in v3.0.0. This feature will be removed in v6.0.0. See https://github.com/optuna/optuna/releases/tag/v3.0.0. Use suggest_float instead.\n",
            "  'bagging_fraction': trial.suggest_uniform('bagging_fraction', 0.4, 1.0),\n",
            "<ipython-input-45-3d6f33735477>:16: FutureWarning: suggest_loguniform has been deprecated in v3.0.0. This feature will be removed in v6.0.0. See https://github.com/optuna/optuna/releases/tag/v3.0.0. Use suggest_float(..., log=True) instead.\n",
            "  'learning_rate': trial.suggest_loguniform('learning_rate', 0.01, 0.3),\n"
          ]
        },
        {
          "name": "stdout",
          "output_type": "stream",
          "text": [
            "Training until validation scores don't improve for 20 rounds\n",
            "Early stopping, best iteration is:\n",
            "[64]\tvalid_0's rmse: 4.96333e-05\n",
            "Training until validation scores don't improve for 20 rounds\n",
            "Early stopping, best iteration is:\n",
            "[67]\tvalid_0's rmse: 4.94973e-05\n",
            "Training until validation scores don't improve for 20 rounds\n",
            "Early stopping, best iteration is:\n",
            "[83]\tvalid_0's rmse: 4.95814e-05\n",
            "Training until validation scores don't improve for 20 rounds\n",
            "Early stopping, best iteration is:\n",
            "[64]\tvalid_0's rmse: 4.97776e-05\n",
            "Training until validation scores don't improve for 20 rounds\n"
          ]
        },
        {
          "name": "stderr",
          "output_type": "stream",
          "text": [
            "[I 2023-10-28 15:00:59,511] Trial 64 finished with value: 0.44434384796288223 and parameters: {'lambda_l1': 0.0004028894969844107, 'lambda_l2': 0.029754001827959623, 'num_leaves': 68, 'feature_fraction': 0.691069672697487, 'bagging_fraction': 0.9628696552282061, 'bagging_freq': 2, 'min_child_samples': 33, 'learning_rate': 0.05469192121224959, 'max_depth': 13}. Best is trial 45 with value: 0.44016576154458004.\n"
          ]
        },
        {
          "name": "stdout",
          "output_type": "stream",
          "text": [
            "Early stopping, best iteration is:\n",
            "[93]\tvalid_0's rmse: 5.55393e-05\n"
          ]
        },
        {
          "name": "stderr",
          "output_type": "stream",
          "text": [
            "<ipython-input-45-3d6f33735477>:9: FutureWarning: suggest_loguniform has been deprecated in v3.0.0. This feature will be removed in v6.0.0. See https://github.com/optuna/optuna/releases/tag/v3.0.0. Use suggest_float(..., log=True) instead.\n",
            "  'lambda_l1': trial.suggest_loguniform('lambda_l1', 1e-8, 10.0),\n",
            "<ipython-input-45-3d6f33735477>:10: FutureWarning: suggest_loguniform has been deprecated in v3.0.0. This feature will be removed in v6.0.0. See https://github.com/optuna/optuna/releases/tag/v3.0.0. Use suggest_float(..., log=True) instead.\n",
            "  'lambda_l2': trial.suggest_loguniform('lambda_l2', 1e-8, 10.0),\n",
            "<ipython-input-45-3d6f33735477>:12: FutureWarning: suggest_uniform has been deprecated in v3.0.0. This feature will be removed in v6.0.0. See https://github.com/optuna/optuna/releases/tag/v3.0.0. Use suggest_float instead.\n",
            "  'feature_fraction': trial.suggest_uniform('feature_fraction', 0.4, 1.0),\n",
            "<ipython-input-45-3d6f33735477>:13: FutureWarning: suggest_uniform has been deprecated in v3.0.0. This feature will be removed in v6.0.0. See https://github.com/optuna/optuna/releases/tag/v3.0.0. Use suggest_float instead.\n",
            "  'bagging_fraction': trial.suggest_uniform('bagging_fraction', 0.4, 1.0),\n",
            "<ipython-input-45-3d6f33735477>:16: FutureWarning: suggest_loguniform has been deprecated in v3.0.0. This feature will be removed in v6.0.0. See https://github.com/optuna/optuna/releases/tag/v3.0.0. Use suggest_float(..., log=True) instead.\n",
            "  'learning_rate': trial.suggest_loguniform('learning_rate', 0.01, 0.3),\n"
          ]
        },
        {
          "name": "stdout",
          "output_type": "stream",
          "text": [
            "Training until validation scores don't improve for 20 rounds\n",
            "Early stopping, best iteration is:\n",
            "[199]\tvalid_0's rmse: 4.95204e-05\n",
            "Training until validation scores don't improve for 20 rounds\n",
            "Early stopping, best iteration is:\n",
            "[204]\tvalid_0's rmse: 4.95669e-05\n",
            "Training until validation scores don't improve for 20 rounds\n",
            "Early stopping, best iteration is:\n",
            "[232]\tvalid_0's rmse: 4.9471e-05\n",
            "Training until validation scores don't improve for 20 rounds\n",
            "Early stopping, best iteration is:\n",
            "[138]\tvalid_0's rmse: 4.96695e-05\n",
            "Training until validation scores don't improve for 20 rounds\n"
          ]
        },
        {
          "name": "stderr",
          "output_type": "stream",
          "text": [
            "[I 2023-10-28 15:01:19,915] Trial 65 finished with value: 0.45453953547308157 and parameters: {'lambda_l1': 0.012712692379977308, 'lambda_l2': 0.01232701852953186, 'num_leaves': 72, 'feature_fraction': 0.671460899611413, 'bagging_fraction': 0.9043863949004559, 'bagging_freq': 3, 'min_child_samples': 35, 'learning_rate': 0.07206741417967318, 'max_depth': 15}. Best is trial 45 with value: 0.44016576154458004.\n"
          ]
        },
        {
          "name": "stdout",
          "output_type": "stream",
          "text": [
            "Early stopping, best iteration is:\n",
            "[111]\tvalid_0's rmse: 5.61723e-05\n"
          ]
        },
        {
          "name": "stderr",
          "output_type": "stream",
          "text": [
            "<ipython-input-45-3d6f33735477>:9: FutureWarning: suggest_loguniform has been deprecated in v3.0.0. This feature will be removed in v6.0.0. See https://github.com/optuna/optuna/releases/tag/v3.0.0. Use suggest_float(..., log=True) instead.\n",
            "  'lambda_l1': trial.suggest_loguniform('lambda_l1', 1e-8, 10.0),\n",
            "<ipython-input-45-3d6f33735477>:10: FutureWarning: suggest_loguniform has been deprecated in v3.0.0. This feature will be removed in v6.0.0. See https://github.com/optuna/optuna/releases/tag/v3.0.0. Use suggest_float(..., log=True) instead.\n",
            "  'lambda_l2': trial.suggest_loguniform('lambda_l2', 1e-8, 10.0),\n",
            "<ipython-input-45-3d6f33735477>:12: FutureWarning: suggest_uniform has been deprecated in v3.0.0. This feature will be removed in v6.0.0. See https://github.com/optuna/optuna/releases/tag/v3.0.0. Use suggest_float instead.\n",
            "  'feature_fraction': trial.suggest_uniform('feature_fraction', 0.4, 1.0),\n",
            "<ipython-input-45-3d6f33735477>:13: FutureWarning: suggest_uniform has been deprecated in v3.0.0. This feature will be removed in v6.0.0. See https://github.com/optuna/optuna/releases/tag/v3.0.0. Use suggest_float instead.\n",
            "  'bagging_fraction': trial.suggest_uniform('bagging_fraction', 0.4, 1.0),\n",
            "<ipython-input-45-3d6f33735477>:16: FutureWarning: suggest_loguniform has been deprecated in v3.0.0. This feature will be removed in v6.0.0. See https://github.com/optuna/optuna/releases/tag/v3.0.0. Use suggest_float(..., log=True) instead.\n",
            "  'learning_rate': trial.suggest_loguniform('learning_rate', 0.01, 0.3),\n"
          ]
        },
        {
          "name": "stdout",
          "output_type": "stream",
          "text": [
            "Training until validation scores don't improve for 20 rounds\n",
            "Early stopping, best iteration is:\n",
            "[198]\tvalid_0's rmse: 4.95123e-05\n",
            "Training until validation scores don't improve for 20 rounds\n",
            "Early stopping, best iteration is:\n",
            "[192]\tvalid_0's rmse: 4.95613e-05\n",
            "Training until validation scores don't improve for 20 rounds\n",
            "Early stopping, best iteration is:\n",
            "[257]\tvalid_0's rmse: 4.94316e-05\n",
            "Training until validation scores don't improve for 20 rounds\n",
            "Early stopping, best iteration is:\n",
            "[224]\tvalid_0's rmse: 4.95791e-05\n",
            "Training until validation scores don't improve for 20 rounds\n"
          ]
        },
        {
          "name": "stderr",
          "output_type": "stream",
          "text": [
            "[I 2023-10-28 15:01:48,059] Trial 66 finished with value: 0.4509135020542326 and parameters: {'lambda_l1': 0.01015912686965538, 'lambda_l2': 0.05000014287982571, 'num_leaves': 75, 'feature_fraction': 0.7551722046650343, 'bagging_fraction': 0.9819639280606702, 'bagging_freq': 2, 'min_child_samples': 44, 'learning_rate': 0.04488963146051538, 'max_depth': 11}. Best is trial 45 with value: 0.44016576154458004.\n"
          ]
        },
        {
          "name": "stdout",
          "output_type": "stream",
          "text": [
            "Early stopping, best iteration is:\n",
            "[116]\tvalid_0's rmse: 5.599e-05\n"
          ]
        },
        {
          "name": "stderr",
          "output_type": "stream",
          "text": [
            "<ipython-input-45-3d6f33735477>:9: FutureWarning: suggest_loguniform has been deprecated in v3.0.0. This feature will be removed in v6.0.0. See https://github.com/optuna/optuna/releases/tag/v3.0.0. Use suggest_float(..., log=True) instead.\n",
            "  'lambda_l1': trial.suggest_loguniform('lambda_l1', 1e-8, 10.0),\n",
            "<ipython-input-45-3d6f33735477>:10: FutureWarning: suggest_loguniform has been deprecated in v3.0.0. This feature will be removed in v6.0.0. See https://github.com/optuna/optuna/releases/tag/v3.0.0. Use suggest_float(..., log=True) instead.\n",
            "  'lambda_l2': trial.suggest_loguniform('lambda_l2', 1e-8, 10.0),\n",
            "<ipython-input-45-3d6f33735477>:12: FutureWarning: suggest_uniform has been deprecated in v3.0.0. This feature will be removed in v6.0.0. See https://github.com/optuna/optuna/releases/tag/v3.0.0. Use suggest_float instead.\n",
            "  'feature_fraction': trial.suggest_uniform('feature_fraction', 0.4, 1.0),\n",
            "<ipython-input-45-3d6f33735477>:13: FutureWarning: suggest_uniform has been deprecated in v3.0.0. This feature will be removed in v6.0.0. See https://github.com/optuna/optuna/releases/tag/v3.0.0. Use suggest_float instead.\n",
            "  'bagging_fraction': trial.suggest_uniform('bagging_fraction', 0.4, 1.0),\n",
            "<ipython-input-45-3d6f33735477>:16: FutureWarning: suggest_loguniform has been deprecated in v3.0.0. This feature will be removed in v6.0.0. See https://github.com/optuna/optuna/releases/tag/v3.0.0. Use suggest_float(..., log=True) instead.\n",
            "  'learning_rate': trial.suggest_loguniform('learning_rate', 0.01, 0.3),\n"
          ]
        },
        {
          "name": "stdout",
          "output_type": "stream",
          "text": [
            "Training until validation scores don't improve for 20 rounds\n",
            "Early stopping, best iteration is:\n",
            "[89]\tvalid_0's rmse: 4.94714e-05\n",
            "Training until validation scores don't improve for 20 rounds\n",
            "Early stopping, best iteration is:\n",
            "[60]\tvalid_0's rmse: 4.96193e-05\n",
            "Training until validation scores don't improve for 20 rounds\n",
            "Early stopping, best iteration is:\n",
            "[87]\tvalid_0's rmse: 4.9528e-05\n",
            "Training until validation scores don't improve for 20 rounds\n",
            "Early stopping, best iteration is:\n",
            "[64]\tvalid_0's rmse: 4.96442e-05\n",
            "Training until validation scores don't improve for 20 rounds\n"
          ]
        },
        {
          "name": "stderr",
          "output_type": "stream",
          "text": [
            "[I 2023-10-28 15:02:13,373] Trial 67 finished with value: 0.4446745182638738 and parameters: {'lambda_l1': 0.0009354658529132468, 'lambda_l2': 0.004068116057822203, 'num_leaves': 77, 'feature_fraction': 0.7089057943706687, 'bagging_fraction': 0.9381062338610842, 'bagging_freq': 1, 'min_child_samples': 19, 'learning_rate': 0.05364635692777007, 'max_depth': 12}. Best is trial 45 with value: 0.44016576154458004.\n"
          ]
        },
        {
          "name": "stdout",
          "output_type": "stream",
          "text": [
            "Early stopping, best iteration is:\n",
            "[98]\tvalid_0's rmse: 5.56305e-05\n"
          ]
        },
        {
          "name": "stderr",
          "output_type": "stream",
          "text": [
            "<ipython-input-45-3d6f33735477>:9: FutureWarning: suggest_loguniform has been deprecated in v3.0.0. This feature will be removed in v6.0.0. See https://github.com/optuna/optuna/releases/tag/v3.0.0. Use suggest_float(..., log=True) instead.\n",
            "  'lambda_l1': trial.suggest_loguniform('lambda_l1', 1e-8, 10.0),\n",
            "<ipython-input-45-3d6f33735477>:10: FutureWarning: suggest_loguniform has been deprecated in v3.0.0. This feature will be removed in v6.0.0. See https://github.com/optuna/optuna/releases/tag/v3.0.0. Use suggest_float(..., log=True) instead.\n",
            "  'lambda_l2': trial.suggest_loguniform('lambda_l2', 1e-8, 10.0),\n",
            "<ipython-input-45-3d6f33735477>:12: FutureWarning: suggest_uniform has been deprecated in v3.0.0. This feature will be removed in v6.0.0. See https://github.com/optuna/optuna/releases/tag/v3.0.0. Use suggest_float instead.\n",
            "  'feature_fraction': trial.suggest_uniform('feature_fraction', 0.4, 1.0),\n",
            "<ipython-input-45-3d6f33735477>:13: FutureWarning: suggest_uniform has been deprecated in v3.0.0. This feature will be removed in v6.0.0. See https://github.com/optuna/optuna/releases/tag/v3.0.0. Use suggest_float instead.\n",
            "  'bagging_fraction': trial.suggest_uniform('bagging_fraction', 0.4, 1.0),\n",
            "<ipython-input-45-3d6f33735477>:16: FutureWarning: suggest_loguniform has been deprecated in v3.0.0. This feature will be removed in v6.0.0. See https://github.com/optuna/optuna/releases/tag/v3.0.0. Use suggest_float(..., log=True) instead.\n",
            "  'learning_rate': trial.suggest_loguniform('learning_rate', 0.01, 0.3),\n"
          ]
        },
        {
          "name": "stdout",
          "output_type": "stream",
          "text": [
            "Training until validation scores don't improve for 20 rounds\n",
            "Early stopping, best iteration is:\n",
            "[83]\tvalid_0's rmse: 4.93873e-05\n",
            "Training until validation scores don't improve for 20 rounds\n",
            "Early stopping, best iteration is:\n",
            "[54]\tvalid_0's rmse: 4.94791e-05\n",
            "Training until validation scores don't improve for 20 rounds\n",
            "Early stopping, best iteration is:\n",
            "[60]\tvalid_0's rmse: 4.9651e-05\n",
            "Training until validation scores don't improve for 20 rounds\n",
            "Early stopping, best iteration is:\n",
            "[62]\tvalid_0's rmse: 4.97297e-05\n",
            "Training until validation scores don't improve for 20 rounds\n"
          ]
        },
        {
          "name": "stderr",
          "output_type": "stream",
          "text": [
            "[I 2023-10-28 15:02:34,461] Trial 68 finished with value: 0.4453732590650549 and parameters: {'lambda_l1': 0.0016763849623495106, 'lambda_l2': 0.0005196657255657589, 'num_leaves': 70, 'feature_fraction': 0.7383862859795227, 'bagging_fraction': 0.9181983468031282, 'bagging_freq': 3, 'min_child_samples': 25, 'learning_rate': 0.06553437652437434, 'max_depth': 9}. Best is trial 45 with value: 0.44016576154458004.\n"
          ]
        },
        {
          "name": "stdout",
          "output_type": "stream",
          "text": [
            "Early stopping, best iteration is:\n",
            "[95]\tvalid_0's rmse: 5.56202e-05\n"
          ]
        },
        {
          "name": "stderr",
          "output_type": "stream",
          "text": [
            "<ipython-input-45-3d6f33735477>:9: FutureWarning: suggest_loguniform has been deprecated in v3.0.0. This feature will be removed in v6.0.0. See https://github.com/optuna/optuna/releases/tag/v3.0.0. Use suggest_float(..., log=True) instead.\n",
            "  'lambda_l1': trial.suggest_loguniform('lambda_l1', 1e-8, 10.0),\n",
            "<ipython-input-45-3d6f33735477>:10: FutureWarning: suggest_loguniform has been deprecated in v3.0.0. This feature will be removed in v6.0.0. See https://github.com/optuna/optuna/releases/tag/v3.0.0. Use suggest_float(..., log=True) instead.\n",
            "  'lambda_l2': trial.suggest_loguniform('lambda_l2', 1e-8, 10.0),\n",
            "<ipython-input-45-3d6f33735477>:12: FutureWarning: suggest_uniform has been deprecated in v3.0.0. This feature will be removed in v6.0.0. See https://github.com/optuna/optuna/releases/tag/v3.0.0. Use suggest_float instead.\n",
            "  'feature_fraction': trial.suggest_uniform('feature_fraction', 0.4, 1.0),\n",
            "<ipython-input-45-3d6f33735477>:13: FutureWarning: suggest_uniform has been deprecated in v3.0.0. This feature will be removed in v6.0.0. See https://github.com/optuna/optuna/releases/tag/v3.0.0. Use suggest_float instead.\n",
            "  'bagging_fraction': trial.suggest_uniform('bagging_fraction', 0.4, 1.0),\n",
            "<ipython-input-45-3d6f33735477>:16: FutureWarning: suggest_loguniform has been deprecated in v3.0.0. This feature will be removed in v6.0.0. See https://github.com/optuna/optuna/releases/tag/v3.0.0. Use suggest_float(..., log=True) instead.\n",
            "  'learning_rate': trial.suggest_loguniform('learning_rate', 0.01, 0.3),\n"
          ]
        },
        {
          "name": "stdout",
          "output_type": "stream",
          "text": [
            "Training until validation scores don't improve for 20 rounds\n",
            "Early stopping, best iteration is:\n",
            "[143]\tvalid_0's rmse: 4.93712e-05\n",
            "Training until validation scores don't improve for 20 rounds\n",
            "Early stopping, best iteration is:\n",
            "[114]\tvalid_0's rmse: 4.94129e-05\n",
            "Training until validation scores don't improve for 20 rounds\n",
            "Early stopping, best iteration is:\n",
            "[114]\tvalid_0's rmse: 4.95343e-05\n",
            "Training until validation scores don't improve for 20 rounds\n",
            "Early stopping, best iteration is:\n",
            "[83]\tvalid_0's rmse: 4.98111e-05\n",
            "Training until validation scores don't improve for 20 rounds\n"
          ]
        },
        {
          "name": "stderr",
          "output_type": "stream",
          "text": [
            "[I 2023-10-28 15:03:04,902] Trial 69 finished with value: 0.44495279075493477 and parameters: {'lambda_l1': 0.00017784491356594278, 'lambda_l2': 0.00023625057837621446, 'num_leaves': 67, 'feature_fraction': 0.6845388926975993, 'bagging_fraction': 0.9612013749812098, 'bagging_freq': 2, 'min_child_samples': 35, 'learning_rate': 0.03755178446703796, 'max_depth': 13}. Best is trial 45 with value: 0.44016576154458004.\n"
          ]
        },
        {
          "name": "stdout",
          "output_type": "stream",
          "text": [
            "Early stopping, best iteration is:\n",
            "[109]\tvalid_0's rmse: 5.55535e-05\n"
          ]
        },
        {
          "name": "stderr",
          "output_type": "stream",
          "text": [
            "<ipython-input-45-3d6f33735477>:9: FutureWarning: suggest_loguniform has been deprecated in v3.0.0. This feature will be removed in v6.0.0. See https://github.com/optuna/optuna/releases/tag/v3.0.0. Use suggest_float(..., log=True) instead.\n",
            "  'lambda_l1': trial.suggest_loguniform('lambda_l1', 1e-8, 10.0),\n",
            "<ipython-input-45-3d6f33735477>:10: FutureWarning: suggest_loguniform has been deprecated in v3.0.0. This feature will be removed in v6.0.0. See https://github.com/optuna/optuna/releases/tag/v3.0.0. Use suggest_float(..., log=True) instead.\n",
            "  'lambda_l2': trial.suggest_loguniform('lambda_l2', 1e-8, 10.0),\n",
            "<ipython-input-45-3d6f33735477>:12: FutureWarning: suggest_uniform has been deprecated in v3.0.0. This feature will be removed in v6.0.0. See https://github.com/optuna/optuna/releases/tag/v3.0.0. Use suggest_float instead.\n",
            "  'feature_fraction': trial.suggest_uniform('feature_fraction', 0.4, 1.0),\n",
            "<ipython-input-45-3d6f33735477>:13: FutureWarning: suggest_uniform has been deprecated in v3.0.0. This feature will be removed in v6.0.0. See https://github.com/optuna/optuna/releases/tag/v3.0.0. Use suggest_float instead.\n",
            "  'bagging_fraction': trial.suggest_uniform('bagging_fraction', 0.4, 1.0),\n",
            "<ipython-input-45-3d6f33735477>:16: FutureWarning: suggest_loguniform has been deprecated in v3.0.0. This feature will be removed in v6.0.0. See https://github.com/optuna/optuna/releases/tag/v3.0.0. Use suggest_float(..., log=True) instead.\n",
            "  'learning_rate': trial.suggest_loguniform('learning_rate', 0.01, 0.3),\n"
          ]
        },
        {
          "name": "stdout",
          "output_type": "stream",
          "text": [
            "Training until validation scores don't improve for 20 rounds\n",
            "Early stopping, best iteration is:\n",
            "[143]\tvalid_0's rmse: 4.94271e-05\n",
            "Training until validation scores don't improve for 20 rounds\n",
            "Early stopping, best iteration is:\n",
            "[193]\tvalid_0's rmse: 4.94956e-05\n",
            "Training until validation scores don't improve for 20 rounds\n",
            "Early stopping, best iteration is:\n",
            "[235]\tvalid_0's rmse: 4.94677e-05\n",
            "Training until validation scores don't improve for 20 rounds\n",
            "Early stopping, best iteration is:\n",
            "[162]\tvalid_0's rmse: 4.97286e-05\n",
            "Training until validation scores don't improve for 20 rounds\n"
          ]
        },
        {
          "name": "stderr",
          "output_type": "stream",
          "text": [
            "[I 2023-10-28 15:03:37,904] Trial 70 finished with value: 0.4459154009935009 and parameters: {'lambda_l1': 0.007798054669727382, 'lambda_l2': 0.0014939932608097031, 'num_leaves': 80, 'feature_fraction': 0.6511484602038413, 'bagging_fraction': 0.9822513005318012, 'bagging_freq': 1, 'min_child_samples': 15, 'learning_rate': 0.05272999097064609, 'max_depth': 12}. Best is trial 45 with value: 0.44016576154458004.\n"
          ]
        },
        {
          "name": "stdout",
          "output_type": "stream",
          "text": [
            "Early stopping, best iteration is:\n",
            "[163]\tvalid_0's rmse: 5.59551e-05\n"
          ]
        },
        {
          "name": "stderr",
          "output_type": "stream",
          "text": [
            "<ipython-input-45-3d6f33735477>:9: FutureWarning: suggest_loguniform has been deprecated in v3.0.0. This feature will be removed in v6.0.0. See https://github.com/optuna/optuna/releases/tag/v3.0.0. Use suggest_float(..., log=True) instead.\n",
            "  'lambda_l1': trial.suggest_loguniform('lambda_l1', 1e-8, 10.0),\n",
            "<ipython-input-45-3d6f33735477>:10: FutureWarning: suggest_loguniform has been deprecated in v3.0.0. This feature will be removed in v6.0.0. See https://github.com/optuna/optuna/releases/tag/v3.0.0. Use suggest_float(..., log=True) instead.\n",
            "  'lambda_l2': trial.suggest_loguniform('lambda_l2', 1e-8, 10.0),\n",
            "<ipython-input-45-3d6f33735477>:12: FutureWarning: suggest_uniform has been deprecated in v3.0.0. This feature will be removed in v6.0.0. See https://github.com/optuna/optuna/releases/tag/v3.0.0. Use suggest_float instead.\n",
            "  'feature_fraction': trial.suggest_uniform('feature_fraction', 0.4, 1.0),\n",
            "<ipython-input-45-3d6f33735477>:13: FutureWarning: suggest_uniform has been deprecated in v3.0.0. This feature will be removed in v6.0.0. See https://github.com/optuna/optuna/releases/tag/v3.0.0. Use suggest_float instead.\n",
            "  'bagging_fraction': trial.suggest_uniform('bagging_fraction', 0.4, 1.0),\n",
            "<ipython-input-45-3d6f33735477>:16: FutureWarning: suggest_loguniform has been deprecated in v3.0.0. This feature will be removed in v6.0.0. See https://github.com/optuna/optuna/releases/tag/v3.0.0. Use suggest_float(..., log=True) instead.\n",
            "  'learning_rate': trial.suggest_loguniform('learning_rate', 0.01, 0.3),\n"
          ]
        },
        {
          "name": "stdout",
          "output_type": "stream",
          "text": [
            "Training until validation scores don't improve for 20 rounds\n",
            "Early stopping, best iteration is:\n",
            "[93]\tvalid_0's rmse: 4.94662e-05\n",
            "Training until validation scores don't improve for 20 rounds\n",
            "Early stopping, best iteration is:\n",
            "[108]\tvalid_0's rmse: 4.93852e-05\n",
            "Training until validation scores don't improve for 20 rounds\n",
            "Early stopping, best iteration is:\n",
            "[130]\tvalid_0's rmse: 4.93964e-05\n",
            "Training until validation scores don't improve for 20 rounds\n",
            "Early stopping, best iteration is:\n",
            "[89]\tvalid_0's rmse: 4.96859e-05\n",
            "Training until validation scores don't improve for 20 rounds\n"
          ]
        },
        {
          "name": "stderr",
          "output_type": "stream",
          "text": [
            "[I 2023-10-28 15:04:02,607] Trial 71 finished with value: 0.4436482983505382 and parameters: {'lambda_l1': 0.002708717504380524, 'lambda_l2': 0.015179601109428193, 'num_leaves': 78, 'feature_fraction': 0.7203116360475766, 'bagging_fraction': 0.8987733464990351, 'bagging_freq': 3, 'min_child_samples': 46, 'learning_rate': 0.04606308343482245, 'max_depth': 14}. Best is trial 45 with value: 0.44016576154458004.\n"
          ]
        },
        {
          "name": "stdout",
          "output_type": "stream",
          "text": [
            "Early stopping, best iteration is:\n",
            "[91]\tvalid_0's rmse: 5.57872e-05\n"
          ]
        },
        {
          "name": "stderr",
          "output_type": "stream",
          "text": [
            "<ipython-input-45-3d6f33735477>:9: FutureWarning: suggest_loguniform has been deprecated in v3.0.0. This feature will be removed in v6.0.0. See https://github.com/optuna/optuna/releases/tag/v3.0.0. Use suggest_float(..., log=True) instead.\n",
            "  'lambda_l1': trial.suggest_loguniform('lambda_l1', 1e-8, 10.0),\n",
            "<ipython-input-45-3d6f33735477>:10: FutureWarning: suggest_loguniform has been deprecated in v3.0.0. This feature will be removed in v6.0.0. See https://github.com/optuna/optuna/releases/tag/v3.0.0. Use suggest_float(..., log=True) instead.\n",
            "  'lambda_l2': trial.suggest_loguniform('lambda_l2', 1e-8, 10.0),\n",
            "<ipython-input-45-3d6f33735477>:12: FutureWarning: suggest_uniform has been deprecated in v3.0.0. This feature will be removed in v6.0.0. See https://github.com/optuna/optuna/releases/tag/v3.0.0. Use suggest_float instead.\n",
            "  'feature_fraction': trial.suggest_uniform('feature_fraction', 0.4, 1.0),\n",
            "<ipython-input-45-3d6f33735477>:13: FutureWarning: suggest_uniform has been deprecated in v3.0.0. This feature will be removed in v6.0.0. See https://github.com/optuna/optuna/releases/tag/v3.0.0. Use suggest_float instead.\n",
            "  'bagging_fraction': trial.suggest_uniform('bagging_fraction', 0.4, 1.0),\n",
            "<ipython-input-45-3d6f33735477>:16: FutureWarning: suggest_loguniform has been deprecated in v3.0.0. This feature will be removed in v6.0.0. See https://github.com/optuna/optuna/releases/tag/v3.0.0. Use suggest_float(..., log=True) instead.\n",
            "  'learning_rate': trial.suggest_loguniform('learning_rate', 0.01, 0.3),\n"
          ]
        },
        {
          "name": "stdout",
          "output_type": "stream",
          "text": [
            "Training until validation scores don't improve for 20 rounds\n",
            "Early stopping, best iteration is:\n",
            "[83]\tvalid_0's rmse: 4.96534e-05\n",
            "Training until validation scores don't improve for 20 rounds\n",
            "Early stopping, best iteration is:\n",
            "[69]\tvalid_0's rmse: 4.97001e-05\n",
            "Training until validation scores don't improve for 20 rounds\n",
            "Early stopping, best iteration is:\n",
            "[120]\tvalid_0's rmse: 4.9531e-05\n",
            "Training until validation scores don't improve for 20 rounds\n",
            "Early stopping, best iteration is:\n",
            "[68]\tvalid_0's rmse: 4.97318e-05\n",
            "Training until validation scores don't improve for 20 rounds\n"
          ]
        },
        {
          "name": "stderr",
          "output_type": "stream",
          "text": [
            "[I 2023-10-28 15:04:30,174] Trial 72 finished with value: 0.4425432853045718 and parameters: {'lambda_l1': 0.00062325270111895, 'lambda_l2': 0.04306828242902286, 'num_leaves': 74, 'feature_fraction': 0.7607883024904833, 'bagging_fraction': 0.9393201164613602, 'bagging_freq': 4, 'min_child_samples': 38, 'learning_rate': 0.047697968573629033, 'max_depth': 14}. Best is trial 45 with value: 0.44016576154458004.\n"
          ]
        },
        {
          "name": "stdout",
          "output_type": "stream",
          "text": [
            "Early stopping, best iteration is:\n",
            "[114]\tvalid_0's rmse: 5.54648e-05\n"
          ]
        },
        {
          "name": "stderr",
          "output_type": "stream",
          "text": [
            "<ipython-input-45-3d6f33735477>:9: FutureWarning: suggest_loguniform has been deprecated in v3.0.0. This feature will be removed in v6.0.0. See https://github.com/optuna/optuna/releases/tag/v3.0.0. Use suggest_float(..., log=True) instead.\n",
            "  'lambda_l1': trial.suggest_loguniform('lambda_l1', 1e-8, 10.0),\n",
            "<ipython-input-45-3d6f33735477>:10: FutureWarning: suggest_loguniform has been deprecated in v3.0.0. This feature will be removed in v6.0.0. See https://github.com/optuna/optuna/releases/tag/v3.0.0. Use suggest_float(..., log=True) instead.\n",
            "  'lambda_l2': trial.suggest_loguniform('lambda_l2', 1e-8, 10.0),\n",
            "<ipython-input-45-3d6f33735477>:12: FutureWarning: suggest_uniform has been deprecated in v3.0.0. This feature will be removed in v6.0.0. See https://github.com/optuna/optuna/releases/tag/v3.0.0. Use suggest_float instead.\n",
            "  'feature_fraction': trial.suggest_uniform('feature_fraction', 0.4, 1.0),\n",
            "<ipython-input-45-3d6f33735477>:13: FutureWarning: suggest_uniform has been deprecated in v3.0.0. This feature will be removed in v6.0.0. See https://github.com/optuna/optuna/releases/tag/v3.0.0. Use suggest_float instead.\n",
            "  'bagging_fraction': trial.suggest_uniform('bagging_fraction', 0.4, 1.0),\n",
            "<ipython-input-45-3d6f33735477>:16: FutureWarning: suggest_loguniform has been deprecated in v3.0.0. This feature will be removed in v6.0.0. See https://github.com/optuna/optuna/releases/tag/v3.0.0. Use suggest_float(..., log=True) instead.\n",
            "  'learning_rate': trial.suggest_loguniform('learning_rate', 0.01, 0.3),\n"
          ]
        },
        {
          "name": "stdout",
          "output_type": "stream",
          "text": [
            "Training until validation scores don't improve for 20 rounds\n",
            "Early stopping, best iteration is:\n",
            "[96]\tvalid_0's rmse: 4.94036e-05\n",
            "Training until validation scores don't improve for 20 rounds\n",
            "Early stopping, best iteration is:\n",
            "[87]\tvalid_0's rmse: 4.94261e-05\n",
            "Training until validation scores don't improve for 20 rounds\n",
            "Early stopping, best iteration is:\n",
            "[105]\tvalid_0's rmse: 4.94416e-05\n",
            "Training until validation scores don't improve for 20 rounds\n",
            "Early stopping, best iteration is:\n",
            "[95]\tvalid_0's rmse: 4.95598e-05\n",
            "Training until validation scores don't improve for 20 rounds\n"
          ]
        },
        {
          "name": "stderr",
          "output_type": "stream",
          "text": [
            "[I 2023-10-28 15:04:54,449] Trial 73 finished with value: 0.4400300362958166 and parameters: {'lambda_l1': 0.0024418994659199224, 'lambda_l2': 0.0073183697465265185, 'num_leaves': 44, 'feature_fraction': 0.7955524389663637, 'bagging_fraction': 0.9063882657897107, 'bagging_freq': 1, 'min_child_samples': 8, 'learning_rate': 0.06174259405536828, 'max_depth': 13}. Best is trial 73 with value: 0.4400300362958166.\n"
          ]
        },
        {
          "name": "stdout",
          "output_type": "stream",
          "text": [
            "Early stopping, best iteration is:\n",
            "[100]\tvalid_0's rmse: 5.59611e-05\n"
          ]
        },
        {
          "name": "stderr",
          "output_type": "stream",
          "text": [
            "<ipython-input-45-3d6f33735477>:9: FutureWarning: suggest_loguniform has been deprecated in v3.0.0. This feature will be removed in v6.0.0. See https://github.com/optuna/optuna/releases/tag/v3.0.0. Use suggest_float(..., log=True) instead.\n",
            "  'lambda_l1': trial.suggest_loguniform('lambda_l1', 1e-8, 10.0),\n",
            "<ipython-input-45-3d6f33735477>:10: FutureWarning: suggest_loguniform has been deprecated in v3.0.0. This feature will be removed in v6.0.0. See https://github.com/optuna/optuna/releases/tag/v3.0.0. Use suggest_float(..., log=True) instead.\n",
            "  'lambda_l2': trial.suggest_loguniform('lambda_l2', 1e-8, 10.0),\n",
            "<ipython-input-45-3d6f33735477>:12: FutureWarning: suggest_uniform has been deprecated in v3.0.0. This feature will be removed in v6.0.0. See https://github.com/optuna/optuna/releases/tag/v3.0.0. Use suggest_float instead.\n",
            "  'feature_fraction': trial.suggest_uniform('feature_fraction', 0.4, 1.0),\n",
            "<ipython-input-45-3d6f33735477>:13: FutureWarning: suggest_uniform has been deprecated in v3.0.0. This feature will be removed in v6.0.0. See https://github.com/optuna/optuna/releases/tag/v3.0.0. Use suggest_float instead.\n",
            "  'bagging_fraction': trial.suggest_uniform('bagging_fraction', 0.4, 1.0),\n",
            "<ipython-input-45-3d6f33735477>:16: FutureWarning: suggest_loguniform has been deprecated in v3.0.0. This feature will be removed in v6.0.0. See https://github.com/optuna/optuna/releases/tag/v3.0.0. Use suggest_float(..., log=True) instead.\n",
            "  'learning_rate': trial.suggest_loguniform('learning_rate', 0.01, 0.3),\n"
          ]
        },
        {
          "name": "stdout",
          "output_type": "stream",
          "text": [
            "Training until validation scores don't improve for 20 rounds\n",
            "Early stopping, best iteration is:\n",
            "[101]\tvalid_0's rmse: 4.93515e-05\n",
            "Training until validation scores don't improve for 20 rounds\n",
            "Early stopping, best iteration is:\n",
            "[93]\tvalid_0's rmse: 4.93767e-05\n",
            "Training until validation scores don't improve for 20 rounds\n",
            "Early stopping, best iteration is:\n",
            "[115]\tvalid_0's rmse: 4.93695e-05\n",
            "Training until validation scores don't improve for 20 rounds\n",
            "Early stopping, best iteration is:\n",
            "[65]\tvalid_0's rmse: 4.96034e-05\n",
            "Training until validation scores don't improve for 20 rounds\n"
          ]
        },
        {
          "name": "stderr",
          "output_type": "stream",
          "text": [
            "[I 2023-10-28 15:05:22,619] Trial 74 finished with value: 0.4423154982560594 and parameters: {'lambda_l1': 0.0022288848811728773, 'lambda_l2': 0.008261516263158625, 'num_leaves': 44, 'feature_fraction': 0.7927639858980564, 'bagging_fraction': 0.9176262844807349, 'bagging_freq': 1, 'min_child_samples': 8, 'learning_rate': 0.06196175339955313, 'max_depth': 12}. Best is trial 73 with value: 0.4400300362958166.\n"
          ]
        },
        {
          "name": "stdout",
          "output_type": "stream",
          "text": [
            "Early stopping, best iteration is:\n",
            "[98]\tvalid_0's rmse: 5.57836e-05\n"
          ]
        },
        {
          "name": "stderr",
          "output_type": "stream",
          "text": [
            "<ipython-input-45-3d6f33735477>:9: FutureWarning: suggest_loguniform has been deprecated in v3.0.0. This feature will be removed in v6.0.0. See https://github.com/optuna/optuna/releases/tag/v3.0.0. Use suggest_float(..., log=True) instead.\n",
            "  'lambda_l1': trial.suggest_loguniform('lambda_l1', 1e-8, 10.0),\n",
            "<ipython-input-45-3d6f33735477>:10: FutureWarning: suggest_loguniform has been deprecated in v3.0.0. This feature will be removed in v6.0.0. See https://github.com/optuna/optuna/releases/tag/v3.0.0. Use suggest_float(..., log=True) instead.\n",
            "  'lambda_l2': trial.suggest_loguniform('lambda_l2', 1e-8, 10.0),\n",
            "<ipython-input-45-3d6f33735477>:12: FutureWarning: suggest_uniform has been deprecated in v3.0.0. This feature will be removed in v6.0.0. See https://github.com/optuna/optuna/releases/tag/v3.0.0. Use suggest_float instead.\n",
            "  'feature_fraction': trial.suggest_uniform('feature_fraction', 0.4, 1.0),\n",
            "<ipython-input-45-3d6f33735477>:13: FutureWarning: suggest_uniform has been deprecated in v3.0.0. This feature will be removed in v6.0.0. See https://github.com/optuna/optuna/releases/tag/v3.0.0. Use suggest_float instead.\n",
            "  'bagging_fraction': trial.suggest_uniform('bagging_fraction', 0.4, 1.0),\n",
            "<ipython-input-45-3d6f33735477>:16: FutureWarning: suggest_loguniform has been deprecated in v3.0.0. This feature will be removed in v6.0.0. See https://github.com/optuna/optuna/releases/tag/v3.0.0. Use suggest_float(..., log=True) instead.\n",
            "  'learning_rate': trial.suggest_loguniform('learning_rate', 0.01, 0.3),\n"
          ]
        },
        {
          "name": "stdout",
          "output_type": "stream",
          "text": [
            "Training until validation scores don't improve for 20 rounds\n",
            "Early stopping, best iteration is:\n",
            "[89]\tvalid_0's rmse: 4.96703e-05\n",
            "Training until validation scores don't improve for 20 rounds\n",
            "Early stopping, best iteration is:\n",
            "[67]\tvalid_0's rmse: 4.98338e-05\n",
            "Training until validation scores don't improve for 20 rounds\n",
            "Early stopping, best iteration is:\n",
            "[89]\tvalid_0's rmse: 4.96359e-05\n",
            "Training until validation scores don't improve for 20 rounds\n",
            "Early stopping, best iteration is:\n",
            "[44]\tvalid_0's rmse: 4.9868e-05\n",
            "Training until validation scores don't improve for 20 rounds\n"
          ]
        },
        {
          "name": "stderr",
          "output_type": "stream",
          "text": [
            "[I 2023-10-28 15:05:42,881] Trial 75 finished with value: 0.444872327817608 and parameters: {'lambda_l1': 0.00021611130513956526, 'lambda_l2': 0.002745027547555247, 'num_leaves': 48, 'feature_fraction': 0.6976488315798504, 'bagging_fraction': 0.8728376474545033, 'bagging_freq': 1, 'min_child_samples': 16, 'learning_rate': 0.07707850094724118, 'max_depth': 13}. Best is trial 73 with value: 0.4400300362958166.\n"
          ]
        },
        {
          "name": "stdout",
          "output_type": "stream",
          "text": [
            "Early stopping, best iteration is:\n",
            "[119]\tvalid_0's rmse: 5.56542e-05\n"
          ]
        },
        {
          "name": "stderr",
          "output_type": "stream",
          "text": [
            "<ipython-input-45-3d6f33735477>:9: FutureWarning: suggest_loguniform has been deprecated in v3.0.0. This feature will be removed in v6.0.0. See https://github.com/optuna/optuna/releases/tag/v3.0.0. Use suggest_float(..., log=True) instead.\n",
            "  'lambda_l1': trial.suggest_loguniform('lambda_l1', 1e-8, 10.0),\n",
            "<ipython-input-45-3d6f33735477>:10: FutureWarning: suggest_loguniform has been deprecated in v3.0.0. This feature will be removed in v6.0.0. See https://github.com/optuna/optuna/releases/tag/v3.0.0. Use suggest_float(..., log=True) instead.\n",
            "  'lambda_l2': trial.suggest_loguniform('lambda_l2', 1e-8, 10.0),\n",
            "<ipython-input-45-3d6f33735477>:12: FutureWarning: suggest_uniform has been deprecated in v3.0.0. This feature will be removed in v6.0.0. See https://github.com/optuna/optuna/releases/tag/v3.0.0. Use suggest_float instead.\n",
            "  'feature_fraction': trial.suggest_uniform('feature_fraction', 0.4, 1.0),\n",
            "<ipython-input-45-3d6f33735477>:13: FutureWarning: suggest_uniform has been deprecated in v3.0.0. This feature will be removed in v6.0.0. See https://github.com/optuna/optuna/releases/tag/v3.0.0. Use suggest_float instead.\n",
            "  'bagging_fraction': trial.suggest_uniform('bagging_fraction', 0.4, 1.0),\n",
            "<ipython-input-45-3d6f33735477>:16: FutureWarning: suggest_loguniform has been deprecated in v3.0.0. This feature will be removed in v6.0.0. See https://github.com/optuna/optuna/releases/tag/v3.0.0. Use suggest_float(..., log=True) instead.\n",
            "  'learning_rate': trial.suggest_loguniform('learning_rate', 0.01, 0.3),\n"
          ]
        },
        {
          "name": "stdout",
          "output_type": "stream",
          "text": [
            "Training until validation scores don't improve for 20 rounds\n",
            "Early stopping, best iteration is:\n",
            "[44]\tvalid_0's rmse: 4.97701e-05\n",
            "Training until validation scores don't improve for 20 rounds\n",
            "Early stopping, best iteration is:\n",
            "[49]\tvalid_0's rmse: 4.96837e-05\n",
            "Training until validation scores don't improve for 20 rounds\n",
            "Early stopping, best iteration is:\n",
            "[59]\tvalid_0's rmse: 4.9665e-05\n",
            "Training until validation scores don't improve for 20 rounds\n",
            "Early stopping, best iteration is:\n",
            "[44]\tvalid_0's rmse: 4.97774e-05\n",
            "Training until validation scores don't improve for 20 rounds\n"
          ]
        },
        {
          "name": "stderr",
          "output_type": "stream",
          "text": [
            "[I 2023-10-28 15:06:01,212] Trial 76 finished with value: 0.44361905511919797 and parameters: {'lambda_l1': 0.0008878349770280441, 'lambda_l2': 0.004673574199354334, 'num_leaves': 52, 'feature_fraction': 0.7487934776970818, 'bagging_fraction': 0.9552954922708513, 'bagging_freq': 2, 'min_child_samples': 27, 'learning_rate': 0.08233659895995227, 'max_depth': 10}. Best is trial 73 with value: 0.4400300362958166.\n"
          ]
        },
        {
          "name": "stdout",
          "output_type": "stream",
          "text": [
            "Early stopping, best iteration is:\n",
            "[61]\tvalid_0's rmse: 5.56723e-05\n"
          ]
        },
        {
          "name": "stderr",
          "output_type": "stream",
          "text": [
            "<ipython-input-45-3d6f33735477>:9: FutureWarning: suggest_loguniform has been deprecated in v3.0.0. This feature will be removed in v6.0.0. See https://github.com/optuna/optuna/releases/tag/v3.0.0. Use suggest_float(..., log=True) instead.\n",
            "  'lambda_l1': trial.suggest_loguniform('lambda_l1', 1e-8, 10.0),\n",
            "<ipython-input-45-3d6f33735477>:10: FutureWarning: suggest_loguniform has been deprecated in v3.0.0. This feature will be removed in v6.0.0. See https://github.com/optuna/optuna/releases/tag/v3.0.0. Use suggest_float(..., log=True) instead.\n",
            "  'lambda_l2': trial.suggest_loguniform('lambda_l2', 1e-8, 10.0),\n",
            "<ipython-input-45-3d6f33735477>:12: FutureWarning: suggest_uniform has been deprecated in v3.0.0. This feature will be removed in v6.0.0. See https://github.com/optuna/optuna/releases/tag/v3.0.0. Use suggest_float instead.\n",
            "  'feature_fraction': trial.suggest_uniform('feature_fraction', 0.4, 1.0),\n",
            "<ipython-input-45-3d6f33735477>:13: FutureWarning: suggest_uniform has been deprecated in v3.0.0. This feature will be removed in v6.0.0. See https://github.com/optuna/optuna/releases/tag/v3.0.0. Use suggest_float instead.\n",
            "  'bagging_fraction': trial.suggest_uniform('bagging_fraction', 0.4, 1.0),\n",
            "<ipython-input-45-3d6f33735477>:16: FutureWarning: suggest_loguniform has been deprecated in v3.0.0. This feature will be removed in v6.0.0. See https://github.com/optuna/optuna/releases/tag/v3.0.0. Use suggest_float(..., log=True) instead.\n",
            "  'learning_rate': trial.suggest_loguniform('learning_rate', 0.01, 0.3),\n"
          ]
        },
        {
          "name": "stdout",
          "output_type": "stream",
          "text": [
            "Training until validation scores don't improve for 20 rounds\n",
            "Early stopping, best iteration is:\n",
            "[194]\tvalid_0's rmse: 4.95425e-05\n",
            "Training until validation scores don't improve for 20 rounds\n",
            "Early stopping, best iteration is:\n",
            "[248]\tvalid_0's rmse: 4.97578e-05\n",
            "Training until validation scores don't improve for 20 rounds\n",
            "Early stopping, best iteration is:\n",
            "[426]\tvalid_0's rmse: 4.96844e-05\n",
            "Training until validation scores don't improve for 20 rounds\n",
            "Early stopping, best iteration is:\n",
            "[250]\tvalid_0's rmse: 4.99413e-05\n",
            "Training until validation scores don't improve for 20 rounds\n"
          ]
        },
        {
          "name": "stderr",
          "output_type": "stream",
          "text": [
            "[I 2023-10-28 15:06:20,610] Trial 77 finished with value: 0.4633334762046655 and parameters: {'lambda_l1': 0.021193809306668875, 'lambda_l2': 0.0014571801082816388, 'num_leaves': 78, 'feature_fraction': 0.8071535002646855, 'bagging_fraction': 0.887987343268498, 'bagging_freq': 1, 'min_child_samples': 33, 'learning_rate': 0.06770416406749687, 'max_depth': 11}. Best is trial 73 with value: 0.4400300362958166.\n"
          ]
        },
        {
          "name": "stdout",
          "output_type": "stream",
          "text": [
            "Early stopping, best iteration is:\n",
            "[196]\tvalid_0's rmse: 5.63691e-05\n"
          ]
        },
        {
          "name": "stderr",
          "output_type": "stream",
          "text": [
            "<ipython-input-45-3d6f33735477>:9: FutureWarning: suggest_loguniform has been deprecated in v3.0.0. This feature will be removed in v6.0.0. See https://github.com/optuna/optuna/releases/tag/v3.0.0. Use suggest_float(..., log=True) instead.\n",
            "  'lambda_l1': trial.suggest_loguniform('lambda_l1', 1e-8, 10.0),\n",
            "<ipython-input-45-3d6f33735477>:10: FutureWarning: suggest_loguniform has been deprecated in v3.0.0. This feature will be removed in v6.0.0. See https://github.com/optuna/optuna/releases/tag/v3.0.0. Use suggest_float(..., log=True) instead.\n",
            "  'lambda_l2': trial.suggest_loguniform('lambda_l2', 1e-8, 10.0),\n",
            "<ipython-input-45-3d6f33735477>:12: FutureWarning: suggest_uniform has been deprecated in v3.0.0. This feature will be removed in v6.0.0. See https://github.com/optuna/optuna/releases/tag/v3.0.0. Use suggest_float instead.\n",
            "  'feature_fraction': trial.suggest_uniform('feature_fraction', 0.4, 1.0),\n",
            "<ipython-input-45-3d6f33735477>:13: FutureWarning: suggest_uniform has been deprecated in v3.0.0. This feature will be removed in v6.0.0. See https://github.com/optuna/optuna/releases/tag/v3.0.0. Use suggest_float instead.\n",
            "  'bagging_fraction': trial.suggest_uniform('bagging_fraction', 0.4, 1.0),\n",
            "<ipython-input-45-3d6f33735477>:16: FutureWarning: suggest_loguniform has been deprecated in v3.0.0. This feature will be removed in v6.0.0. See https://github.com/optuna/optuna/releases/tag/v3.0.0. Use suggest_float(..., log=True) instead.\n",
            "  'learning_rate': trial.suggest_loguniform('learning_rate', 0.01, 0.3),\n"
          ]
        },
        {
          "name": "stdout",
          "output_type": "stream",
          "text": [
            "Training until validation scores don't improve for 20 rounds\n",
            "Early stopping, best iteration is:\n",
            "[199]\tvalid_0's rmse: 4.93452e-05\n",
            "Training until validation scores don't improve for 20 rounds\n",
            "Early stopping, best iteration is:\n",
            "[161]\tvalid_0's rmse: 4.95037e-05\n",
            "Training until validation scores don't improve for 20 rounds\n",
            "Early stopping, best iteration is:\n",
            "[214]\tvalid_0's rmse: 4.93823e-05\n",
            "Training until validation scores don't improve for 20 rounds\n",
            "Early stopping, best iteration is:\n",
            "[125]\tvalid_0's rmse: 4.98216e-05\n",
            "Training until validation scores don't improve for 20 rounds\n",
            "Early stopping, best iteration is:\n",
            "[262]\tvalid_0's rmse: 5.57832e-05\n"
          ]
        },
        {
          "name": "stderr",
          "output_type": "stream",
          "text": [
            "[I 2023-10-28 15:06:54,957] Trial 78 finished with value: 0.4463958105080093 and parameters: {'lambda_l1': 0.007043568485924707, 'lambda_l2': 0.022235163040677144, 'num_leaves': 76, 'feature_fraction': 0.6774170547881718, 'bagging_fraction': 0.9860982918500399, 'bagging_freq': 2, 'min_child_samples': 18, 'learning_rate': 0.0424460284537634, 'max_depth': 13}. Best is trial 73 with value: 0.4400300362958166.\n",
            "<ipython-input-45-3d6f33735477>:9: FutureWarning: suggest_loguniform has been deprecated in v3.0.0. This feature will be removed in v6.0.0. See https://github.com/optuna/optuna/releases/tag/v3.0.0. Use suggest_float(..., log=True) instead.\n",
            "  'lambda_l1': trial.suggest_loguniform('lambda_l1', 1e-8, 10.0),\n",
            "<ipython-input-45-3d6f33735477>:10: FutureWarning: suggest_loguniform has been deprecated in v3.0.0. This feature will be removed in v6.0.0. See https://github.com/optuna/optuna/releases/tag/v3.0.0. Use suggest_float(..., log=True) instead.\n",
            "  'lambda_l2': trial.suggest_loguniform('lambda_l2', 1e-8, 10.0),\n",
            "<ipython-input-45-3d6f33735477>:12: FutureWarning: suggest_uniform has been deprecated in v3.0.0. This feature will be removed in v6.0.0. See https://github.com/optuna/optuna/releases/tag/v3.0.0. Use suggest_float instead.\n",
            "  'feature_fraction': trial.suggest_uniform('feature_fraction', 0.4, 1.0),\n",
            "<ipython-input-45-3d6f33735477>:13: FutureWarning: suggest_uniform has been deprecated in v3.0.0. This feature will be removed in v6.0.0. See https://github.com/optuna/optuna/releases/tag/v3.0.0. Use suggest_float instead.\n",
            "  'bagging_fraction': trial.suggest_uniform('bagging_fraction', 0.4, 1.0),\n",
            "<ipython-input-45-3d6f33735477>:16: FutureWarning: suggest_loguniform has been deprecated in v3.0.0. This feature will be removed in v6.0.0. See https://github.com/optuna/optuna/releases/tag/v3.0.0. Use suggest_float(..., log=True) instead.\n",
            "  'learning_rate': trial.suggest_loguniform('learning_rate', 0.01, 0.3),\n"
          ]
        },
        {
          "name": "stdout",
          "output_type": "stream",
          "text": [
            "Training until validation scores don't improve for 20 rounds\n",
            "Early stopping, best iteration is:\n",
            "[83]\tvalid_0's rmse: 4.94137e-05\n",
            "Training until validation scores don't improve for 20 rounds\n",
            "Early stopping, best iteration is:\n",
            "[76]\tvalid_0's rmse: 4.96102e-05\n",
            "Training until validation scores don't improve for 20 rounds\n",
            "Early stopping, best iteration is:\n",
            "[107]\tvalid_0's rmse: 4.94639e-05\n",
            "Training until validation scores don't improve for 20 rounds\n",
            "Early stopping, best iteration is:\n",
            "[61]\tvalid_0's rmse: 4.97462e-05\n",
            "Training until validation scores don't improve for 20 rounds\n"
          ]
        },
        {
          "name": "stderr",
          "output_type": "stream",
          "text": [
            "[I 2023-10-28 15:07:18,752] Trial 79 finished with value: 0.4438086281239661 and parameters: {'lambda_l1': 0.00032328023263979383, 'lambda_l2': 0.0064148345375227254, 'num_leaves': 39, 'feature_fraction': 0.7433636466058713, 'bagging_fraction': 0.9271649806639157, 'bagging_freq': 3, 'min_child_samples': 8, 'learning_rate': 0.05951342839218001, 'max_depth': 15}. Best is trial 73 with value: 0.4400300362958166.\n"
          ]
        },
        {
          "name": "stdout",
          "output_type": "stream",
          "text": [
            "Early stopping, best iteration is:\n",
            "[150]\tvalid_0's rmse: 5.52692e-05\n"
          ]
        },
        {
          "name": "stderr",
          "output_type": "stream",
          "text": [
            "<ipython-input-45-3d6f33735477>:9: FutureWarning: suggest_loguniform has been deprecated in v3.0.0. This feature will be removed in v6.0.0. See https://github.com/optuna/optuna/releases/tag/v3.0.0. Use suggest_float(..., log=True) instead.\n",
            "  'lambda_l1': trial.suggest_loguniform('lambda_l1', 1e-8, 10.0),\n",
            "<ipython-input-45-3d6f33735477>:10: FutureWarning: suggest_loguniform has been deprecated in v3.0.0. This feature will be removed in v6.0.0. See https://github.com/optuna/optuna/releases/tag/v3.0.0. Use suggest_float(..., log=True) instead.\n",
            "  'lambda_l2': trial.suggest_loguniform('lambda_l2', 1e-8, 10.0),\n",
            "<ipython-input-45-3d6f33735477>:12: FutureWarning: suggest_uniform has been deprecated in v3.0.0. This feature will be removed in v6.0.0. See https://github.com/optuna/optuna/releases/tag/v3.0.0. Use suggest_float instead.\n",
            "  'feature_fraction': trial.suggest_uniform('feature_fraction', 0.4, 1.0),\n",
            "<ipython-input-45-3d6f33735477>:13: FutureWarning: suggest_uniform has been deprecated in v3.0.0. This feature will be removed in v6.0.0. See https://github.com/optuna/optuna/releases/tag/v3.0.0. Use suggest_float instead.\n",
            "  'bagging_fraction': trial.suggest_uniform('bagging_fraction', 0.4, 1.0),\n",
            "<ipython-input-45-3d6f33735477>:16: FutureWarning: suggest_loguniform has been deprecated in v3.0.0. This feature will be removed in v6.0.0. See https://github.com/optuna/optuna/releases/tag/v3.0.0. Use suggest_float(..., log=True) instead.\n",
            "  'learning_rate': trial.suggest_loguniform('learning_rate', 0.01, 0.3),\n"
          ]
        },
        {
          "name": "stdout",
          "output_type": "stream",
          "text": [
            "Training until validation scores don't improve for 20 rounds\n",
            "Early stopping, best iteration is:\n",
            "[58]\tvalid_0's rmse: 4.96392e-05\n",
            "Training until validation scores don't improve for 20 rounds\n",
            "Early stopping, best iteration is:\n",
            "[65]\tvalid_0's rmse: 4.974e-05\n",
            "Training until validation scores don't improve for 20 rounds\n",
            "Early stopping, best iteration is:\n",
            "[82]\tvalid_0's rmse: 4.96006e-05\n",
            "Training until validation scores don't improve for 20 rounds\n",
            "Early stopping, best iteration is:\n",
            "[54]\tvalid_0's rmse: 4.98027e-05\n",
            "Training until validation scores don't improve for 20 rounds\n"
          ]
        },
        {
          "name": "stderr",
          "output_type": "stream",
          "text": [
            "[I 2023-10-28 15:07:43,701] Trial 80 finished with value: 0.44487654181130154 and parameters: {'lambda_l1': 7.181085424358394e-05, 'lambda_l2': 0.018699836271208116, 'num_leaves': 71, 'feature_fraction': 0.7217543109646909, 'bagging_fraction': 0.9599468912679366, 'bagging_freq': 1, 'min_child_samples': 22, 'learning_rate': 0.05315262312552655, 'max_depth': 12}. Best is trial 73 with value: 0.4400300362958166.\n"
          ]
        },
        {
          "name": "stdout",
          "output_type": "stream",
          "text": [
            "Early stopping, best iteration is:\n",
            "[87]\tvalid_0's rmse: 5.55572e-05\n"
          ]
        },
        {
          "name": "stderr",
          "output_type": "stream",
          "text": [
            "<ipython-input-45-3d6f33735477>:9: FutureWarning: suggest_loguniform has been deprecated in v3.0.0. This feature will be removed in v6.0.0. See https://github.com/optuna/optuna/releases/tag/v3.0.0. Use suggest_float(..., log=True) instead.\n",
            "  'lambda_l1': trial.suggest_loguniform('lambda_l1', 1e-8, 10.0),\n",
            "<ipython-input-45-3d6f33735477>:10: FutureWarning: suggest_loguniform has been deprecated in v3.0.0. This feature will be removed in v6.0.0. See https://github.com/optuna/optuna/releases/tag/v3.0.0. Use suggest_float(..., log=True) instead.\n",
            "  'lambda_l2': trial.suggest_loguniform('lambda_l2', 1e-8, 10.0),\n",
            "<ipython-input-45-3d6f33735477>:12: FutureWarning: suggest_uniform has been deprecated in v3.0.0. This feature will be removed in v6.0.0. See https://github.com/optuna/optuna/releases/tag/v3.0.0. Use suggest_float instead.\n",
            "  'feature_fraction': trial.suggest_uniform('feature_fraction', 0.4, 1.0),\n",
            "<ipython-input-45-3d6f33735477>:13: FutureWarning: suggest_uniform has been deprecated in v3.0.0. This feature will be removed in v6.0.0. See https://github.com/optuna/optuna/releases/tag/v3.0.0. Use suggest_float instead.\n",
            "  'bagging_fraction': trial.suggest_uniform('bagging_fraction', 0.4, 1.0),\n",
            "<ipython-input-45-3d6f33735477>:16: FutureWarning: suggest_loguniform has been deprecated in v3.0.0. This feature will be removed in v6.0.0. See https://github.com/optuna/optuna/releases/tag/v3.0.0. Use suggest_float(..., log=True) instead.\n",
            "  'learning_rate': trial.suggest_loguniform('learning_rate', 0.01, 0.3),\n"
          ]
        },
        {
          "name": "stdout",
          "output_type": "stream",
          "text": [
            "Training until validation scores don't improve for 20 rounds\n",
            "Early stopping, best iteration is:\n",
            "[121]\tvalid_0's rmse: 4.94182e-05\n",
            "Training until validation scores don't improve for 20 rounds\n",
            "Early stopping, best iteration is:\n",
            "[110]\tvalid_0's rmse: 4.94753e-05\n",
            "Training until validation scores don't improve for 20 rounds\n",
            "Early stopping, best iteration is:\n",
            "[167]\tvalid_0's rmse: 4.93612e-05\n",
            "Training until validation scores don't improve for 20 rounds\n",
            "Early stopping, best iteration is:\n",
            "[145]\tvalid_0's rmse: 4.9556e-05\n",
            "Training until validation scores don't improve for 20 rounds\n"
          ]
        },
        {
          "name": "stderr",
          "output_type": "stream",
          "text": [
            "[I 2023-10-28 15:08:10,983] Trial 81 finished with value: 0.4383713439335469 and parameters: {'lambda_l1': 0.002755343270655713, 'lambda_l2': 0.0038303114560151214, 'num_leaves': 44, 'feature_fraction': 0.7873121968607342, 'bagging_fraction': 0.9092494325697033, 'bagging_freq': 4, 'min_child_samples': 46, 'learning_rate': 0.04883905522011195, 'max_depth': 14}. Best is trial 81 with value: 0.4383713439335469.\n"
          ]
        },
        {
          "name": "stdout",
          "output_type": "stream",
          "text": [
            "Early stopping, best iteration is:\n",
            "[143]\tvalid_0's rmse: 5.56472e-05\n"
          ]
        },
        {
          "name": "stderr",
          "output_type": "stream",
          "text": [
            "<ipython-input-45-3d6f33735477>:9: FutureWarning: suggest_loguniform has been deprecated in v3.0.0. This feature will be removed in v6.0.0. See https://github.com/optuna/optuna/releases/tag/v3.0.0. Use suggest_float(..., log=True) instead.\n",
            "  'lambda_l1': trial.suggest_loguniform('lambda_l1', 1e-8, 10.0),\n",
            "<ipython-input-45-3d6f33735477>:10: FutureWarning: suggest_loguniform has been deprecated in v3.0.0. This feature will be removed in v6.0.0. See https://github.com/optuna/optuna/releases/tag/v3.0.0. Use suggest_float(..., log=True) instead.\n",
            "  'lambda_l2': trial.suggest_loguniform('lambda_l2', 1e-8, 10.0),\n",
            "<ipython-input-45-3d6f33735477>:12: FutureWarning: suggest_uniform has been deprecated in v3.0.0. This feature will be removed in v6.0.0. See https://github.com/optuna/optuna/releases/tag/v3.0.0. Use suggest_float instead.\n",
            "  'feature_fraction': trial.suggest_uniform('feature_fraction', 0.4, 1.0),\n",
            "<ipython-input-45-3d6f33735477>:13: FutureWarning: suggest_uniform has been deprecated in v3.0.0. This feature will be removed in v6.0.0. See https://github.com/optuna/optuna/releases/tag/v3.0.0. Use suggest_float instead.\n",
            "  'bagging_fraction': trial.suggest_uniform('bagging_fraction', 0.4, 1.0),\n",
            "<ipython-input-45-3d6f33735477>:16: FutureWarning: suggest_loguniform has been deprecated in v3.0.0. This feature will be removed in v6.0.0. See https://github.com/optuna/optuna/releases/tag/v3.0.0. Use suggest_float(..., log=True) instead.\n",
            "  'learning_rate': trial.suggest_loguniform('learning_rate', 0.01, 0.3),\n"
          ]
        },
        {
          "name": "stdout",
          "output_type": "stream",
          "text": [
            "Training until validation scores don't improve for 20 rounds\n",
            "Early stopping, best iteration is:\n",
            "[107]\tvalid_0's rmse: 4.94193e-05\n",
            "Training until validation scores don't improve for 20 rounds\n",
            "Early stopping, best iteration is:\n",
            "[109]\tvalid_0's rmse: 4.93863e-05\n",
            "Training until validation scores don't improve for 20 rounds\n",
            "Early stopping, best iteration is:\n",
            "[112]\tvalid_0's rmse: 4.94597e-05\n",
            "Training until validation scores don't improve for 20 rounds\n",
            "Early stopping, best iteration is:\n",
            "[167]\tvalid_0's rmse: 4.95679e-05\n",
            "Training until validation scores don't improve for 20 rounds\n"
          ]
        },
        {
          "name": "stderr",
          "output_type": "stream",
          "text": [
            "[I 2023-10-28 15:08:39,027] Trial 82 finished with value: 0.43814293824636835 and parameters: {'lambda_l1': 0.0028658765175736942, 'lambda_l2': 0.002747959864559728, 'num_leaves': 43, 'feature_fraction': 0.7684089238617392, 'bagging_fraction': 0.9414333722737781, 'bagging_freq': 4, 'min_child_samples': 42, 'learning_rate': 0.06145243677321636, 'max_depth': 13}. Best is trial 82 with value: 0.43814293824636835.\n"
          ]
        },
        {
          "name": "stdout",
          "output_type": "stream",
          "text": [
            "Early stopping, best iteration is:\n",
            "[142]\tvalid_0's rmse: 5.55022e-05\n"
          ]
        },
        {
          "name": "stderr",
          "output_type": "stream",
          "text": [
            "<ipython-input-45-3d6f33735477>:9: FutureWarning: suggest_loguniform has been deprecated in v3.0.0. This feature will be removed in v6.0.0. See https://github.com/optuna/optuna/releases/tag/v3.0.0. Use suggest_float(..., log=True) instead.\n",
            "  'lambda_l1': trial.suggest_loguniform('lambda_l1', 1e-8, 10.0),\n",
            "<ipython-input-45-3d6f33735477>:10: FutureWarning: suggest_loguniform has been deprecated in v3.0.0. This feature will be removed in v6.0.0. See https://github.com/optuna/optuna/releases/tag/v3.0.0. Use suggest_float(..., log=True) instead.\n",
            "  'lambda_l2': trial.suggest_loguniform('lambda_l2', 1e-8, 10.0),\n",
            "<ipython-input-45-3d6f33735477>:12: FutureWarning: suggest_uniform has been deprecated in v3.0.0. This feature will be removed in v6.0.0. See https://github.com/optuna/optuna/releases/tag/v3.0.0. Use suggest_float instead.\n",
            "  'feature_fraction': trial.suggest_uniform('feature_fraction', 0.4, 1.0),\n",
            "<ipython-input-45-3d6f33735477>:13: FutureWarning: suggest_uniform has been deprecated in v3.0.0. This feature will be removed in v6.0.0. See https://github.com/optuna/optuna/releases/tag/v3.0.0. Use suggest_float instead.\n",
            "  'bagging_fraction': trial.suggest_uniform('bagging_fraction', 0.4, 1.0),\n",
            "<ipython-input-45-3d6f33735477>:16: FutureWarning: suggest_loguniform has been deprecated in v3.0.0. This feature will be removed in v6.0.0. See https://github.com/optuna/optuna/releases/tag/v3.0.0. Use suggest_float(..., log=True) instead.\n",
            "  'learning_rate': trial.suggest_loguniform('learning_rate', 0.01, 0.3),\n"
          ]
        },
        {
          "name": "stdout",
          "output_type": "stream",
          "text": [
            "Training until validation scores don't improve for 20 rounds\n",
            "Early stopping, best iteration is:\n",
            "[84]\tvalid_0's rmse: 4.95757e-05\n",
            "Training until validation scores don't improve for 20 rounds\n",
            "Early stopping, best iteration is:\n",
            "[87]\tvalid_0's rmse: 4.95319e-05\n",
            "Training until validation scores don't improve for 20 rounds\n",
            "Early stopping, best iteration is:\n",
            "[95]\tvalid_0's rmse: 4.93916e-05\n",
            "Training until validation scores don't improve for 20 rounds\n",
            "Early stopping, best iteration is:\n",
            "[111]\tvalid_0's rmse: 4.95378e-05\n",
            "Training until validation scores don't improve for 20 rounds\n"
          ]
        },
        {
          "name": "stderr",
          "output_type": "stream",
          "text": [
            "[I 2023-10-28 15:08:58,541] Trial 83 finished with value: 0.4401084805041281 and parameters: {'lambda_l1': 0.0028883997612497354, 'lambda_l2': 0.0027069979000895555, 'num_leaves': 48, 'feature_fraction': 0.7784418409592629, 'bagging_fraction': 0.8640525517240426, 'bagging_freq': 4, 'min_child_samples': 43, 'learning_rate': 0.06787391670188735, 'max_depth': 14}. Best is trial 82 with value: 0.43814293824636835.\n"
          ]
        },
        {
          "name": "stdout",
          "output_type": "stream",
          "text": [
            "Early stopping, best iteration is:\n",
            "[67]\tvalid_0's rmse: 5.59473e-05\n"
          ]
        },
        {
          "name": "stderr",
          "output_type": "stream",
          "text": [
            "<ipython-input-45-3d6f33735477>:9: FutureWarning: suggest_loguniform has been deprecated in v3.0.0. This feature will be removed in v6.0.0. See https://github.com/optuna/optuna/releases/tag/v3.0.0. Use suggest_float(..., log=True) instead.\n",
            "  'lambda_l1': trial.suggest_loguniform('lambda_l1', 1e-8, 10.0),\n",
            "<ipython-input-45-3d6f33735477>:10: FutureWarning: suggest_loguniform has been deprecated in v3.0.0. This feature will be removed in v6.0.0. See https://github.com/optuna/optuna/releases/tag/v3.0.0. Use suggest_float(..., log=True) instead.\n",
            "  'lambda_l2': trial.suggest_loguniform('lambda_l2', 1e-8, 10.0),\n",
            "<ipython-input-45-3d6f33735477>:12: FutureWarning: suggest_uniform has been deprecated in v3.0.0. This feature will be removed in v6.0.0. See https://github.com/optuna/optuna/releases/tag/v3.0.0. Use suggest_float instead.\n",
            "  'feature_fraction': trial.suggest_uniform('feature_fraction', 0.4, 1.0),\n",
            "<ipython-input-45-3d6f33735477>:13: FutureWarning: suggest_uniform has been deprecated in v3.0.0. This feature will be removed in v6.0.0. See https://github.com/optuna/optuna/releases/tag/v3.0.0. Use suggest_float instead.\n",
            "  'bagging_fraction': trial.suggest_uniform('bagging_fraction', 0.4, 1.0),\n",
            "<ipython-input-45-3d6f33735477>:16: FutureWarning: suggest_loguniform has been deprecated in v3.0.0. This feature will be removed in v6.0.0. See https://github.com/optuna/optuna/releases/tag/v3.0.0. Use suggest_float(..., log=True) instead.\n",
            "  'learning_rate': trial.suggest_loguniform('learning_rate', 0.01, 0.3),\n"
          ]
        },
        {
          "name": "stdout",
          "output_type": "stream",
          "text": [
            "Training until validation scores don't improve for 20 rounds\n",
            "Early stopping, best iteration is:\n",
            "[64]\tvalid_0's rmse: 4.94198e-05\n",
            "Training until validation scores don't improve for 20 rounds\n",
            "Early stopping, best iteration is:\n",
            "[96]\tvalid_0's rmse: 4.94405e-05\n",
            "Training until validation scores don't improve for 20 rounds\n",
            "Early stopping, best iteration is:\n",
            "[100]\tvalid_0's rmse: 4.93961e-05\n",
            "Training until validation scores don't improve for 20 rounds\n",
            "Early stopping, best iteration is:\n",
            "[83]\tvalid_0's rmse: 4.97181e-05\n",
            "Training until validation scores don't improve for 20 rounds\n"
          ]
        },
        {
          "name": "stderr",
          "output_type": "stream",
          "text": [
            "[I 2023-10-28 15:09:20,391] Trial 84 finished with value: 0.44034760448716465 and parameters: {'lambda_l1': 0.0028460204916346088, 'lambda_l2': 0.00242249987368473, 'num_leaves': 49, 'feature_fraction': 0.7763087392146892, 'bagging_fraction': 0.8604091869527494, 'bagging_freq': 4, 'min_child_samples': 42, 'learning_rate': 0.06776242365253403, 'max_depth': 15}. Best is trial 82 with value: 0.43814293824636835.\n"
          ]
        },
        {
          "name": "stdout",
          "output_type": "stream",
          "text": [
            "Early stopping, best iteration is:\n",
            "[115]\tvalid_0's rmse: 5.56529e-05\n"
          ]
        },
        {
          "name": "stderr",
          "output_type": "stream",
          "text": [
            "<ipython-input-45-3d6f33735477>:9: FutureWarning: suggest_loguniform has been deprecated in v3.0.0. This feature will be removed in v6.0.0. See https://github.com/optuna/optuna/releases/tag/v3.0.0. Use suggest_float(..., log=True) instead.\n",
            "  'lambda_l1': trial.suggest_loguniform('lambda_l1', 1e-8, 10.0),\n",
            "<ipython-input-45-3d6f33735477>:10: FutureWarning: suggest_loguniform has been deprecated in v3.0.0. This feature will be removed in v6.0.0. See https://github.com/optuna/optuna/releases/tag/v3.0.0. Use suggest_float(..., log=True) instead.\n",
            "  'lambda_l2': trial.suggest_loguniform('lambda_l2', 1e-8, 10.0),\n",
            "<ipython-input-45-3d6f33735477>:12: FutureWarning: suggest_uniform has been deprecated in v3.0.0. This feature will be removed in v6.0.0. See https://github.com/optuna/optuna/releases/tag/v3.0.0. Use suggest_float instead.\n",
            "  'feature_fraction': trial.suggest_uniform('feature_fraction', 0.4, 1.0),\n",
            "<ipython-input-45-3d6f33735477>:13: FutureWarning: suggest_uniform has been deprecated in v3.0.0. This feature will be removed in v6.0.0. See https://github.com/optuna/optuna/releases/tag/v3.0.0. Use suggest_float instead.\n",
            "  'bagging_fraction': trial.suggest_uniform('bagging_fraction', 0.4, 1.0),\n",
            "<ipython-input-45-3d6f33735477>:16: FutureWarning: suggest_loguniform has been deprecated in v3.0.0. This feature will be removed in v6.0.0. See https://github.com/optuna/optuna/releases/tag/v3.0.0. Use suggest_float(..., log=True) instead.\n",
            "  'learning_rate': trial.suggest_loguniform('learning_rate', 0.01, 0.3),\n"
          ]
        },
        {
          "name": "stdout",
          "output_type": "stream",
          "text": [
            "Training until validation scores don't improve for 20 rounds\n",
            "Early stopping, best iteration is:\n",
            "[100]\tvalid_0's rmse: 4.94182e-05\n",
            "Training until validation scores don't improve for 20 rounds\n",
            "Early stopping, best iteration is:\n",
            "[79]\tvalid_0's rmse: 4.95196e-05\n",
            "Training until validation scores don't improve for 20 rounds\n",
            "Early stopping, best iteration is:\n",
            "[92]\tvalid_0's rmse: 4.95714e-05\n",
            "Training until validation scores don't improve for 20 rounds\n",
            "Early stopping, best iteration is:\n",
            "[112]\tvalid_0's rmse: 4.9584e-05\n",
            "Training until validation scores don't improve for 20 rounds\n"
          ]
        },
        {
          "name": "stderr",
          "output_type": "stream",
          "text": [
            "[I 2023-10-28 15:09:42,383] Trial 85 finished with value: 0.4391613345210521 and parameters: {'lambda_l1': 0.0030409011519397303, 'lambda_l2': 0.0009873912314930153, 'num_leaves': 51, 'feature_fraction': 0.77365057154796, 'bagging_fraction': 0.8603723796181536, 'bagging_freq': 4, 'min_child_samples': 43, 'learning_rate': 0.0709359132601018, 'max_depth': 16}. Best is trial 82 with value: 0.43814293824636835.\n"
          ]
        },
        {
          "name": "stdout",
          "output_type": "stream",
          "text": [
            "Early stopping, best iteration is:\n",
            "[93]\tvalid_0's rmse: 5.58418e-05\n"
          ]
        },
        {
          "name": "stderr",
          "output_type": "stream",
          "text": [
            "<ipython-input-45-3d6f33735477>:9: FutureWarning: suggest_loguniform has been deprecated in v3.0.0. This feature will be removed in v6.0.0. See https://github.com/optuna/optuna/releases/tag/v3.0.0. Use suggest_float(..., log=True) instead.\n",
            "  'lambda_l1': trial.suggest_loguniform('lambda_l1', 1e-8, 10.0),\n",
            "<ipython-input-45-3d6f33735477>:10: FutureWarning: suggest_loguniform has been deprecated in v3.0.0. This feature will be removed in v6.0.0. See https://github.com/optuna/optuna/releases/tag/v3.0.0. Use suggest_float(..., log=True) instead.\n",
            "  'lambda_l2': trial.suggest_loguniform('lambda_l2', 1e-8, 10.0),\n",
            "<ipython-input-45-3d6f33735477>:12: FutureWarning: suggest_uniform has been deprecated in v3.0.0. This feature will be removed in v6.0.0. See https://github.com/optuna/optuna/releases/tag/v3.0.0. Use suggest_float instead.\n",
            "  'feature_fraction': trial.suggest_uniform('feature_fraction', 0.4, 1.0),\n",
            "<ipython-input-45-3d6f33735477>:13: FutureWarning: suggest_uniform has been deprecated in v3.0.0. This feature will be removed in v6.0.0. See https://github.com/optuna/optuna/releases/tag/v3.0.0. Use suggest_float instead.\n",
            "  'bagging_fraction': trial.suggest_uniform('bagging_fraction', 0.4, 1.0),\n",
            "<ipython-input-45-3d6f33735477>:16: FutureWarning: suggest_loguniform has been deprecated in v3.0.0. This feature will be removed in v6.0.0. See https://github.com/optuna/optuna/releases/tag/v3.0.0. Use suggest_float(..., log=True) instead.\n",
            "  'learning_rate': trial.suggest_loguniform('learning_rate', 0.01, 0.3),\n"
          ]
        },
        {
          "name": "stdout",
          "output_type": "stream",
          "text": [
            "Training until validation scores don't improve for 20 rounds\n",
            "Early stopping, best iteration is:\n",
            "[100]\tvalid_0's rmse: 4.94817e-05\n",
            "Training until validation scores don't improve for 20 rounds\n",
            "Early stopping, best iteration is:\n",
            "[108]\tvalid_0's rmse: 4.93634e-05\n",
            "Training until validation scores don't improve for 20 rounds\n",
            "Early stopping, best iteration is:\n",
            "[101]\tvalid_0's rmse: 4.93644e-05\n",
            "Training until validation scores don't improve for 20 rounds\n",
            "Early stopping, best iteration is:\n",
            "[124]\tvalid_0's rmse: 4.95545e-05\n",
            "Training until validation scores don't improve for 20 rounds\n"
          ]
        },
        {
          "name": "stderr",
          "output_type": "stream",
          "text": [
            "[I 2023-10-28 15:10:04,907] Trial 86 finished with value: 0.4408856910656184 and parameters: {'lambda_l1': 0.005491126814369264, 'lambda_l2': 0.002340436483581498, 'num_leaves': 49, 'feature_fraction': 0.7820338391625348, 'bagging_fraction': 0.8590588913277398, 'bagging_freq': 4, 'min_child_samples': 42, 'learning_rate': 0.07020857810428123, 'max_depth': 16}. Best is trial 82 with value: 0.43814293824636835.\n"
          ]
        },
        {
          "name": "stdout",
          "output_type": "stream",
          "text": [
            "Early stopping, best iteration is:\n",
            "[124]\tvalid_0's rmse: 5.59945e-05\n"
          ]
        },
        {
          "name": "stderr",
          "output_type": "stream",
          "text": [
            "<ipython-input-45-3d6f33735477>:9: FutureWarning: suggest_loguniform has been deprecated in v3.0.0. This feature will be removed in v6.0.0. See https://github.com/optuna/optuna/releases/tag/v3.0.0. Use suggest_float(..., log=True) instead.\n",
            "  'lambda_l1': trial.suggest_loguniform('lambda_l1', 1e-8, 10.0),\n",
            "<ipython-input-45-3d6f33735477>:10: FutureWarning: suggest_loguniform has been deprecated in v3.0.0. This feature will be removed in v6.0.0. See https://github.com/optuna/optuna/releases/tag/v3.0.0. Use suggest_float(..., log=True) instead.\n",
            "  'lambda_l2': trial.suggest_loguniform('lambda_l2', 1e-8, 10.0),\n",
            "<ipython-input-45-3d6f33735477>:12: FutureWarning: suggest_uniform has been deprecated in v3.0.0. This feature will be removed in v6.0.0. See https://github.com/optuna/optuna/releases/tag/v3.0.0. Use suggest_float instead.\n",
            "  'feature_fraction': trial.suggest_uniform('feature_fraction', 0.4, 1.0),\n",
            "<ipython-input-45-3d6f33735477>:13: FutureWarning: suggest_uniform has been deprecated in v3.0.0. This feature will be removed in v6.0.0. See https://github.com/optuna/optuna/releases/tag/v3.0.0. Use suggest_float instead.\n",
            "  'bagging_fraction': trial.suggest_uniform('bagging_fraction', 0.4, 1.0),\n",
            "<ipython-input-45-3d6f33735477>:16: FutureWarning: suggest_loguniform has been deprecated in v3.0.0. This feature will be removed in v6.0.0. See https://github.com/optuna/optuna/releases/tag/v3.0.0. Use suggest_float(..., log=True) instead.\n",
            "  'learning_rate': trial.suggest_loguniform('learning_rate', 0.01, 0.3),\n"
          ]
        },
        {
          "name": "stdout",
          "output_type": "stream",
          "text": [
            "Training until validation scores don't improve for 20 rounds\n",
            "Early stopping, best iteration is:\n",
            "[84]\tvalid_0's rmse: 4.93734e-05\n",
            "Training until validation scores don't improve for 20 rounds\n",
            "Early stopping, best iteration is:\n",
            "[92]\tvalid_0's rmse: 4.94497e-05\n",
            "Training until validation scores don't improve for 20 rounds\n",
            "Early stopping, best iteration is:\n",
            "[93]\tvalid_0's rmse: 4.94029e-05\n",
            "Training until validation scores don't improve for 20 rounds\n",
            "Early stopping, best iteration is:\n",
            "[69]\tvalid_0's rmse: 4.96212e-05\n",
            "Training until validation scores don't improve for 20 rounds\n"
          ]
        },
        {
          "name": "stderr",
          "output_type": "stream",
          "text": [
            "[I 2023-10-28 15:10:25,266] Trial 87 finished with value: 0.4413597971475231 and parameters: {'lambda_l1': 0.0023907434388731478, 'lambda_l2': 0.0009739121960449462, 'num_leaves': 52, 'feature_fraction': 0.7669971768672504, 'bagging_fraction': 0.8664962598054258, 'bagging_freq': 4, 'min_child_samples': 45, 'learning_rate': 0.06565500255924137, 'max_depth': 16}. Best is trial 82 with value: 0.43814293824636835.\n"
          ]
        },
        {
          "name": "stdout",
          "output_type": "stream",
          "text": [
            "Early stopping, best iteration is:\n",
            "[125]\tvalid_0's rmse: 5.56724e-05\n"
          ]
        },
        {
          "name": "stderr",
          "output_type": "stream",
          "text": [
            "<ipython-input-45-3d6f33735477>:9: FutureWarning: suggest_loguniform has been deprecated in v3.0.0. This feature will be removed in v6.0.0. See https://github.com/optuna/optuna/releases/tag/v3.0.0. Use suggest_float(..., log=True) instead.\n",
            "  'lambda_l1': trial.suggest_loguniform('lambda_l1', 1e-8, 10.0),\n",
            "<ipython-input-45-3d6f33735477>:10: FutureWarning: suggest_loguniform has been deprecated in v3.0.0. This feature will be removed in v6.0.0. See https://github.com/optuna/optuna/releases/tag/v3.0.0. Use suggest_float(..., log=True) instead.\n",
            "  'lambda_l2': trial.suggest_loguniform('lambda_l2', 1e-8, 10.0),\n",
            "<ipython-input-45-3d6f33735477>:12: FutureWarning: suggest_uniform has been deprecated in v3.0.0. This feature will be removed in v6.0.0. See https://github.com/optuna/optuna/releases/tag/v3.0.0. Use suggest_float instead.\n",
            "  'feature_fraction': trial.suggest_uniform('feature_fraction', 0.4, 1.0),\n",
            "<ipython-input-45-3d6f33735477>:13: FutureWarning: suggest_uniform has been deprecated in v3.0.0. This feature will be removed in v6.0.0. See https://github.com/optuna/optuna/releases/tag/v3.0.0. Use suggest_float instead.\n",
            "  'bagging_fraction': trial.suggest_uniform('bagging_fraction', 0.4, 1.0),\n",
            "<ipython-input-45-3d6f33735477>:16: FutureWarning: suggest_loguniform has been deprecated in v3.0.0. This feature will be removed in v6.0.0. See https://github.com/optuna/optuna/releases/tag/v3.0.0. Use suggest_float(..., log=True) instead.\n",
            "  'learning_rate': trial.suggest_loguniform('learning_rate', 0.01, 0.3),\n"
          ]
        },
        {
          "name": "stdout",
          "output_type": "stream",
          "text": [
            "Training until validation scores don't improve for 20 rounds\n",
            "Early stopping, best iteration is:\n",
            "[106]\tvalid_0's rmse: 4.94224e-05\n",
            "Training until validation scores don't improve for 20 rounds\n",
            "Early stopping, best iteration is:\n",
            "[128]\tvalid_0's rmse: 4.93552e-05\n",
            "Training until validation scores don't improve for 20 rounds\n",
            "Early stopping, best iteration is:\n",
            "[123]\tvalid_0's rmse: 4.94754e-05\n",
            "Training until validation scores don't improve for 20 rounds\n",
            "Early stopping, best iteration is:\n",
            "[126]\tvalid_0's rmse: 4.96893e-05\n",
            "Training until validation scores don't improve for 20 rounds\n"
          ]
        },
        {
          "name": "stderr",
          "output_type": "stream",
          "text": [
            "[I 2023-10-28 15:10:49,987] Trial 88 finished with value: 0.4414675618201464 and parameters: {'lambda_l1': 0.00789076349258657, 'lambda_l2': 0.0005262097482439759, 'num_leaves': 46, 'feature_fraction': 0.8216125638440297, 'bagging_fraction': 0.883827693399476, 'bagging_freq': 4, 'min_child_samples': 58, 'learning_rate': 0.08093597895538784, 'max_depth': 15}. Best is trial 82 with value: 0.43814293824636835.\n"
          ]
        },
        {
          "name": "stdout",
          "output_type": "stream",
          "text": [
            "Early stopping, best iteration is:\n",
            "[174]\tvalid_0's rmse: 5.58438e-05\n"
          ]
        },
        {
          "name": "stderr",
          "output_type": "stream",
          "text": [
            "<ipython-input-45-3d6f33735477>:9: FutureWarning: suggest_loguniform has been deprecated in v3.0.0. This feature will be removed in v6.0.0. See https://github.com/optuna/optuna/releases/tag/v3.0.0. Use suggest_float(..., log=True) instead.\n",
            "  'lambda_l1': trial.suggest_loguniform('lambda_l1', 1e-8, 10.0),\n",
            "<ipython-input-45-3d6f33735477>:10: FutureWarning: suggest_loguniform has been deprecated in v3.0.0. This feature will be removed in v6.0.0. See https://github.com/optuna/optuna/releases/tag/v3.0.0. Use suggest_float(..., log=True) instead.\n",
            "  'lambda_l2': trial.suggest_loguniform('lambda_l2', 1e-8, 10.0),\n",
            "<ipython-input-45-3d6f33735477>:12: FutureWarning: suggest_uniform has been deprecated in v3.0.0. This feature will be removed in v6.0.0. See https://github.com/optuna/optuna/releases/tag/v3.0.0. Use suggest_float instead.\n",
            "  'feature_fraction': trial.suggest_uniform('feature_fraction', 0.4, 1.0),\n",
            "<ipython-input-45-3d6f33735477>:13: FutureWarning: suggest_uniform has been deprecated in v3.0.0. This feature will be removed in v6.0.0. See https://github.com/optuna/optuna/releases/tag/v3.0.0. Use suggest_float instead.\n",
            "  'bagging_fraction': trial.suggest_uniform('bagging_fraction', 0.4, 1.0),\n",
            "<ipython-input-45-3d6f33735477>:16: FutureWarning: suggest_loguniform has been deprecated in v3.0.0. This feature will be removed in v6.0.0. See https://github.com/optuna/optuna/releases/tag/v3.0.0. Use suggest_float(..., log=True) instead.\n",
            "  'learning_rate': trial.suggest_loguniform('learning_rate', 0.01, 0.3),\n"
          ]
        },
        {
          "name": "stdout",
          "output_type": "stream",
          "text": [
            "Training until validation scores don't improve for 20 rounds\n",
            "Early stopping, best iteration is:\n",
            "[79]\tvalid_0's rmse: 4.94966e-05\n",
            "Training until validation scores don't improve for 20 rounds\n",
            "Early stopping, best iteration is:\n",
            "[79]\tvalid_0's rmse: 4.95146e-05\n",
            "Training until validation scores don't improve for 20 rounds\n",
            "Early stopping, best iteration is:\n",
            "[84]\tvalid_0's rmse: 4.93248e-05\n",
            "Training until validation scores don't improve for 20 rounds\n",
            "Early stopping, best iteration is:\n",
            "[120]\tvalid_0's rmse: 4.96846e-05\n",
            "Training until validation scores don't improve for 20 rounds\n"
          ]
        },
        {
          "name": "stderr",
          "output_type": "stream",
          "text": [
            "[I 2023-10-28 15:11:12,199] Trial 89 finished with value: 0.440222577205018 and parameters: {'lambda_l1': 0.003684404432945377, 'lambda_l2': 0.0012964122689358543, 'num_leaves': 57, 'feature_fraction': 0.783787290038606, 'bagging_fraction': 0.9095012805556267, 'bagging_freq': 4, 'min_child_samples': 40, 'learning_rate': 0.07621133084528492, 'max_depth': 15}. Best is trial 82 with value: 0.43814293824636835.\n"
          ]
        },
        {
          "name": "stdout",
          "output_type": "stream",
          "text": [
            "Early stopping, best iteration is:\n",
            "[80]\tvalid_0's rmse: 5.58883e-05\n"
          ]
        },
        {
          "name": "stderr",
          "output_type": "stream",
          "text": [
            "<ipython-input-45-3d6f33735477>:9: FutureWarning: suggest_loguniform has been deprecated in v3.0.0. This feature will be removed in v6.0.0. See https://github.com/optuna/optuna/releases/tag/v3.0.0. Use suggest_float(..., log=True) instead.\n",
            "  'lambda_l1': trial.suggest_loguniform('lambda_l1', 1e-8, 10.0),\n",
            "<ipython-input-45-3d6f33735477>:10: FutureWarning: suggest_loguniform has been deprecated in v3.0.0. This feature will be removed in v6.0.0. See https://github.com/optuna/optuna/releases/tag/v3.0.0. Use suggest_float(..., log=True) instead.\n",
            "  'lambda_l2': trial.suggest_loguniform('lambda_l2', 1e-8, 10.0),\n",
            "<ipython-input-45-3d6f33735477>:12: FutureWarning: suggest_uniform has been deprecated in v3.0.0. This feature will be removed in v6.0.0. See https://github.com/optuna/optuna/releases/tag/v3.0.0. Use suggest_float instead.\n",
            "  'feature_fraction': trial.suggest_uniform('feature_fraction', 0.4, 1.0),\n",
            "<ipython-input-45-3d6f33735477>:13: FutureWarning: suggest_uniform has been deprecated in v3.0.0. This feature will be removed in v6.0.0. See https://github.com/optuna/optuna/releases/tag/v3.0.0. Use suggest_float instead.\n",
            "  'bagging_fraction': trial.suggest_uniform('bagging_fraction', 0.4, 1.0),\n",
            "<ipython-input-45-3d6f33735477>:16: FutureWarning: suggest_loguniform has been deprecated in v3.0.0. This feature will be removed in v6.0.0. See https://github.com/optuna/optuna/releases/tag/v3.0.0. Use suggest_float(..., log=True) instead.\n",
            "  'learning_rate': trial.suggest_loguniform('learning_rate', 0.01, 0.3),\n"
          ]
        },
        {
          "name": "stdout",
          "output_type": "stream",
          "text": [
            "Training until validation scores don't improve for 20 rounds\n",
            "Early stopping, best iteration is:\n",
            "[40]\tvalid_0's rmse: 4.95378e-05\n",
            "Training until validation scores don't improve for 20 rounds\n",
            "Early stopping, best iteration is:\n",
            "[65]\tvalid_0's rmse: 4.94918e-05\n",
            "Training until validation scores don't improve for 20 rounds\n",
            "Early stopping, best iteration is:\n",
            "[59]\tvalid_0's rmse: 4.94376e-05\n",
            "Training until validation scores don't improve for 20 rounds\n",
            "Early stopping, best iteration is:\n",
            "[95]\tvalid_0's rmse: 4.95634e-05\n",
            "Training until validation scores don't improve for 20 rounds\n"
          ]
        },
        {
          "name": "stderr",
          "output_type": "stream",
          "text": [
            "[I 2023-10-28 15:11:31,863] Trial 90 finished with value: 0.4361816481224648 and parameters: {'lambda_l1': 0.0032551250961011156, 'lambda_l2': 0.00010150845162836709, 'num_leaves': 56, 'feature_fraction': 0.8036517266350524, 'bagging_fraction': 0.8576909504868375, 'bagging_freq': 4, 'min_child_samples': 40, 'learning_rate': 0.10637968859384557, 'max_depth': 15}. Best is trial 90 with value: 0.4361816481224648.\n"
          ]
        },
        {
          "name": "stdout",
          "output_type": "stream",
          "text": [
            "Early stopping, best iteration is:\n",
            "[78]\tvalid_0's rmse: 5.57523e-05\n"
          ]
        },
        {
          "name": "stderr",
          "output_type": "stream",
          "text": [
            "<ipython-input-45-3d6f33735477>:9: FutureWarning: suggest_loguniform has been deprecated in v3.0.0. This feature will be removed in v6.0.0. See https://github.com/optuna/optuna/releases/tag/v3.0.0. Use suggest_float(..., log=True) instead.\n",
            "  'lambda_l1': trial.suggest_loguniform('lambda_l1', 1e-8, 10.0),\n",
            "<ipython-input-45-3d6f33735477>:10: FutureWarning: suggest_loguniform has been deprecated in v3.0.0. This feature will be removed in v6.0.0. See https://github.com/optuna/optuna/releases/tag/v3.0.0. Use suggest_float(..., log=True) instead.\n",
            "  'lambda_l2': trial.suggest_loguniform('lambda_l2', 1e-8, 10.0),\n",
            "<ipython-input-45-3d6f33735477>:12: FutureWarning: suggest_uniform has been deprecated in v3.0.0. This feature will be removed in v6.0.0. See https://github.com/optuna/optuna/releases/tag/v3.0.0. Use suggest_float instead.\n",
            "  'feature_fraction': trial.suggest_uniform('feature_fraction', 0.4, 1.0),\n",
            "<ipython-input-45-3d6f33735477>:13: FutureWarning: suggest_uniform has been deprecated in v3.0.0. This feature will be removed in v6.0.0. See https://github.com/optuna/optuna/releases/tag/v3.0.0. Use suggest_float instead.\n",
            "  'bagging_fraction': trial.suggest_uniform('bagging_fraction', 0.4, 1.0),\n",
            "<ipython-input-45-3d6f33735477>:16: FutureWarning: suggest_loguniform has been deprecated in v3.0.0. This feature will be removed in v6.0.0. See https://github.com/optuna/optuna/releases/tag/v3.0.0. Use suggest_float(..., log=True) instead.\n",
            "  'learning_rate': trial.suggest_loguniform('learning_rate', 0.01, 0.3),\n"
          ]
        },
        {
          "name": "stdout",
          "output_type": "stream",
          "text": [
            "Training until validation scores don't improve for 20 rounds\n",
            "Early stopping, best iteration is:\n",
            "[58]\tvalid_0's rmse: 4.96072e-05\n",
            "Training until validation scores don't improve for 20 rounds\n",
            "Early stopping, best iteration is:\n",
            "[73]\tvalid_0's rmse: 4.95353e-05\n",
            "Training until validation scores don't improve for 20 rounds\n",
            "Early stopping, best iteration is:\n",
            "[68]\tvalid_0's rmse: 4.96146e-05\n",
            "Training until validation scores don't improve for 20 rounds\n",
            "Early stopping, best iteration is:\n",
            "[39]\tvalid_0's rmse: 4.9761e-05\n",
            "Training until validation scores don't improve for 20 rounds\n"
          ]
        },
        {
          "name": "stderr",
          "output_type": "stream",
          "text": [
            "[I 2023-10-28 15:11:48,919] Trial 91 finished with value: 0.44310526724279276 and parameters: {'lambda_l1': 0.003131868471760241, 'lambda_l2': 0.00014900105903425126, 'num_leaves': 55, 'feature_fraction': 0.8029319524924705, 'bagging_fraction': 0.8620151299662888, 'bagging_freq': 4, 'min_child_samples': 40, 'learning_rate': 0.10516116286661255, 'max_depth': 15}. Best is trial 90 with value: 0.4361816481224648.\n"
          ]
        },
        {
          "name": "stdout",
          "output_type": "stream",
          "text": [
            "Early stopping, best iteration is:\n",
            "[77]\tvalid_0's rmse: 5.58575e-05\n"
          ]
        },
        {
          "name": "stderr",
          "output_type": "stream",
          "text": [
            "<ipython-input-45-3d6f33735477>:9: FutureWarning: suggest_loguniform has been deprecated in v3.0.0. This feature will be removed in v6.0.0. See https://github.com/optuna/optuna/releases/tag/v3.0.0. Use suggest_float(..., log=True) instead.\n",
            "  'lambda_l1': trial.suggest_loguniform('lambda_l1', 1e-8, 10.0),\n",
            "<ipython-input-45-3d6f33735477>:10: FutureWarning: suggest_loguniform has been deprecated in v3.0.0. This feature will be removed in v6.0.0. See https://github.com/optuna/optuna/releases/tag/v3.0.0. Use suggest_float(..., log=True) instead.\n",
            "  'lambda_l2': trial.suggest_loguniform('lambda_l2', 1e-8, 10.0),\n",
            "<ipython-input-45-3d6f33735477>:12: FutureWarning: suggest_uniform has been deprecated in v3.0.0. This feature will be removed in v6.0.0. See https://github.com/optuna/optuna/releases/tag/v3.0.0. Use suggest_float instead.\n",
            "  'feature_fraction': trial.suggest_uniform('feature_fraction', 0.4, 1.0),\n",
            "<ipython-input-45-3d6f33735477>:13: FutureWarning: suggest_uniform has been deprecated in v3.0.0. This feature will be removed in v6.0.0. See https://github.com/optuna/optuna/releases/tag/v3.0.0. Use suggest_float instead.\n",
            "  'bagging_fraction': trial.suggest_uniform('bagging_fraction', 0.4, 1.0),\n",
            "<ipython-input-45-3d6f33735477>:16: FutureWarning: suggest_loguniform has been deprecated in v3.0.0. This feature will be removed in v6.0.0. See https://github.com/optuna/optuna/releases/tag/v3.0.0. Use suggest_float(..., log=True) instead.\n",
            "  'learning_rate': trial.suggest_loguniform('learning_rate', 0.01, 0.3),\n"
          ]
        },
        {
          "name": "stdout",
          "output_type": "stream",
          "text": [
            "Training until validation scores don't improve for 20 rounds\n",
            "Early stopping, best iteration is:\n",
            "[106]\tvalid_0's rmse: 4.94576e-05\n",
            "Training until validation scores don't improve for 20 rounds\n",
            "Early stopping, best iteration is:\n",
            "[110]\tvalid_0's rmse: 4.94128e-05\n",
            "Training until validation scores don't improve for 20 rounds\n",
            "Early stopping, best iteration is:\n",
            "[112]\tvalid_0's rmse: 4.93475e-05\n",
            "Training until validation scores don't improve for 20 rounds\n",
            "Early stopping, best iteration is:\n",
            "[87]\tvalid_0's rmse: 4.9676e-05\n",
            "Training until validation scores don't improve for 20 rounds\n"
          ]
        },
        {
          "name": "stderr",
          "output_type": "stream",
          "text": [
            "[I 2023-10-28 15:12:13,575] Trial 92 finished with value: 0.44208100420861 and parameters: {'lambda_l1': 0.005034051853797437, 'lambda_l2': 0.0011679455715948787, 'num_leaves': 57, 'feature_fraction': 0.7757196000561674, 'bagging_fraction': 0.8921288616907834, 'bagging_freq': 4, 'min_child_samples': 47, 'learning_rate': 0.06972613308490919, 'max_depth': 16}. Best is trial 90 with value: 0.4361816481224648.\n"
          ]
        },
        {
          "name": "stdout",
          "output_type": "stream",
          "text": [
            "Early stopping, best iteration is:\n",
            "[114]\tvalid_0's rmse: 5.57914e-05\n"
          ]
        },
        {
          "name": "stderr",
          "output_type": "stream",
          "text": [
            "<ipython-input-45-3d6f33735477>:9: FutureWarning: suggest_loguniform has been deprecated in v3.0.0. This feature will be removed in v6.0.0. See https://github.com/optuna/optuna/releases/tag/v3.0.0. Use suggest_float(..., log=True) instead.\n",
            "  'lambda_l1': trial.suggest_loguniform('lambda_l1', 1e-8, 10.0),\n",
            "<ipython-input-45-3d6f33735477>:10: FutureWarning: suggest_loguniform has been deprecated in v3.0.0. This feature will be removed in v6.0.0. See https://github.com/optuna/optuna/releases/tag/v3.0.0. Use suggest_float(..., log=True) instead.\n",
            "  'lambda_l2': trial.suggest_loguniform('lambda_l2', 1e-8, 10.0),\n",
            "<ipython-input-45-3d6f33735477>:12: FutureWarning: suggest_uniform has been deprecated in v3.0.0. This feature will be removed in v6.0.0. See https://github.com/optuna/optuna/releases/tag/v3.0.0. Use suggest_float instead.\n",
            "  'feature_fraction': trial.suggest_uniform('feature_fraction', 0.4, 1.0),\n",
            "<ipython-input-45-3d6f33735477>:13: FutureWarning: suggest_uniform has been deprecated in v3.0.0. This feature will be removed in v6.0.0. See https://github.com/optuna/optuna/releases/tag/v3.0.0. Use suggest_float instead.\n",
            "  'bagging_fraction': trial.suggest_uniform('bagging_fraction', 0.4, 1.0),\n",
            "<ipython-input-45-3d6f33735477>:16: FutureWarning: suggest_loguniform has been deprecated in v3.0.0. This feature will be removed in v6.0.0. See https://github.com/optuna/optuna/releases/tag/v3.0.0. Use suggest_float(..., log=True) instead.\n",
            "  'learning_rate': trial.suggest_loguniform('learning_rate', 0.01, 0.3),\n"
          ]
        },
        {
          "name": "stdout",
          "output_type": "stream",
          "text": [
            "Training until validation scores don't improve for 20 rounds\n",
            "Early stopping, best iteration is:\n",
            "[144]\tvalid_0's rmse: 4.95757e-05\n",
            "Training until validation scores don't improve for 20 rounds\n",
            "Early stopping, best iteration is:\n",
            "[161]\tvalid_0's rmse: 4.96777e-05\n",
            "Training until validation scores don't improve for 20 rounds\n",
            "Early stopping, best iteration is:\n",
            "[200]\tvalid_0's rmse: 4.98222e-05\n",
            "Training until validation scores don't improve for 20 rounds\n",
            "Early stopping, best iteration is:\n",
            "[186]\tvalid_0's rmse: 4.98358e-05\n",
            "Training until validation scores don't improve for 20 rounds\n"
          ]
        },
        {
          "name": "stderr",
          "output_type": "stream",
          "text": [
            "[I 2023-10-28 15:12:29,680] Trial 93 finished with value: 0.46097585789032625 and parameters: {'lambda_l1': 0.018680089957239434, 'lambda_l2': 0.0005389354168362314, 'num_leaves': 47, 'feature_fraction': 0.7970512287781857, 'bagging_fraction': 0.9069190349379952, 'bagging_freq': 4, 'min_child_samples': 52, 'learning_rate': 0.07704319312052976, 'max_depth': 15}. Best is trial 90 with value: 0.4361816481224648.\n"
          ]
        },
        {
          "name": "stdout",
          "output_type": "stream",
          "text": [
            "Early stopping, best iteration is:\n",
            "[168]\tvalid_0's rmse: 5.62275e-05\n"
          ]
        },
        {
          "name": "stderr",
          "output_type": "stream",
          "text": [
            "<ipython-input-45-3d6f33735477>:9: FutureWarning: suggest_loguniform has been deprecated in v3.0.0. This feature will be removed in v6.0.0. See https://github.com/optuna/optuna/releases/tag/v3.0.0. Use suggest_float(..., log=True) instead.\n",
            "  'lambda_l1': trial.suggest_loguniform('lambda_l1', 1e-8, 10.0),\n",
            "<ipython-input-45-3d6f33735477>:10: FutureWarning: suggest_loguniform has been deprecated in v3.0.0. This feature will be removed in v6.0.0. See https://github.com/optuna/optuna/releases/tag/v3.0.0. Use suggest_float(..., log=True) instead.\n",
            "  'lambda_l2': trial.suggest_loguniform('lambda_l2', 1e-8, 10.0),\n",
            "<ipython-input-45-3d6f33735477>:12: FutureWarning: suggest_uniform has been deprecated in v3.0.0. This feature will be removed in v6.0.0. See https://github.com/optuna/optuna/releases/tag/v3.0.0. Use suggest_float instead.\n",
            "  'feature_fraction': trial.suggest_uniform('feature_fraction', 0.4, 1.0),\n",
            "<ipython-input-45-3d6f33735477>:13: FutureWarning: suggest_uniform has been deprecated in v3.0.0. This feature will be removed in v6.0.0. See https://github.com/optuna/optuna/releases/tag/v3.0.0. Use suggest_float instead.\n",
            "  'bagging_fraction': trial.suggest_uniform('bagging_fraction', 0.4, 1.0),\n",
            "<ipython-input-45-3d6f33735477>:16: FutureWarning: suggest_loguniform has been deprecated in v3.0.0. This feature will be removed in v6.0.0. See https://github.com/optuna/optuna/releases/tag/v3.0.0. Use suggest_float(..., log=True) instead.\n",
            "  'learning_rate': trial.suggest_loguniform('learning_rate', 0.01, 0.3),\n"
          ]
        },
        {
          "name": "stdout",
          "output_type": "stream",
          "text": [
            "Training until validation scores don't improve for 20 rounds\n",
            "Early stopping, best iteration is:\n",
            "[122]\tvalid_0's rmse: 4.94152e-05\n",
            "Training until validation scores don't improve for 20 rounds\n",
            "Early stopping, best iteration is:\n",
            "[144]\tvalid_0's rmse: 4.94019e-05\n",
            "Training until validation scores don't improve for 20 rounds\n",
            "Early stopping, best iteration is:\n",
            "[100]\tvalid_0's rmse: 4.94006e-05\n",
            "Training until validation scores don't improve for 20 rounds\n",
            "Early stopping, best iteration is:\n",
            "[118]\tvalid_0's rmse: 4.95766e-05\n",
            "Training until validation scores don't improve for 20 rounds\n"
          ]
        },
        {
          "name": "stderr",
          "output_type": "stream",
          "text": [
            "[I 2023-10-28 15:12:53,574] Trial 94 finished with value: 0.4380816043580434 and parameters: {'lambda_l1': 0.0034919534218575223, 'lambda_l2': 0.002190655713154162, 'num_leaves': 44, 'feature_fraction': 0.7637434818587532, 'bagging_fraction': 0.8468163636121078, 'bagging_freq': 4, 'min_child_samples': 43, 'learning_rate': 0.06294587326683776, 'max_depth': 14}. Best is trial 90 with value: 0.4361816481224648.\n"
          ]
        },
        {
          "name": "stdout",
          "output_type": "stream",
          "text": [
            "Early stopping, best iteration is:\n",
            "[121]\tvalid_0's rmse: 5.56469e-05\n"
          ]
        },
        {
          "name": "stderr",
          "output_type": "stream",
          "text": [
            "<ipython-input-45-3d6f33735477>:9: FutureWarning: suggest_loguniform has been deprecated in v3.0.0. This feature will be removed in v6.0.0. See https://github.com/optuna/optuna/releases/tag/v3.0.0. Use suggest_float(..., log=True) instead.\n",
            "  'lambda_l1': trial.suggest_loguniform('lambda_l1', 1e-8, 10.0),\n",
            "<ipython-input-45-3d6f33735477>:10: FutureWarning: suggest_loguniform has been deprecated in v3.0.0. This feature will be removed in v6.0.0. See https://github.com/optuna/optuna/releases/tag/v3.0.0. Use suggest_float(..., log=True) instead.\n",
            "  'lambda_l2': trial.suggest_loguniform('lambda_l2', 1e-8, 10.0),\n",
            "<ipython-input-45-3d6f33735477>:12: FutureWarning: suggest_uniform has been deprecated in v3.0.0. This feature will be removed in v6.0.0. See https://github.com/optuna/optuna/releases/tag/v3.0.0. Use suggest_float instead.\n",
            "  'feature_fraction': trial.suggest_uniform('feature_fraction', 0.4, 1.0),\n",
            "<ipython-input-45-3d6f33735477>:13: FutureWarning: suggest_uniform has been deprecated in v3.0.0. This feature will be removed in v6.0.0. See https://github.com/optuna/optuna/releases/tag/v3.0.0. Use suggest_float instead.\n",
            "  'bagging_fraction': trial.suggest_uniform('bagging_fraction', 0.4, 1.0),\n",
            "<ipython-input-45-3d6f33735477>:16: FutureWarning: suggest_loguniform has been deprecated in v3.0.0. This feature will be removed in v6.0.0. See https://github.com/optuna/optuna/releases/tag/v3.0.0. Use suggest_float(..., log=True) instead.\n",
            "  'learning_rate': trial.suggest_loguniform('learning_rate', 0.01, 0.3),\n"
          ]
        },
        {
          "name": "stdout",
          "output_type": "stream",
          "text": [
            "Training until validation scores don't improve for 20 rounds\n",
            "Early stopping, best iteration is:\n",
            "[97]\tvalid_0's rmse: 5.01763e-05\n",
            "Training until validation scores don't improve for 20 rounds\n",
            "Early stopping, best iteration is:\n",
            "[120]\tvalid_0's rmse: 5.03821e-05\n",
            "Training until validation scores don't improve for 20 rounds\n",
            "Early stopping, best iteration is:\n",
            "[131]\tvalid_0's rmse: 5.04371e-05\n",
            "Training until validation scores don't improve for 20 rounds\n",
            "Early stopping, best iteration is:\n",
            "[107]\tvalid_0's rmse: 5.0571e-05\n",
            "Training until validation scores don't improve for 20 rounds\n"
          ]
        },
        {
          "name": "stderr",
          "output_type": "stream",
          "text": [
            "[I 2023-10-28 15:13:04,684] Trial 95 finished with value: 0.48783003850897966 and parameters: {'lambda_l1': 0.03740799325962364, 'lambda_l2': 0.009690626797598556, 'num_leaves': 44, 'feature_fraction': 0.7815431985129889, 'bagging_fraction': 0.8406854932306511, 'bagging_freq': 4, 'min_child_samples': 42, 'learning_rate': 0.09840711452874677, 'max_depth': 15}. Best is trial 90 with value: 0.4361816481224648.\n"
          ]
        },
        {
          "name": "stdout",
          "output_type": "stream",
          "text": [
            "Early stopping, best iteration is:\n",
            "[96]\tvalid_0's rmse: 5.68383e-05\n"
          ]
        },
        {
          "name": "stderr",
          "output_type": "stream",
          "text": [
            "<ipython-input-45-3d6f33735477>:9: FutureWarning: suggest_loguniform has been deprecated in v3.0.0. This feature will be removed in v6.0.0. See https://github.com/optuna/optuna/releases/tag/v3.0.0. Use suggest_float(..., log=True) instead.\n",
            "  'lambda_l1': trial.suggest_loguniform('lambda_l1', 1e-8, 10.0),\n",
            "<ipython-input-45-3d6f33735477>:10: FutureWarning: suggest_loguniform has been deprecated in v3.0.0. This feature will be removed in v6.0.0. See https://github.com/optuna/optuna/releases/tag/v3.0.0. Use suggest_float(..., log=True) instead.\n",
            "  'lambda_l2': trial.suggest_loguniform('lambda_l2', 1e-8, 10.0),\n",
            "<ipython-input-45-3d6f33735477>:12: FutureWarning: suggest_uniform has been deprecated in v3.0.0. This feature will be removed in v6.0.0. See https://github.com/optuna/optuna/releases/tag/v3.0.0. Use suggest_float instead.\n",
            "  'feature_fraction': trial.suggest_uniform('feature_fraction', 0.4, 1.0),\n",
            "<ipython-input-45-3d6f33735477>:13: FutureWarning: suggest_uniform has been deprecated in v3.0.0. This feature will be removed in v6.0.0. See https://github.com/optuna/optuna/releases/tag/v3.0.0. Use suggest_float instead.\n",
            "  'bagging_fraction': trial.suggest_uniform('bagging_fraction', 0.4, 1.0),\n",
            "<ipython-input-45-3d6f33735477>:16: FutureWarning: suggest_loguniform has been deprecated in v3.0.0. This feature will be removed in v6.0.0. See https://github.com/optuna/optuna/releases/tag/v3.0.0. Use suggest_float(..., log=True) instead.\n",
            "  'learning_rate': trial.suggest_loguniform('learning_rate', 0.01, 0.3),\n"
          ]
        },
        {
          "name": "stdout",
          "output_type": "stream",
          "text": [
            "Training until validation scores don't improve for 20 rounds\n",
            "Early stopping, best iteration is:\n",
            "[84]\tvalid_0's rmse: 4.97635e-05\n",
            "Training until validation scores don't improve for 20 rounds\n",
            "Early stopping, best iteration is:\n",
            "[75]\tvalid_0's rmse: 4.94813e-05\n",
            "Training until validation scores don't improve for 20 rounds\n",
            "Early stopping, best iteration is:\n",
            "[79]\tvalid_0's rmse: 4.92588e-05\n",
            "Training until validation scores don't improve for 20 rounds\n",
            "Early stopping, best iteration is:\n",
            "[76]\tvalid_0's rmse: 4.95921e-05\n",
            "Training until validation scores don't improve for 20 rounds\n"
          ]
        },
        {
          "name": "stderr",
          "output_type": "stream",
          "text": [
            "[I 2023-10-28 15:13:26,039] Trial 96 finished with value: 0.43806742179557023 and parameters: {'lambda_l1': 0.0035166237941804336, 'lambda_l2': 9.967562092259569e-05, 'num_leaves': 60, 'feature_fraction': 0.812256653416861, 'bagging_fraction': 0.8755142161931807, 'bagging_freq': 4, 'min_child_samples': 54, 'learning_rate': 0.08568716845282452, 'max_depth': 14}. Best is trial 90 with value: 0.4361816481224648.\n"
          ]
        },
        {
          "name": "stdout",
          "output_type": "stream",
          "text": [
            "Early stopping, best iteration is:\n",
            "[95]\tvalid_0's rmse: 5.57821e-05\n"
          ]
        },
        {
          "name": "stderr",
          "output_type": "stream",
          "text": [
            "<ipython-input-45-3d6f33735477>:9: FutureWarning: suggest_loguniform has been deprecated in v3.0.0. This feature will be removed in v6.0.0. See https://github.com/optuna/optuna/releases/tag/v3.0.0. Use suggest_float(..., log=True) instead.\n",
            "  'lambda_l1': trial.suggest_loguniform('lambda_l1', 1e-8, 10.0),\n",
            "<ipython-input-45-3d6f33735477>:10: FutureWarning: suggest_loguniform has been deprecated in v3.0.0. This feature will be removed in v6.0.0. See https://github.com/optuna/optuna/releases/tag/v3.0.0. Use suggest_float(..., log=True) instead.\n",
            "  'lambda_l2': trial.suggest_loguniform('lambda_l2', 1e-8, 10.0),\n",
            "<ipython-input-45-3d6f33735477>:12: FutureWarning: suggest_uniform has been deprecated in v3.0.0. This feature will be removed in v6.0.0. See https://github.com/optuna/optuna/releases/tag/v3.0.0. Use suggest_float instead.\n",
            "  'feature_fraction': trial.suggest_uniform('feature_fraction', 0.4, 1.0),\n",
            "<ipython-input-45-3d6f33735477>:13: FutureWarning: suggest_uniform has been deprecated in v3.0.0. This feature will be removed in v6.0.0. See https://github.com/optuna/optuna/releases/tag/v3.0.0. Use suggest_float instead.\n",
            "  'bagging_fraction': trial.suggest_uniform('bagging_fraction', 0.4, 1.0),\n",
            "<ipython-input-45-3d6f33735477>:16: FutureWarning: suggest_loguniform has been deprecated in v3.0.0. This feature will be removed in v6.0.0. See https://github.com/optuna/optuna/releases/tag/v3.0.0. Use suggest_float(..., log=True) instead.\n",
            "  'learning_rate': trial.suggest_loguniform('learning_rate', 0.01, 0.3),\n"
          ]
        },
        {
          "name": "stdout",
          "output_type": "stream",
          "text": [
            "Training until validation scores don't improve for 20 rounds\n",
            "Early stopping, best iteration is:\n",
            "[67]\tvalid_0's rmse: 4.96319e-05\n",
            "Training until validation scores don't improve for 20 rounds\n",
            "Early stopping, best iteration is:\n",
            "[32]\tvalid_0's rmse: 4.97216e-05\n",
            "Training until validation scores don't improve for 20 rounds\n",
            "Early stopping, best iteration is:\n",
            "[66]\tvalid_0's rmse: 4.9619e-05\n",
            "Training until validation scores don't improve for 20 rounds\n",
            "Early stopping, best iteration is:\n",
            "[79]\tvalid_0's rmse: 4.96872e-05\n",
            "Training until validation scores don't improve for 20 rounds\n"
          ]
        },
        {
          "name": "stderr",
          "output_type": "stream",
          "text": [
            "[I 2023-10-28 15:13:43,515] Trial 97 finished with value: 0.443007575937984 and parameters: {'lambda_l1': 0.003886374193336986, 'lambda_l2': 0.00011189509643435806, 'num_leaves': 61, 'feature_fraction': 0.8348157884576053, 'bagging_fraction': 0.8836537504565377, 'bagging_freq': 4, 'min_child_samples': 56, 'learning_rate': 0.10955949423317385, 'max_depth': 14}. Best is trial 90 with value: 0.4361816481224648.\n"
          ]
        },
        {
          "name": "stdout",
          "output_type": "stream",
          "text": [
            "Early stopping, best iteration is:\n",
            "[78]\tvalid_0's rmse: 5.56447e-05\n"
          ]
        },
        {
          "name": "stderr",
          "output_type": "stream",
          "text": [
            "<ipython-input-45-3d6f33735477>:9: FutureWarning: suggest_loguniform has been deprecated in v3.0.0. This feature will be removed in v6.0.0. See https://github.com/optuna/optuna/releases/tag/v3.0.0. Use suggest_float(..., log=True) instead.\n",
            "  'lambda_l1': trial.suggest_loguniform('lambda_l1', 1e-8, 10.0),\n",
            "<ipython-input-45-3d6f33735477>:10: FutureWarning: suggest_loguniform has been deprecated in v3.0.0. This feature will be removed in v6.0.0. See https://github.com/optuna/optuna/releases/tag/v3.0.0. Use suggest_float(..., log=True) instead.\n",
            "  'lambda_l2': trial.suggest_loguniform('lambda_l2', 1e-8, 10.0),\n",
            "<ipython-input-45-3d6f33735477>:12: FutureWarning: suggest_uniform has been deprecated in v3.0.0. This feature will be removed in v6.0.0. See https://github.com/optuna/optuna/releases/tag/v3.0.0. Use suggest_float instead.\n",
            "  'feature_fraction': trial.suggest_uniform('feature_fraction', 0.4, 1.0),\n",
            "<ipython-input-45-3d6f33735477>:13: FutureWarning: suggest_uniform has been deprecated in v3.0.0. This feature will be removed in v6.0.0. See https://github.com/optuna/optuna/releases/tag/v3.0.0. Use suggest_float instead.\n",
            "  'bagging_fraction': trial.suggest_uniform('bagging_fraction', 0.4, 1.0),\n",
            "<ipython-input-45-3d6f33735477>:16: FutureWarning: suggest_loguniform has been deprecated in v3.0.0. This feature will be removed in v6.0.0. See https://github.com/optuna/optuna/releases/tag/v3.0.0. Use suggest_float(..., log=True) instead.\n",
            "  'learning_rate': trial.suggest_loguniform('learning_rate', 0.01, 0.3),\n"
          ]
        },
        {
          "name": "stdout",
          "output_type": "stream",
          "text": [
            "Training until validation scores don't improve for 20 rounds\n",
            "Early stopping, best iteration is:\n",
            "[140]\tvalid_0's rmse: 4.95119e-05\n",
            "Training until validation scores don't improve for 20 rounds\n",
            "Early stopping, best iteration is:\n",
            "[123]\tvalid_0's rmse: 4.9717e-05\n",
            "Training until validation scores don't improve for 20 rounds\n",
            "Early stopping, best iteration is:\n",
            "[207]\tvalid_0's rmse: 4.97073e-05\n",
            "Training until validation scores don't improve for 20 rounds\n",
            "Early stopping, best iteration is:\n",
            "[162]\tvalid_0's rmse: 4.99593e-05\n",
            "Training until validation scores don't improve for 20 rounds\n"
          ]
        },
        {
          "name": "stderr",
          "output_type": "stream",
          "text": [
            "[I 2023-10-28 15:14:01,781] Trial 98 finished with value: 0.4584964844807361 and parameters: {'lambda_l1': 0.015309877104103604, 'lambda_l2': 4.628153634151307e-05, 'num_leaves': 59, 'feature_fraction': 0.8125830296492399, 'bagging_fraction': 0.8521661273553849, 'bagging_freq': 4, 'min_child_samples': 54, 'learning_rate': 0.07906889103834004, 'max_depth': 14}. Best is trial 90 with value: 0.4361816481224648.\n"
          ]
        },
        {
          "name": "stdout",
          "output_type": "stream",
          "text": [
            "Early stopping, best iteration is:\n",
            "[104]\tvalid_0's rmse: 5.62374e-05\n"
          ]
        },
        {
          "name": "stderr",
          "output_type": "stream",
          "text": [
            "<ipython-input-45-3d6f33735477>:9: FutureWarning: suggest_loguniform has been deprecated in v3.0.0. This feature will be removed in v6.0.0. See https://github.com/optuna/optuna/releases/tag/v3.0.0. Use suggest_float(..., log=True) instead.\n",
            "  'lambda_l1': trial.suggest_loguniform('lambda_l1', 1e-8, 10.0),\n",
            "<ipython-input-45-3d6f33735477>:10: FutureWarning: suggest_loguniform has been deprecated in v3.0.0. This feature will be removed in v6.0.0. See https://github.com/optuna/optuna/releases/tag/v3.0.0. Use suggest_float(..., log=True) instead.\n",
            "  'lambda_l2': trial.suggest_loguniform('lambda_l2', 1e-8, 10.0),\n",
            "<ipython-input-45-3d6f33735477>:12: FutureWarning: suggest_uniform has been deprecated in v3.0.0. This feature will be removed in v6.0.0. See https://github.com/optuna/optuna/releases/tag/v3.0.0. Use suggest_float instead.\n",
            "  'feature_fraction': trial.suggest_uniform('feature_fraction', 0.4, 1.0),\n",
            "<ipython-input-45-3d6f33735477>:13: FutureWarning: suggest_uniform has been deprecated in v3.0.0. This feature will be removed in v6.0.0. See https://github.com/optuna/optuna/releases/tag/v3.0.0. Use suggest_float instead.\n",
            "  'bagging_fraction': trial.suggest_uniform('bagging_fraction', 0.4, 1.0),\n",
            "<ipython-input-45-3d6f33735477>:16: FutureWarning: suggest_loguniform has been deprecated in v3.0.0. This feature will be removed in v6.0.0. See https://github.com/optuna/optuna/releases/tag/v3.0.0. Use suggest_float(..., log=True) instead.\n",
            "  'learning_rate': trial.suggest_loguniform('learning_rate', 0.01, 0.3),\n"
          ]
        },
        {
          "name": "stdout",
          "output_type": "stream",
          "text": [
            "Training until validation scores don't improve for 20 rounds\n",
            "Early stopping, best iteration is:\n",
            "[110]\tvalid_0's rmse: 4.95298e-05\n",
            "Training until validation scores don't improve for 20 rounds\n",
            "Early stopping, best iteration is:\n",
            "[114]\tvalid_0's rmse: 4.94998e-05\n",
            "Training until validation scores don't improve for 20 rounds\n",
            "Early stopping, best iteration is:\n",
            "[125]\tvalid_0's rmse: 4.94309e-05\n",
            "Training until validation scores don't improve for 20 rounds\n",
            "Early stopping, best iteration is:\n",
            "[91]\tvalid_0's rmse: 4.99067e-05\n",
            "Training until validation scores don't improve for 20 rounds\n"
          ]
        },
        {
          "name": "stderr",
          "output_type": "stream",
          "text": [
            "[I 2023-10-28 15:14:20,356] Trial 99 finished with value: 0.4484832765570238 and parameters: {'lambda_l1': 0.008259957735146383, 'lambda_l2': 0.0003585775351971678, 'num_leaves': 51, 'feature_fraction': 0.8127726569243039, 'bagging_fraction': 0.8765551704869088, 'bagging_freq': 4, 'min_child_samples': 44, 'learning_rate': 0.0741582215921919, 'max_depth': 14}. Best is trial 90 with value: 0.4361816481224648.\n"
          ]
        },
        {
          "name": "stdout",
          "output_type": "stream",
          "text": [
            "Early stopping, best iteration is:\n",
            "[96]\tvalid_0's rmse: 5.59857e-05\n",
            "Best trial: {'lambda_l1': 0.0032551250961011156, 'lambda_l2': 0.00010150845162836709, 'num_leaves': 56, 'feature_fraction': 0.8036517266350524, 'bagging_fraction': 0.8576909504868375, 'bagging_freq': 4, 'min_child_samples': 40, 'learning_rate': 0.10637968859384557, 'max_depth': 15}\n",
            "0.4361816481224648\n"
          ]
        }
      ],
      "source": [
        "# Optuna를 사용한 하이퍼파라미터 최적화\n",
        "study = optuna.create_study(direction='minimize')\n",
        "study.optimize(objective, n_trials=100)\n",
        "\n",
        "# 최적의 하이퍼파라미터 출력\n",
        "print('Best trial:', study.best_trial.params)\n",
        "print(study.best_trial.value)"
      ]
    },
    {
      "cell_type": "code",
      "execution_count": null,
      "metadata": {
        "id": "Vlgg62ttDGlY"
      },
      "outputs": [],
      "source": [
        "best_params = {\n",
        "    'lambda_l1': 0.003,\n",
        "    'lambda_l2': 0.001,\n",
        "    'num_leaves': 56,\n",
        "    'feature_fraction': 0.80,\n",
        "    'bagging_fraction': 0.86,\n",
        "    'bagging_freq': 4,\n",
        "    'min_child_samples': 40,\n",
        "    'learning_rate': 0.1,\n",
        "    'max_depth': 15\n",
        "}\n"
      ]
    },
    {
      "cell_type": "code",
      "execution_count": null,
      "metadata": {
        "id": "9kcNXZ-TFdrL"
      },
      "outputs": [],
      "source": [
        "X_train = df[:50000].drop('dv5_realized_volatility_mean0', axis = 1)\n",
        "y_train = df[:50000]['dv5_realized_volatility_mean0']\n",
        "\n",
        "X_test = df[50000:].drop('dv5_realized_volatility_mean0', axis = 1)\n",
        "y_test = df[50000:]['dv5_realized_volatility_mean0']\n",
        "\n",
        "X_train, X_val, y_train, y_val = train_test_split(X_train, y_train, test_size = 0.2, shuffle = False)\n",
        "\n",
        "# # LightGBM 데이터셋으로 변환\n",
        "lgb_train = lgb.Dataset(X_train, y_train)\n",
        "lgb_eval = lgb.Dataset(X_val, y_val, reference=lgb_train)"
      ]
    },
    {
      "cell_type": "code",
      "execution_count": null,
      "metadata": {
        "colab": {
          "base_uri": "https://localhost:8080/"
        },
        "id": "Bz83_qSSDI4R",
        "outputId": "3742e120-d2cc-45e8-bd70-3a5163320bc4"
      },
      "outputs": [
        {
          "name": "stdout",
          "output_type": "stream",
          "text": [
            "Starting training...\n",
            "[LightGBM] [Info] Auto-choosing col-wise multi-threading, the overhead of testing was 0.044954 seconds.\n",
            "You can set `force_col_wise=true` to remove the overhead.\n",
            "[LightGBM] [Info] Total Bins 32633\n",
            "[LightGBM] [Info] Number of data points in the train set: 40000, number of used features: 128\n",
            "[LightGBM] [Info] Start training from score 0.000177\n",
            "Training until validation scores don't improve for 20 rounds\n",
            "Early stopping, best iteration is:\n",
            "[79]\tvalid_0's l2: 3.0164e-09\n",
            "Starting predicting...\n",
            "The RMSPE of prediction is: 0.3790053938727757\n"
          ]
        }
      ],
      "source": [
        "print('Starting training...')\n",
        "gbm = lgb.train(best_params,\n",
        "                lgb_train,\n",
        "                num_boost_round=500,\n",
        "                valid_sets=lgb_eval,\n",
        "                callbacks=[early_stopping(stopping_rounds=20)]\n",
        "                )\n",
        "\n",
        "# 모델 예측\n",
        "print('Starting predicting...')\n",
        "y_pred = gbm.predict(X_test, num_iteration=gbm.best_iteration)\n",
        "\n",
        "# y_test = abs(y_test)\n",
        "# y_pred = abs(y_pred)\n",
        "\n",
        "# 모델 평가\n",
        "print('The RMSPE of prediction is:', rmspe(y_test, y_pred))"
      ]
    }
  ],
  "metadata": {
    "colab": {
      "provenance": []
    },
    "kernelspec": {
      "display_name": "Python 3",
      "name": "python3"
    },
    "language_info": {
      "name": "python"
    }
  },
  "nbformat": 4,
  "nbformat_minor": 0
}
